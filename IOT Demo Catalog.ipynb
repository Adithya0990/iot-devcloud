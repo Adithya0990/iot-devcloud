{
 "cells": [
  {
   "cell_type": "markdown",
   "metadata": {},
   "source": [
    "# Welcome to the IOT Demo Catalog!\n",
    "Here, you will find code of educational exercises. To form the catalog, mouse-click the cell below containing the text `import demoTools.catalog`. Then click the \"Run\" button in the toolbar (or press Ctrl+Enter).\n",
    "\n",
    "If you refreshed the page and the catalog is not showing, go to Kernel->Restart & Clear Output, then try again."
   ]
  },
  {
   "cell_type": "code",
   "execution_count": null,
   "metadata": {},
   "outputs": [],
   "source": [
    "from demoTools.catalog import DemoCatalog\n",
    "cat = DemoCatalog()"
   ]
  }
 ],
 "metadata": {
  "kernelspec": {
   "display_name": "Python 3 (Ubuntu)",
   "language": "python",
   "name": "c003-python_3"
  },
  "language_info": {
   "codemirror_mode": {
    "name": "ipython",
    "version": 3
   },
   "file_extension": ".py",
   "mimetype": "text/x-python",
   "name": "python",
   "nbconvert_exporter": "python",
   "pygments_lexer": "ipython3",
   "version": "3.5.2"
  }
 },
 "nbformat": 4,
 "nbformat_minor": 2
}
