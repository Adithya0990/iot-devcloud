{
 "cells": [
  {
   "cell_type": "markdown",
   "metadata": {},
   "source": [
    "# IOT Demo Catalog"
   ]
  },
  {
   "cell_type": "code",
   "execution_count": 3,
   "metadata": {},
   "outputs": [
    {
     "data": {
      "text/html": [
       "<style>\n",
       "a.big-jupyter-button, button.jupyter-button\n",
       "{\n",
       "    line-height:40px;\n",
       "    height:40px;\n",
       "    display:inline-block;\n",
       "    background-color:#0071c5;\n",
       "    color:white;\n",
       "    border:none;\n",
       "    font-size:100%;\n",
       "    font-weight:bold;\n",
       "    cursor:pointer;\n",
       "    padding-left:1em;\n",
       "    padding-right:1em;\n",
       "    margin-top:10px;\n",
       "    text-decoration:none !important;\n",
       "}\n",
       "a.big-jupyter-button:hover\n",
       "{\n",
       "    -webkit-box-shadow: 0 2px 2px 0 rgba(0, 0, 0, .14), 0 3px 1px -2px rgba(0, 0, 0, .2), 0 1px 5px 0 rgba(0, 0, 0, .12);\n",
       "\n",
       "    box-shadow: 0 2px 2px 0 rgba(0, 0, 0, .14), 0 3px 1px -2px rgba(0, 0, 0, .2), 0 1px 5px 0 rgba(0, 0, 0, .12);\n",
       "}\n",
       "div.ahead > div.p-Collapse > div.p-Collapse-header\n",
       "{\n",
       "    background-color:#8800aa;\n",
       "    color:white;\n",
       "}\n",
       "div.behind > div.p-Collapse > div.p-Collapse-header\n",
       "{\n",
       "    background-color:#ffaa00;\n",
       "    color:white;\n",
       "}\n",
       "div.unable > div.p-Collapse > div.p-Collapse-header\n",
       "{\n",
       "    background-color:#cc0000;\n",
       "    color:white;\n",
       "}\n",
       "div.uptodate > div.p-Collapse > div.p-Collapse-header\n",
       "{\n",
       "    background-color:#008800;\n",
       "    color:white;\n",
       "}\n",
       "</style>"
      ],
      "text/plain": [
       "<IPython.core.display.HTML object>"
      ]
     },
     "metadata": {},
     "output_type": "display_data"
    },
    {
     "data": {
      "application/vnd.jupyter.widget-view+json": {
       "model_id": "ca578d71cb2245d38b0cdce564b82cc1",
       "version_major": 2,
       "version_minor": 0
      },
      "text/plain": [
       "Accordion(children=(VBox(children=(HTML(value='Remote URL: https://github.com/intel-iot-devkit/iot-devcloud.gi…"
      ]
     },
     "metadata": {},
     "output_type": "display_data"
    },
    {
     "data": {
      "text/markdown": [
       "## List of Demos\n",
       "### Flaw Detector Sample\n",
       "\n",
       "The Flaw Detector Sample introduces development with Jupyter* Notebook. The reference sample demonstrates how to use a notebook instance to run inference on a pre-recorded video featuring a series of objects moving on a conveyor belt. Using OpenCV for inference, the sample detects objects and produces an output video indicating the manufacturing flaws.\n",
       "\n",
       "With this reference sample, developers play the output video directly in the notebook instance to see the results.\n",
       "\n",
       "<a href='python/flaw-detector-python/flawdetector-demo.ipynb' target='_blank' class='big-jupyter-button'>Go to Lab: python/flaw-detector-python/flawdetector-demo.ipynb</a>\n",
       "### Object Detection Sample\n",
       "\n",
       "This advanced sample builds on the concepts introduced in the Flaw Detector Sample. The Object Detection Sample introduces the powerful capabilities of the Intel® Distribution of the OpenVINO™ toolkit to perform object detection using pre-trained deep learning models on the Intel® Core™ i5-6500TE,  Intel® Xeon® Processor E3-1268L v5, Intel® HD Graphics 530, or Intel® Movidius™ NCS.\n",
       "\n",
       "The Object Detection Sample provides a short video clip of cars. The sample presents the video frame-by-frame to the Inference Engine (IE) which subsequently uses an optimized trained neural network, mobilenet-ssd, to detect the vehicles. This public model is a mobilenet neural network (SSD – Single Shot MultiBox Detector framework) that has been pre-trained to detect objects in a video clip.\n",
       "\n",
       "\n",
       "The sample illustrates two key CV architecture features:\n",
       "\n",
       "1. Model Optimizer – A cross platform command line tool that accepts pre-trained deep learning models and optimizes them for performance using conservative topology transformations. It performs static model analysis and adjusts deep-learning models for optimal execution on target devices. NOTE: Users must run new pre-trained models through the Model Optimizer before using them. The instructions and diagrams here do not detail this step. To find out more about the Model Optimizer, visit Code Samples.\n",
       "\n",
       "2. Inference - The process of using a trained neural network to interpret data, such as objects in images and video clips.\n",
       "\n",
       "<a href='python/object-detection-python/object_detection_demo.ipynb' target='_blank' class='big-jupyter-button'>Go to Lab: python/object-detection-python/object_detection_demo.ipynb</a>\n",
       "### Store Traffic Monitor\n",
       "\n",
       "The Store Traffic Monitor builds on the two previous examples as an advanced use case. This reference sample show how a user can perform object detection and inference on multiple videos simultaneously. In this use case, the application monitors the activity of people inside and outside an imaginary store front and keeps track of product inventory using a pre-trained neural network for detection.\n",
       "\n",
       "<a href='python/store-traffic-monitor-python/store_traffic_monitor_demo.ipynb' target='_blank' class='big-jupyter-button'>Go to Lab: python/store-traffic-monitor-python/store_traffic_monitor_demo.ipynb</a>\n"
      ],
      "text/plain": [
       "<IPython.core.display.Markdown object>"
      ]
     },
     "metadata": {},
     "output_type": "display_data"
    },
    {
     "data": {
      "text/html": [
       "<a class='autorun-anchor-demoTools/catalog.json'></a>"
      ],
      "text/plain": [
       "<IPython.core.display.HTML object>"
      ]
     },
     "metadata": {},
     "output_type": "display_data"
    },
    {
     "data": {
      "application/javascript": [
       "IPython.notebook.set_autosave_interval(0)"
      ]
     },
     "metadata": {},
     "output_type": "display_data"
    },
    {
     "name": "stdout",
     "output_type": "stream",
     "text": [
      "Autosave disabled\n"
     ]
    }
   ],
   "source": [
    "from demoTools.catalog import DemoCatalog\n",
    "cat = DemoCatalog('demoTools/catalog.json')\n",
    "%autosave 0"
   ]
  },
  {
   "cell_type": "code",
   "execution_count": 2,
   "metadata": {},
   "outputs": [
    {
     "data": {
      "text/html": [
       "<script>function ClickRunGenerate() {  var code_cells = document.getElementsByClassName('code_cell');  if (code_cells.length > 0) {    var i;    for (i = 0; i < code_cells.length; i++) {      var anch = code_cells[i].getElementsByClassName('autorun-anchor-demoTools/catalog.json');      if (anch.length > 0) {        var rtc = code_cells[i].getElementsByClassName('run_this_cell');        if (rtc.length > 0) {          var j;          for (j = 0; j < rtc.length; j++) {            rtc[j].click();          }        }      }    }  }}setTimeout(ClickRunGenerate, 500);</script>"
      ],
      "text/plain": [
       "<IPython.core.display.HTML object>"
      ]
     },
     "metadata": {},
     "output_type": "display_data"
    }
   ],
   "source": [
    "cat.Autorun()"
   ]
  },
  {
   "cell_type": "code",
   "execution_count": 4,
   "metadata": {},
   "outputs": [
    {
     "data": {
      "text/html": [
       "<script>codeShow=true;function CodeToggle() {  if (codeShow) {    $('div.input').hide();  } else {    $('div.input').show();  }  codeShow = !codeShow;}$( document ).ready(code_toggle);</script><form action='javascript:code_toggle()'><input type='submit' value='Show/hide Cells'></form>"
      ],
      "text/plain": [
       "<IPython.core.display.HTML object>"
      ]
     },
     "metadata": {},
     "output_type": "display_data"
    }
   ],
   "source": [
    "cat.ToggleCode()"
   ]
  }
 ],
 "metadata": {
  "kernelspec": {
   "display_name": "Python 3 (Ubuntu)",
   "language": "python",
   "name": "c003-python_3"
  },
  "language_info": {
   "codemirror_mode": {
    "name": "ipython",
    "version": 3
   },
   "file_extension": ".py",
   "mimetype": "text/x-python",
   "name": "python",
   "nbconvert_exporter": "python",
   "pygments_lexer": "ipython3",
   "version": "3.5.2"
  }
 },
 "nbformat": 4,
 "nbformat_minor": 2
}
