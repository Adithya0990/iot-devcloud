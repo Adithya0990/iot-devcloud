{
 "cells": [
  {
   "cell_type": "code",
   "execution_count": null,
   "metadata": {
    "deletable": false,
    "editable": false,
    "scrolled": false
   },
   "outputs": [],
   "source": [
    "################################################################\n",
    "# To see the list of demos, in the menu choose Cell -> Run All #\n",
    "################################################################\n",
    "from demoTools.catalog import DemoCatalog\n",
    "cat = DemoCatalog('demoTools/catalog.json')\n",
    "cat.ShowRepositoryControls()\n",
    "cat.ShowCatalog()\n",
    "%autosave 0"
   ]
  }
 ],
 "metadata": {
  "kernelspec": {
   "display_name": "Python 3 (Ubuntu)",
   "language": "python",
   "name": "c003-python_3"
  },
  "language_info": {
   "codemirror_mode": {
    "name": "ipython",
    "version": 3
   },
   "file_extension": ".py",
   "mimetype": "text/x-python",
   "name": "python",
   "nbconvert_exporter": "python",
   "pygments_lexer": "ipython3",
   "version": "3.5.2"
  }
 },
 "nbformat": 4,
 "nbformat_minor": 2
}
