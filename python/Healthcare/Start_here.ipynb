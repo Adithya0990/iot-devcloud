{
 "cells": [
  {
   "cell_type": "markdown",
   "metadata": {},
   "source": [
    "### Brain Tumor Segmentation Sample\n",
    "\n",
    "The Brain Tumor Segmentation Sample demonstrates the Intel® Distribution of OpenVINO™ toolkit preformance optimization in a healthcare use case. The U-Net architecture is used to model and predict the location of brain tumors.\n",
    "\n",
    "#### This demo has two parts:\n",
    "\n",
    "1. [healthcare_no_openvino](healthcare_no_openvino.ipynb).\n",
    "\n",
    "  This example notebook features the brain tumor segmentation in two cases:\n",
    "        1. Run inference inside conda environment using stock Tensorflow\n",
    "        2. Run inference inside conda environment using Intel optimized Tensorflow and Intel Math Kernel Library (MKL)\n",
    "\n",
    "2. [healthcare_openvino](healthcare_openvino.ipynb). \n",
    "\n",
    "  This example notebook features the brain tumor segmentation using Openvino for model optimization and inference."
   ]
  }
 ],
 "metadata": {
  "kernelspec": {
   "display_name": "Python 3 (Ubuntu)",
   "language": "python",
   "name": "c003-python_3"
  },
  "language_info": {
   "codemirror_mode": {
    "name": "ipython",
    "version": 3
   },
   "file_extension": ".py",
   "mimetype": "text/x-python",
   "name": "python",
   "nbconvert_exporter": "python",
   "pygments_lexer": "ipython3",
   "version": "3.5.2"
  }
 },
 "nbformat": 4,
 "nbformat_minor": 2
}
