{
 "cells": [
  {
   "cell_type": "markdown",
   "metadata": {},
   "source": [
    "# Biomedical Image Segmentation with U-Net"
   ]
  },
  {
   "cell_type": "markdown",
   "metadata": {},
   "source": [
    "## Demonstration objectives\n",
    "* **MKL-DNN** library in action\n",
    "* U-Net based segmentation on edge hardware\n",
    "* Healthcare applications of OpenVINO™"
   ]
  },
  {
   "cell_type": "markdown",
   "metadata": {},
   "source": [
    "In this code example, we apply the U-Net architecture to segment brain tumors from raw MRI scans as shown below. With relatively little data we are able to train a U-Net model to accurately predict where tumors exist. \n",
    "\n",
    "The Dice coefficient (the standard metric for the BraTS dataset used in the study) for our model is about 0.82-0.88.  Menze et al. [reported](http://ieeexplore.ieee.org/document/6975210/) that expert neuroradiologists manually segmented these tumors with a cross-rater Dice score of 0.75-0.85, meaning that the model’s predictions are on par with what expert physicians have made."
   ]
  },
  {
   "cell_type": "markdown",
   "metadata": {},
   "source": [
    "<img src=\"images/figure1.png\">"
   ]
  },
  {
   "cell_type": "markdown",
   "metadata": {},
   "source": [
    "Since its introduction two years ago, the [U-Net](https://arxiv.org/pdf/1505.04597.pdf0) architecture has been used to create deep learning models for segmenting [nerves](https://github.com/jocicmarko/ultrasound-nerve-segmentation) in ultrasound images, [lungs](https://www.kaggle.com/c/data-science-bowl-2017#tutorial) in CT scans, and even [interference](https://github.com/jakeret/tf_unet) in radio telescopes.\n",
    "\n",
    "## What is U-Net?\n",
    "U-Net is designed like an [auto-encoder](https://en.wikipedia.org/wiki/Autoencoder). It has an encoding path (“contracting”) paired with a decoding path (“expanding”) which gives it the “U” shape.  However, in contrast to the autoencoder, U-Net predicts a pixelwise segmentation map of the input image rather than classifying the input image as a whole. For each pixel in the original image, it asks the question: “To which class does this pixel belong?” This flexibility allows U-Net to predict different parts of the tumor simultaneously."
   ]
  },
  {
   "cell_type": "markdown",
   "metadata": {},
   "source": [
    "<img src=\"images/unet.png\">"
   ]
  },
  {
   "cell_type": "markdown",
   "metadata": {},
   "source": [
    "## Step 0: Set Up\n",
    "\n",
    "### 0.1: Import dependencies\n",
    "\n",
    "Run the below cells to import dependencies (select the cell and use **Ctrl+enter** to run the cell). "
   ]
  },
  {
   "cell_type": "code",
   "execution_count": 16,
   "metadata": {},
   "outputs": [],
   "source": [
    "import sys, os \n",
    "import ipywidgets as widgets\n",
    "from pathlib import Path\n",
    "sys.path.insert(0, str(Path().resolve().parent.parent))\n",
    "from demoTools.demoutils import *\n",
    "from IPython.display import display"
   ]
  },
  {
   "cell_type": "markdown",
   "metadata": {},
   "source": [
    "Here we configure MKL-DNN, an OpenVINO™ library that utilizes the full power of Intel® processors. We will setup up both a **stock (MKL-disabled)** and **optimized (MKL-enabled)** version of TensorFlow and the associated conda environments to compare their performance. Note that these steps may take a few minutes as we will be installing packages locally to your computer."
   ]
  },
  {
   "cell_type": "code",
   "execution_count": 2,
   "metadata": {},
   "outputs": [
    {
     "name": "stdout",
     "output_type": "stream",
     "text": [
      "Create stocktf conda environment\n",
      "Collecting package metadata: done\n",
      "Solving environment: done\n",
      "\n",
      "Downloading and Extracting Packages\n",
      "ipython_genutils-0.2 | 39 KB     | ##################################### | 100% \n",
      "pip-19.0.3           | 1.9 MB    | ##################################### | 100% \n",
      "libstdcxx-ng-8.2.0   | 2.9 MB    | ##################################### | 100% \n",
      "pyrsistent-0.14.11   | 90 KB     | ##################################### | 100% \n",
      "certifi-2019.3.9     | 155 KB    | ##################################### | 100% \n",
      "pygments-2.3.1       | 1.4 MB    | ##################################### | 100% \n",
      "bleach-3.1.0         | 226 KB    | ##################################### | 100% \n",
      "nbconvert-5.4.1      | 423 KB    | ##################################### | 100% \n",
      "hdf5-1.10.4          | 5.3 MB    | ##################################### | 100% \n",
      "entrypoints-0.3      | 12 KB     | ##################################### | 100% \n",
      "ptyprocess-0.6.0     | 23 KB     | ##################################### | 100% \n",
      "setuptools-40.8.0    | 647 KB    | ##################################### | 100% \n",
      "mkl_fft-1.0.10       | 170 KB    | ##################################### | 100% \n",
      "numpy-1.16.2         | 49 KB     | ##################################### | 100% \n",
      "tk-8.6.8             | 3.1 MB    | ##################################### | 100% \n",
      "terminado-0.8.1      | 21 KB     | ##################################### | 100% \n",
      "wheel-0.33.1         | 39 KB     | ##################################### | 100% \n",
      "ipykernel-5.1.0      | 156 KB    | ##################################### | 100% \n",
      "zlib-1.2.11          | 120 KB    | ##################################### | 100% \n",
      "jupyter_client-5.2.4 | 128 KB    | ##################################### | 100% \n",
      "gmp-6.1.2            | 744 KB    | ##################################### | 100% \n",
      "nb_conda_kernels-2.2 | 37 KB     | ##################################### | 100% \n",
      "jsonschema-3.0.1     | 88 KB     | ##################################### | 100% \n",
      "libedit-3.1.20181209 | 188 KB    | ##################################### | 100% \n",
      "libffi-3.2.1         | 43 KB     | ##################################### | 100% \n",
      "six-1.12.0           | 22 KB     | ##################################### | 100% \n",
      "defusedxml-0.5.0     | 29 KB     | ##################################### | 100% \n",
      "python-dateutil-2.8. | 281 KB    | ##################################### | 100% \n",
      "python-3.6.8         | 34.4 MB   | ##################################### | 100% \n",
      "xz-5.2.4             | 366 KB    | ##################################### | 100% \n",
      "attrs-19.1.0         | 56 KB     | ##################################### | 100% \n",
      "decorator-4.4.0      | 18 KB     | ##################################### | 100% \n",
      "pandocfilters-1.4.2  | 13 KB     | ##################################### | 100% \n",
      "jedi-0.13.3          | 236 KB    | ##################################### | 100% \n",
      "libgcc-ng-8.2.0      | 7.6 MB    | ##################################### | 100% \n",
      "tqdm-4.31.1          | 69 KB     | ##################################### | 100% \n",
      "mkl_random-1.0.2     | 407 KB    | ##################################### | 100% \n",
      "sqlite-3.27.2        | 1.9 MB    | ##################################### | 100% \n",
      "openssl-1.1.1b       | 4.0 MB    | ##################################### | 100% \n",
      "intel-openmp-2019.3  | 886 KB    | ##################################### | 100% \n",
      "numpy-base-1.16.2    | 4.4 MB    | ##################################### | 100% \n",
      "psutil-5.6.1         | 322 KB    | ##################################### | 100% \n",
      "blas-1.0             | 6 KB      | ##################################### | 100% \n",
      "wcwidth-0.1.7        | 25 KB     | ##################################### | 100% \n",
      "notebook-5.7.8       | 7.3 MB    | ##################################### | 100% \n",
      "h5py-2.9.0           | 1.2 MB    | ##################################### | 100% \n",
      "backcall-0.1.0       | 19 KB     | ##################################### | 100% \n",
      "pickleshare-0.7.5    | 13 KB     | ##################################### | 100% \n",
      "pyzmq-18.0.0         | 518 KB    | ##################################### | 100% \n",
      "webencodings-0.5.1   | 19 KB     | ##################################### | 100% \n",
      "mkl-2019.3           | 203.3 MB  | ##################################### | 100% \n",
      "traitlets-4.3.2      | 133 KB    | ##################################### | 100% \n",
      "mistune-0.8.4        | 54 KB     | ##################################### | 100% \n",
      "libsodium-1.0.16     | 302 KB    | ##################################### | 100% \n",
      "tornado-6.0.2        | 640 KB    | ##################################### | 100% \n",
      "testpath-0.4.2       | 91 KB     | ##################################### | 100% \n",
      "send2trash-1.5.0     | 16 KB     | ##################################### | 100% \n",
      "nb_conda-2.2.1       | 33 KB     | ##################################### | 100% \n",
      "jinja2-2.10          | 184 KB    | ##################################### | 100% \n",
      "zeromq-4.3.1         | 666 KB    | ##################################### | 100% \n",
      "nbformat-4.4.0       | 141 KB    | ##################################### | 100% \n",
      "libgfortran-ng-7.3.0 | 1.3 MB    | ##################################### | 100% \n",
      "markupsafe-1.1.1     | 29 KB     | ##################################### | 100% \n",
      "parso-0.3.4          | 121 KB    | ##################################### | 100% \n",
      "pandoc-2.2.3.2       | 20.8 MB   | ##################################### | 100% \n",
      "jupyter_core-4.4.0   | 63 KB     | ##################################### | 100% \n",
      "pexpect-4.6.0        | 77 KB     | ##################################### | 100% \n",
      "prompt_toolkit-2.0.9 | 493 KB    | ##################################### | 100% \n",
      "ipython-7.4.0        | 1.1 MB    | ##################################### | 100% \n",
      "ca-certificates-2019 | 126 KB    | ##################################### | 100% \n",
      "prometheus_client-0. | 70 KB     | ##################################### | 100% \n",
      "ncurses-6.1          | 958 KB    | ##################################### | 100% \n",
      "readline-7.0         | 392 KB    | ##################################### | 100% \n",
      "Preparing transaction: done\n",
      "Verifying transaction: done\n",
      "Executing transaction: / b'Enabling nb_conda_kernels...\\nStatus: enabled\\n'\n",
      "| b'Enabling notebook extension nb_conda/main...\\n      - Validating: \\x1b[32mOK\\x1b[0m\\nEnabling tree extension nb_conda/tree...\\n      - Validating: \\x1b[32mOK\\x1b[0m\\nEnabling: nb_conda\\n- Writing config: /home/u27467/.conda/envs/stocktf/etc/jupyter\\n    - Validating...\\n      nb_conda 2.2.1 \\x1b[32mOK\\x1b[0m\\n'\n",
      "done\n",
      "Ran pip subprocess with arguments:\n",
      "['/home/u27467/.conda/envs/stocktf/bin/python', '-m', 'pip', 'install', '-U', '-r', '/home/u27467/iot-devcloud/python/Healthcare/condaenv.5p_p69h9.requirements.txt']\n",
      "Pip subprocess output:\n",
      "Collecting absl-py==0.7.1 (from -r /home/u27467/iot-devcloud/python/Healthcare/condaenv.5p_p69h9.requirements.txt (line 1))\n",
      "  Downloading https://files.pythonhosted.org/packages/da/3f/9b0355080b81b15ba6a9ffcf1f5ea39e307a2778b2f2dc8694724e8abd5b/absl-py-0.7.1.tar.gz (99kB)\n",
      "Collecting astor==0.8.0 (from -r /home/u27467/iot-devcloud/python/Healthcare/condaenv.5p_p69h9.requirements.txt (line 2))\n",
      "  Downloading https://files.pythonhosted.org/packages/d1/4f/950dfae467b384fc96bc6469de25d832534f6b4441033c39f914efd13418/astor-0.8.0-py2.py3-none-any.whl\n",
      "Collecting cycler==0.10.0 (from -r /home/u27467/iot-devcloud/python/Healthcare/condaenv.5p_p69h9.requirements.txt (line 3))\n",
      "  Downloading https://files.pythonhosted.org/packages/f7/d2/e07d3ebb2bd7af696440ce7e754c59dd546ffe1bbe732c8ab68b9c834e61/cycler-0.10.0-py2.py3-none-any.whl\n",
      "Collecting gast==0.2.2 (from -r /home/u27467/iot-devcloud/python/Healthcare/condaenv.5p_p69h9.requirements.txt (line 4))\n",
      "  Downloading https://files.pythonhosted.org/packages/4e/35/11749bf99b2d4e3cceb4d55ca22590b0d7c2c62b9de38ac4a4a7f4687421/gast-0.2.2.tar.gz\n",
      "Collecting grpcio==1.21.1 (from -r /home/u27467/iot-devcloud/python/Healthcare/condaenv.5p_p69h9.requirements.txt (line 5))\n",
      "  Downloading https://files.pythonhosted.org/packages/99/83/18f374294bf34128a448ee2fae37651f943b0b5fa473b5b3aff262c15bf8/grpcio-1.21.1-cp36-cp36m-manylinux1_x86_64.whl (2.2MB)\n",
      "Collecting ipywidgets==7.4.2 (from -r /home/u27467/iot-devcloud/python/Healthcare/condaenv.5p_p69h9.requirements.txt (line 6))\n",
      "  Downloading https://files.pythonhosted.org/packages/30/9a/a008c7b1183fac9e52066d80a379b3c64eab535bd9d86cdc29a0b766fd82/ipywidgets-7.4.2-py2.py3-none-any.whl (111kB)\n",
      "Collecting keras==2.2.4 (from -r /home/u27467/iot-devcloud/python/Healthcare/condaenv.5p_p69h9.requirements.txt (line 7))\n",
      "  Downloading https://files.pythonhosted.org/packages/5e/10/aa32dad071ce52b5502266b5c659451cfd6ffcbf14e6c8c4f16c0ff5aaab/Keras-2.2.4-py2.py3-none-any.whl (312kB)\n",
      "Collecting keras-applications==1.0.7 (from -r /home/u27467/iot-devcloud/python/Healthcare/condaenv.5p_p69h9.requirements.txt (line 8))\n",
      "  Downloading https://files.pythonhosted.org/packages/90/85/64c82949765cfb246bbdaf5aca2d55f400f792655927a017710a78445def/Keras_Applications-1.0.7-py2.py3-none-any.whl (51kB)\n",
      "Collecting keras-preprocessing==1.0.9 (from -r /home/u27467/iot-devcloud/python/Healthcare/condaenv.5p_p69h9.requirements.txt (line 9))\n",
      "  Downloading https://files.pythonhosted.org/packages/c0/bf/0315ef6a9fd3fc2346e85b0ff1f5f83ca17073f2c31ac719ab2e4da0d4a3/Keras_Preprocessing-1.0.9-py2.py3-none-any.whl (59kB)\n",
      "Collecting kiwisolver==1.1.0 (from -r /home/u27467/iot-devcloud/python/Healthcare/condaenv.5p_p69h9.requirements.txt (line 10))\n",
      "  Downloading https://files.pythonhosted.org/packages/f8/a1/5742b56282449b1c0968197f63eae486eca2c35dcd334bab75ad524e0de1/kiwisolver-1.1.0-cp36-cp36m-manylinux1_x86_64.whl (90kB)\n",
      "Collecting markdown==3.1.1 (from -r /home/u27467/iot-devcloud/python/Healthcare/condaenv.5p_p69h9.requirements.txt (line 11))\n",
      "  Downloading https://files.pythonhosted.org/packages/c0/4e/fd492e91abdc2d2fcb70ef453064d980688762079397f779758e055f6575/Markdown-3.1.1-py2.py3-none-any.whl (87kB)\n",
      "Collecting matplotlib==3.1.0 (from -r /home/u27467/iot-devcloud/python/Healthcare/condaenv.5p_p69h9.requirements.txt (line 12))\n",
      "  Downloading https://files.pythonhosted.org/packages/da/83/d989ee20c78117c737ab40e0318ea221f1aed4e3f5a40b4f93541b369b93/matplotlib-3.1.0-cp36-cp36m-manylinux1_x86_64.whl (13.1MB)\n",
      "Collecting mock==3.0.5 (from -r /home/u27467/iot-devcloud/python/Healthcare/condaenv.5p_p69h9.requirements.txt (line 13))\n",
      "  Downloading https://files.pythonhosted.org/packages/05/d2/f94e68be6b17f46d2c353564da56e6fb89ef09faeeff3313a046cb810ca9/mock-3.0.5-py2.py3-none-any.whl\n",
      "Collecting protobuf==3.7.1 (from -r /home/u27467/iot-devcloud/python/Healthcare/condaenv.5p_p69h9.requirements.txt (line 14))\n",
      "  Downloading https://files.pythonhosted.org/packages/5a/aa/a858df367b464f5e9452e1c538aa47754d467023850c00b000287750fa77/protobuf-3.7.1-cp36-cp36m-manylinux1_x86_64.whl (1.2MB)\n",
      "Collecting pyparsing==2.4.0 (from -r /home/u27467/iot-devcloud/python/Healthcare/condaenv.5p_p69h9.requirements.txt (line 15))\n",
      "  Downloading https://files.pythonhosted.org/packages/dd/d9/3ec19e966301a6e25769976999bd7bbe552016f0d32b577dc9d63d2e0c49/pyparsing-2.4.0-py2.py3-none-any.whl (62kB)\n",
      "Collecting pyyaml==5.1 (from -r /home/u27467/iot-devcloud/python/Healthcare/condaenv.5p_p69h9.requirements.txt (line 16))\n",
      "  Downloading https://files.pythonhosted.org/packages/9f/2c/9417b5c774792634834e730932745bc09a7d36754ca00acf1ccd1ac2594d/PyYAML-5.1.tar.gz (274kB)\n",
      "Collecting scipy==1.3.0 (from -r /home/u27467/iot-devcloud/python/Healthcare/condaenv.5p_p69h9.requirements.txt (line 17))\n",
      "  Downloading https://files.pythonhosted.org/packages/72/4c/5f81e7264b0a7a8bd570810f48cd346ba36faedbd2ba255c873ad556de76/scipy-1.3.0-cp36-cp36m-manylinux1_x86_64.whl (25.2MB)\n",
      "Collecting tensorboard==1.13.1 (from -r /home/u27467/iot-devcloud/python/Healthcare/condaenv.5p_p69h9.requirements.txt (line 18))\n",
      "  Downloading https://files.pythonhosted.org/packages/0f/39/bdd75b08a6fba41f098b6cb091b9e8c7a80e1b4d679a581a0ccd17b10373/tensorboard-1.13.1-py3-none-any.whl (3.2MB)\n",
      "Collecting tensorflow==1.13.1 (from -r /home/u27467/iot-devcloud/python/Healthcare/condaenv.5p_p69h9.requirements.txt (line 19))\n",
      "  Downloading https://files.pythonhosted.org/packages/77/63/a9fa76de8dffe7455304c4ed635be4aa9c0bacef6e0633d87d5f54530c5c/tensorflow-1.13.1-cp36-cp36m-manylinux1_x86_64.whl (92.5MB)\n",
      "Collecting tensorflow-estimator==1.13.0 (from -r /home/u27467/iot-devcloud/python/Healthcare/condaenv.5p_p69h9.requirements.txt (line 20))\n",
      "  Downloading https://files.pythonhosted.org/packages/bb/48/13f49fc3fa0fdf916aa1419013bb8f2ad09674c275b4046d5ee669a46873/tensorflow_estimator-1.13.0-py2.py3-none-any.whl (367kB)\n",
      "Collecting termcolor==1.1.0 (from -r /home/u27467/iot-devcloud/python/Healthcare/condaenv.5p_p69h9.requirements.txt (line 21))\n",
      "  Downloading https://files.pythonhosted.org/packages/8a/48/a76be51647d0eb9f10e2a4511bf3ffb8cc1e6b14e9e4fab46173aa79f981/termcolor-1.1.0.tar.gz\n",
      "Collecting werkzeug==0.15.4 (from -r /home/u27467/iot-devcloud/python/Healthcare/condaenv.5p_p69h9.requirements.txt (line 22))\n",
      "  Downloading https://files.pythonhosted.org/packages/9f/57/92a497e38161ce40606c27a86759c6b92dd34fcdb33f64171ec559257c02/Werkzeug-0.15.4-py2.py3-none-any.whl (327kB)\n",
      "Collecting widgetsnbextension==3.4.2 (from -r /home/u27467/iot-devcloud/python/Healthcare/condaenv.5p_p69h9.requirements.txt (line 23))\n",
      "  Downloading https://files.pythonhosted.org/packages/8a/81/35789a3952afb48238289171728072d26d6e76649ddc8b3588657a2d78c1/widgetsnbextension-3.4.2-py2.py3-none-any.whl (2.2MB)\n",
      "Requirement already satisfied, skipping upgrade: six in /home/u27467/.conda/envs/stocktf/lib/python3.6/site-packages (from absl-py==0.7.1->-r /home/u27467/iot-devcloud/python/Healthcare/condaenv.5p_p69h9.requirements.txt (line 1)) (1.12.0)\n",
      "Requirement already satisfied, skipping upgrade: traitlets>=4.3.1 in /home/u27467/.conda/envs/stocktf/lib/python3.6/site-packages (from ipywidgets==7.4.2->-r /home/u27467/iot-devcloud/python/Healthcare/condaenv.5p_p69h9.requirements.txt (line 6)) (4.3.2)\n",
      "Requirement already satisfied, skipping upgrade: ipykernel>=4.5.1 in /home/u27467/.conda/envs/stocktf/lib/python3.6/site-packages (from ipywidgets==7.4.2->-r /home/u27467/iot-devcloud/python/Healthcare/condaenv.5p_p69h9.requirements.txt (line 6)) (5.1.0)\n",
      "Requirement already satisfied, skipping upgrade: ipython>=4.0.0; python_version >= \"3.3\" in /home/u27467/.conda/envs/stocktf/lib/python3.6/site-packages (from ipywidgets==7.4.2->-r /home/u27467/iot-devcloud/python/Healthcare/condaenv.5p_p69h9.requirements.txt (line 6)) (7.4.0)\n",
      "Requirement already satisfied, skipping upgrade: nbformat>=4.2.0 in /home/u27467/.conda/envs/stocktf/lib/python3.6/site-packages (from ipywidgets==7.4.2->-r /home/u27467/iot-devcloud/python/Healthcare/condaenv.5p_p69h9.requirements.txt (line 6)) (4.4.0)\n",
      "Requirement already satisfied, skipping upgrade: numpy>=1.9.1 in /home/u27467/.conda/envs/stocktf/lib/python3.6/site-packages (from keras==2.2.4->-r /home/u27467/iot-devcloud/python/Healthcare/condaenv.5p_p69h9.requirements.txt (line 7)) (1.16.2)\n",
      "Requirement already satisfied, skipping upgrade: h5py in /home/u27467/.conda/envs/stocktf/lib/python3.6/site-packages (from keras==2.2.4->-r /home/u27467/iot-devcloud/python/Healthcare/condaenv.5p_p69h9.requirements.txt (line 7)) (2.9.0)\n",
      "Requirement already satisfied, skipping upgrade: setuptools in /home/u27467/.conda/envs/stocktf/lib/python3.6/site-packages (from kiwisolver==1.1.0->-r /home/u27467/iot-devcloud/python/Healthcare/condaenv.5p_p69h9.requirements.txt (line 10)) (40.8.0)\n",
      "Requirement already satisfied, skipping upgrade: python-dateutil>=2.1 in /home/u27467/.conda/envs/stocktf/lib/python3.6/site-packages (from matplotlib==3.1.0->-r /home/u27467/iot-devcloud/python/Healthcare/condaenv.5p_p69h9.requirements.txt (line 12)) (2.8.0)\n",
      "Requirement already satisfied, skipping upgrade: wheel>=0.26; python_version >= \"3\" in /home/u27467/.conda/envs/stocktf/lib/python3.6/site-packages (from tensorboard==1.13.1->-r /home/u27467/iot-devcloud/python/Healthcare/condaenv.5p_p69h9.requirements.txt (line 18)) (0.33.1)\n",
      "Requirement already satisfied, skipping upgrade: notebook>=4.4.1 in /home/u27467/.conda/envs/stocktf/lib/python3.6/site-packages (from widgetsnbextension==3.4.2->-r /home/u27467/iot-devcloud/python/Healthcare/condaenv.5p_p69h9.requirements.txt (line 23)) (5.7.8)\n",
      "Requirement already satisfied, skipping upgrade: decorator in /home/u27467/.conda/envs/stocktf/lib/python3.6/site-packages (from traitlets>=4.3.1->ipywidgets==7.4.2->-r /home/u27467/iot-devcloud/python/Healthcare/condaenv.5p_p69h9.requirements.txt (line 6)) (4.4.0)\n",
      "Requirement already satisfied, skipping upgrade: ipython-genutils in /home/u27467/.conda/envs/stocktf/lib/python3.6/site-packages (from traitlets>=4.3.1->ipywidgets==7.4.2->-r /home/u27467/iot-devcloud/python/Healthcare/condaenv.5p_p69h9.requirements.txt (line 6)) (0.2.0)\n",
      "Requirement already satisfied, skipping upgrade: tornado>=4.2 in /home/u27467/.conda/envs/stocktf/lib/python3.6/site-packages (from ipykernel>=4.5.1->ipywidgets==7.4.2->-r /home/u27467/iot-devcloud/python/Healthcare/condaenv.5p_p69h9.requirements.txt (line 6)) (6.0.2)\n",
      "Requirement already satisfied, skipping upgrade: jupyter-client in /home/u27467/.conda/envs/stocktf/lib/python3.6/site-packages (from ipykernel>=4.5.1->ipywidgets==7.4.2->-r /home/u27467/iot-devcloud/python/Healthcare/condaenv.5p_p69h9.requirements.txt (line 6)) (5.2.4)\n",
      "Requirement already satisfied, skipping upgrade: jedi>=0.10 in /home/u27467/.conda/envs/stocktf/lib/python3.6/site-packages (from ipython>=4.0.0; python_version >= \"3.3\"->ipywidgets==7.4.2->-r /home/u27467/iot-devcloud/python/Healthcare/condaenv.5p_p69h9.requirements.txt (line 6)) (0.13.3)\n",
      "Requirement already satisfied, skipping upgrade: pygments in /home/u27467/.conda/envs/stocktf/lib/python3.6/site-packages (from ipython>=4.0.0; python_version >= \"3.3\"->ipywidgets==7.4.2->-r /home/u27467/iot-devcloud/python/Healthcare/condaenv.5p_p69h9.requirements.txt (line 6)) (2.3.1)\n",
      "Requirement already satisfied, skipping upgrade: prompt-toolkit<2.1.0,>=2.0.0 in /home/u27467/.conda/envs/stocktf/lib/python3.6/site-packages (from ipython>=4.0.0; python_version >= \"3.3\"->ipywidgets==7.4.2->-r /home/u27467/iot-devcloud/python/Healthcare/condaenv.5p_p69h9.requirements.txt (line 6)) (2.0.9)\n",
      "Requirement already satisfied, skipping upgrade: pickleshare in /home/u27467/.conda/envs/stocktf/lib/python3.6/site-packages (from ipython>=4.0.0; python_version >= \"3.3\"->ipywidgets==7.4.2->-r /home/u27467/iot-devcloud/python/Healthcare/condaenv.5p_p69h9.requirements.txt (line 6)) (0.7.5)\n",
      "Requirement already satisfied, skipping upgrade: backcall in /home/u27467/.conda/envs/stocktf/lib/python3.6/site-packages (from ipython>=4.0.0; python_version >= \"3.3\"->ipywidgets==7.4.2->-r /home/u27467/iot-devcloud/python/Healthcare/condaenv.5p_p69h9.requirements.txt (line 6)) (0.1.0)\n",
      "Requirement already satisfied, skipping upgrade: pexpect; sys_platform != \"win32\" in /home/u27467/.conda/envs/stocktf/lib/python3.6/site-packages (from ipython>=4.0.0; python_version >= \"3.3\"->ipywidgets==7.4.2->-r /home/u27467/iot-devcloud/python/Healthcare/condaenv.5p_p69h9.requirements.txt (line 6)) (4.6.0)\n",
      "Requirement already satisfied, skipping upgrade: jsonschema!=2.5.0,>=2.4 in /home/u27467/.conda/envs/stocktf/lib/python3.6/site-packages (from nbformat>=4.2.0->ipywidgets==7.4.2->-r /home/u27467/iot-devcloud/python/Healthcare/condaenv.5p_p69h9.requirements.txt (line 6)) (3.0.1)\n",
      "Requirement already satisfied, skipping upgrade: jupyter-core in /home/u27467/.conda/envs/stocktf/lib/python3.6/site-packages (from nbformat>=4.2.0->ipywidgets==7.4.2->-r /home/u27467/iot-devcloud/python/Healthcare/condaenv.5p_p69h9.requirements.txt (line 6)) (4.4.0)\n",
      "Requirement already satisfied, skipping upgrade: nbconvert in /home/u27467/.conda/envs/stocktf/lib/python3.6/site-packages (from notebook>=4.4.1->widgetsnbextension==3.4.2->-r /home/u27467/iot-devcloud/python/Healthcare/condaenv.5p_p69h9.requirements.txt (line 23)) (5.4.1)\n",
      "Requirement already satisfied, skipping upgrade: terminado>=0.8.1 in /home/u27467/.conda/envs/stocktf/lib/python3.6/site-packages (from notebook>=4.4.1->widgetsnbextension==3.4.2->-r /home/u27467/iot-devcloud/python/Healthcare/condaenv.5p_p69h9.requirements.txt (line 23)) (0.8.1)\n",
      "Requirement already satisfied, skipping upgrade: prometheus-client in /home/u27467/.conda/envs/stocktf/lib/python3.6/site-packages (from notebook>=4.4.1->widgetsnbextension==3.4.2->-r /home/u27467/iot-devcloud/python/Healthcare/condaenv.5p_p69h9.requirements.txt (line 23)) (0.6.0)\n",
      "Requirement already satisfied, skipping upgrade: Send2Trash in /home/u27467/.conda/envs/stocktf/lib/python3.6/site-packages (from notebook>=4.4.1->widgetsnbextension==3.4.2->-r /home/u27467/iot-devcloud/python/Healthcare/condaenv.5p_p69h9.requirements.txt (line 23)) (1.5.0)\n",
      "Requirement already satisfied, skipping upgrade: jinja2 in /home/u27467/.conda/envs/stocktf/lib/python3.6/site-packages (from notebook>=4.4.1->widgetsnbextension==3.4.2->-r /home/u27467/iot-devcloud/python/Healthcare/condaenv.5p_p69h9.requirements.txt (line 23)) (2.10)\n",
      "Requirement already satisfied, skipping upgrade: pyzmq>=17 in /home/u27467/.conda/envs/stocktf/lib/python3.6/site-packages (from notebook>=4.4.1->widgetsnbextension==3.4.2->-r /home/u27467/iot-devcloud/python/Healthcare/condaenv.5p_p69h9.requirements.txt (line 23)) (18.0.0)\n",
      "Requirement already satisfied, skipping upgrade: parso>=0.3.0 in /home/u27467/.conda/envs/stocktf/lib/python3.6/site-packages (from jedi>=0.10->ipython>=4.0.0; python_version >= \"3.3\"->ipywidgets==7.4.2->-r /home/u27467/iot-devcloud/python/Healthcare/condaenv.5p_p69h9.requirements.txt (line 6)) (0.3.4)\n",
      "Requirement already satisfied, skipping upgrade: wcwidth in /home/u27467/.conda/envs/stocktf/lib/python3.6/site-packages (from prompt-toolkit<2.1.0,>=2.0.0->ipython>=4.0.0; python_version >= \"3.3\"->ipywidgets==7.4.2->-r /home/u27467/iot-devcloud/python/Healthcare/condaenv.5p_p69h9.requirements.txt (line 6)) (0.1.7)\n",
      "Requirement already satisfied, skipping upgrade: ptyprocess>=0.5 in /home/u27467/.conda/envs/stocktf/lib/python3.6/site-packages (from pexpect; sys_platform != \"win32\"->ipython>=4.0.0; python_version >= \"3.3\"->ipywidgets==7.4.2->-r /home/u27467/iot-devcloud/python/Healthcare/condaenv.5p_p69h9.requirements.txt (line 6)) (0.6.0)\n",
      "Requirement already satisfied, skipping upgrade: attrs>=17.4.0 in /home/u27467/.conda/envs/stocktf/lib/python3.6/site-packages (from jsonschema!=2.5.0,>=2.4->nbformat>=4.2.0->ipywidgets==7.4.2->-r /home/u27467/iot-devcloud/python/Healthcare/condaenv.5p_p69h9.requirements.txt (line 6)) (19.1.0)\n",
      "Requirement already satisfied, skipping upgrade: pyrsistent>=0.14.0 in /home/u27467/.conda/envs/stocktf/lib/python3.6/site-packages (from jsonschema!=2.5.0,>=2.4->nbformat>=4.2.0->ipywidgets==7.4.2->-r /home/u27467/iot-devcloud/python/Healthcare/condaenv.5p_p69h9.requirements.txt (line 6)) (0.14.11)\n",
      "Requirement already satisfied, skipping upgrade: mistune>=0.8.1 in /home/u27467/.conda/envs/stocktf/lib/python3.6/site-packages (from nbconvert->notebook>=4.4.1->widgetsnbextension==3.4.2->-r /home/u27467/iot-devcloud/python/Healthcare/condaenv.5p_p69h9.requirements.txt (line 23)) (0.8.4)\n",
      "Requirement already satisfied, skipping upgrade: entrypoints>=0.2.2 in /home/u27467/.conda/envs/stocktf/lib/python3.6/site-packages (from nbconvert->notebook>=4.4.1->widgetsnbextension==3.4.2->-r /home/u27467/iot-devcloud/python/Healthcare/condaenv.5p_p69h9.requirements.txt (line 23)) (0.3)\n",
      "Requirement already satisfied, skipping upgrade: bleach in /home/u27467/.conda/envs/stocktf/lib/python3.6/site-packages (from nbconvert->notebook>=4.4.1->widgetsnbextension==3.4.2->-r /home/u27467/iot-devcloud/python/Healthcare/condaenv.5p_p69h9.requirements.txt (line 23)) (3.1.0)\n",
      "Requirement already satisfied, skipping upgrade: pandocfilters>=1.4.1 in /home/u27467/.conda/envs/stocktf/lib/python3.6/site-packages (from nbconvert->notebook>=4.4.1->widgetsnbextension==3.4.2->-r /home/u27467/iot-devcloud/python/Healthcare/condaenv.5p_p69h9.requirements.txt (line 23)) (1.4.2)\n",
      "Requirement already satisfied, skipping upgrade: testpath in /home/u27467/.conda/envs/stocktf/lib/python3.6/site-packages (from nbconvert->notebook>=4.4.1->widgetsnbextension==3.4.2->-r /home/u27467/iot-devcloud/python/Healthcare/condaenv.5p_p69h9.requirements.txt (line 23)) (0.4.2)\n",
      "Requirement already satisfied, skipping upgrade: defusedxml in /home/u27467/.conda/envs/stocktf/lib/python3.6/site-packages (from nbconvert->notebook>=4.4.1->widgetsnbextension==3.4.2->-r /home/u27467/iot-devcloud/python/Healthcare/condaenv.5p_p69h9.requirements.txt (line 23)) (0.5.0)\n",
      "Requirement already satisfied, skipping upgrade: MarkupSafe>=0.23 in /home/u27467/.conda/envs/stocktf/lib/python3.6/site-packages (from jinja2->notebook>=4.4.1->widgetsnbextension==3.4.2->-r /home/u27467/iot-devcloud/python/Healthcare/condaenv.5p_p69h9.requirements.txt (line 23)) (1.1.1)\n",
      "Requirement already satisfied, skipping upgrade: webencodings in /home/u27467/.conda/envs/stocktf/lib/python3.6/site-packages (from bleach->nbconvert->notebook>=4.4.1->widgetsnbextension==3.4.2->-r /home/u27467/iot-devcloud/python/Healthcare/condaenv.5p_p69h9.requirements.txt (line 23)) (0.5.1)\n",
      "Building wheels for collected packages: absl-py, gast, pyyaml, termcolor\n",
      "  Building wheel for absl-py (setup.py): started\n",
      "  Building wheel for absl-py (setup.py): finished with status 'done'\n",
      "  Stored in directory: /home/u27467/.cache/pip/wheels/ee/98/38/46cbcc5a93cfea5492d19c38562691ddb23b940176c14f7b48\n",
      "  Building wheel for gast (setup.py): started\n",
      "  Building wheel for gast (setup.py): finished with status 'done'\n",
      "  Stored in directory: /home/u27467/.cache/pip/wheels/5c/2e/7e/a1d4d4fcebe6c381f378ce7743a3ced3699feb89bcfbdadadd\n",
      "  Building wheel for pyyaml (setup.py): started\n",
      "  Building wheel for pyyaml (setup.py): finished with status 'done'\n",
      "  Stored in directory: /home/u27467/.cache/pip/wheels/ad/56/bc/1522f864feb2a358ea6f1a92b4798d69ac783a28e80567a18b\n",
      "  Building wheel for termcolor (setup.py): started\n",
      "  Building wheel for termcolor (setup.py): finished with status 'done'\n",
      "  Stored in directory: /home/u27467/.cache/pip/wheels/7c/06/54/bc84598ba1daf8f970247f550b175aaaee85f68b4b0c5ab2c6\n",
      "Successfully built absl-py gast pyyaml termcolor\n",
      "Installing collected packages: absl-py, astor, cycler, gast, grpcio, widgetsnbextension, ipywidgets, keras-preprocessing, keras-applications, scipy, pyyaml, keras, kiwisolver, markdown, pyparsing, matplotlib, mock, protobuf, werkzeug, tensorboard, tensorflow-estimator, termcolor, tensorflow\n",
      "Successfully installed absl-py-0.7.1 astor-0.8.0 cycler-0.10.0 gast-0.2.2 grpcio-1.21.1 ipywidgets-7.4.2 keras-2.2.4 keras-applications-1.0.7 keras-preprocessing-1.0.9 kiwisolver-1.1.0 markdown-3.1.1 matplotlib-3.1.0 mock-3.0.5 protobuf-3.7.1 pyparsing-2.4.0 pyyaml-5.1 scipy-1.3.0 tensorboard-1.13.1 tensorflow-1.13.1 tensorflow-estimator-1.13.0 termcolor-1.1.0 werkzeug-0.15.4 widgetsnbextension-3.4.2\n",
      "\n",
      "#\n",
      "# To activate this environment, use:\n",
      "# > conda activate stocktf\n",
      "#\n",
      "# To deactivate an active environment, use:\n",
      "# > conda deactivate\n",
      "#\n",
      "\n"
     ]
    }
   ],
   "source": [
    "#Check if conda env with stock tensorflow already exists\n",
    "stocktf_exist = !/glob/supplementary-software/versions/Miniconda/miniconda3/condabin/conda info --envs | grep \"stocktf \"\n",
    "if not stocktf_exist:\n",
    "    print(\"Create stocktf conda environment\")\n",
    "    !/glob/supplementary-software/versions/Miniconda/miniconda3/condabin/conda config --set auto_activate_base false\n",
    "    !/glob/supplementary-software/versions/Miniconda/miniconda3/condabin/conda env create -f \"stocktf.yml\"\n",
    "else:\n",
    "    print(\"stocktf conda environment exists\")"
   ]
  },
  {
   "cell_type": "code",
   "execution_count": 3,
   "metadata": {},
   "outputs": [
    {
     "name": "stdout",
     "output_type": "stream",
     "text": [
      "Writing healthcare_job_stocktf.sh\n"
     ]
    }
   ],
   "source": [
    "%%writefile healthcare_job_stocktf.sh\n",
    "\n",
    "cd $PBS_O_WORKDIR \n",
    "# Running the code inside stocktf conda env\n",
    "SAMPLEPATH=$PBS_O_WORKDIR\n",
    "export PATH=/glob/supplementary-software/versions/Miniconda/miniconda3/condabin:$PATH\n",
    "source /glob/supplementary-software/versions/Miniconda/miniconda3/etc/profile.d/conda.sh\n",
    "conda activate stocktf\n",
    "python3 healthcare_no_openvino.py -r $1\n",
    "conda deactivate"
   ]
  },
  {
   "cell_type": "code",
   "execution_count": 4,
   "metadata": {},
   "outputs": [
    {
     "name": "stdout",
     "output_type": "stream",
     "text": [
      "Create mkltf conda environment\n",
      "Collecting package metadata: done\n",
      "Solving environment: done\n",
      "\n",
      "Downloading and Extracting Packages\n",
      "libtool-2.4.6        | 512 KB    | ##################################### | 100% \n",
      "pydotplus-2.0.2      | 42 KB     | ##################################### | 100% \n",
      "qt-5.6.2             | 44.6 MB   | ##################################### | 100% \n",
      "libopenblas-0.2.20   | 8.8 MB    | ##################################### | 100% \n",
      "tensorflow-base-1.12 | 98.5 MB   | ##################################### | 100% \n",
      "liblapack-3.8.0      | 6 KB      | ##################################### | 100% \n",
      "setuptools-40.8.0    | 626 KB    | ##################################### | 100% \n",
      "libiconv-1.15        | 2.0 MB    | ##################################### | 100% \n",
      "python-3.6.6         | 29.0 MB   | ##################################### | 100% \n",
      "grpcio-1.16.0        | 1.0 MB    | ##################################### | 100% \n",
      "xorg-libxrender-0.9. | 31 KB     | ##################################### | 100% \n",
      "giflib-5.1.9         | 108 KB    | ##################################### | 100% \n",
      "cycler-0.10.0        | 14 KB     | ##################################### | 100% \n",
      "gobject-introspectio | 1.2 MB    | ##################################### | 100% \n",
      "sip-4.19.8           | 290 KB    | ##################################### | 100% \n",
      "gstreamer-1.14.4     | 4.5 MB    | ##################################### | 100% \n",
      "pydot-1.3.0          | 40 KB     | ##################################### | 100% \n",
      "jupyter-1.0.0        | 6 KB      | ##################################### | 100% \n",
      "keras-applications-1 | 30 KB     | ##################################### | 100% \n",
      "xorg-kbproto-1.0.7   | 26 KB     | ##################################### | 100% \n",
      "harfbuzz-2.4.0       | 1.5 MB    | ##################################### | 100% \n",
      "nettle-3.4.1         | 5.7 MB    | ##################################### | 100% \n",
      "traitlets-4.3.2      | 131 KB    | ##################################### | 100% \n",
      "openh264-1.8.0       | 1.4 MB    | ##################################### | 100% \n",
      "xorg-libsm-1.2.3     | 25 KB     | ##################################### | 100% \n",
      "xorg-libxt-1.1.5     | 367 KB    | ##################################### | 100% \n",
      "protobuf-3.6.1       | 616 KB    | ##################################### | 100% \n",
      "jasper-1.900.1       | 286 KB    | ##################################### | 100% \n",
      "c-ares-1.15.0        | 98 KB     | ##################################### | 100% \n",
      "jpeg-9c              | 251 KB    | ##################################### | 100% \n",
      "atk-2.25.90          | 430 KB    | ##################################### | 100% \n",
      "ipython_genutils-0.2 | 36 KB     | ##################################### | 100% \n",
      "pyqt-5.6.0           | 5.4 MB    | ##################################### | 100% \n",
      "werkzeug-0.14.1      | 423 KB    | ##################################### | 100% \n",
      "fontconfig-2.13.1    | 327 KB    | ##################################### | 100% \n",
      "pyparsing-2.3.1      | 105 KB    | ##################################### | 100% \n",
      "libtiff-4.0.10       | 604 KB    | ##################################### | 100% \n",
      "ca-certificates-2019 | 146 KB    | ##################################### | 100% \n",
      "astor-0.7.1          | 43 KB     | ##################################### | 100% \n",
      "liblapacke-3.8.0     | 6 KB      | ##################################### | 100% \n",
      "icu-58.2             | 22.5 MB   | ##################################### | 100% \n",
      "ptyprocess-0.6.0     | 22 KB     | ##################################### | 100% \n",
      "jinja2-2.10          | 183 KB    | ##################################### | 100% \n",
      "xorg-renderproto-0.1 | 8 KB      | ##################################### | 100% \n",
      "pcre-8.43            | 260 KB    | ##################################### | 100% \n",
      "notebook-5.7.8       | 7.2 MB    | ##################################### | 100% \n",
      "blas-2.5             | 6 KB      | ##################################### | 100% \n",
      "networkx-2.3         | 1.1 MB    | ##################################### | 100% \n",
      "nbformat-4.4.0       | 140 KB    | ##################################### | 100% \n",
      "gnutls-3.6.5         | 2.1 MB    | ##################################### | 100% \n",
      "graphite2-1.3.13     | 101 KB    | ##################################### | 100% \n",
      "gettext-0.19.8.1     | 3.6 MB    | ##################################### | 100% \n",
      "numpy-base-1.14.3    | 4.1 MB    | ##################################### | 100% \n",
      "libwebp-1.0.2        | 920 KB    | ##################################### | 100% \n",
      "openssl-1.0.2r       | 3.1 MB    | ##################################### | 100% \n",
      "lame-3.100           | 498 KB    | ##################################### | 100% \n",
      "libcblas-3.8.0       | 6 KB      | ##################################### | 100% \n",
      "libgcc-7.2.0         | 304 KB    | ##################################### | 100% \n",
      "jedi-0.13.3          | 230 KB    | ##################################### | 100% \n",
      "xorg-xextproto-7.3.0 | 27 KB     | ##################################### | 100% \n",
      "bzip2-1.0.6          | 415 KB    | ##################################### | 100% \n",
      "qtconsole-4.4.3      | 157 KB    | ##################################### | 100% \n",
      "libxml2-2.9.9        | 2.0 MB    | ##################################### | 100% \n",
      "pip-19.0.3           | 1.8 MB    | ##################################### | 100% \n",
      "ipywidgets-7.4.2     | 151 KB    | ##################################### | 100% \n",
      "tensorboard-1.12.2   | 3.1 MB    | ##################################### | 100% \n",
      "libxcb-1.13          | 502 KB    | ##################################### | 100% \n",
      "keras-2.2.4          | 5 KB      | ##################################### | 100% \n",
      "matplotlib-2.2.2     | 6.6 MB    | ##################################### | 100% \n",
      "libuuid-2.32.1       | 26 KB     | ##################################### | 100% \n",
      "xorg-libx11-1.6.7    | 940 KB    | ##################################### | 100% \n",
      "kiwisolver-1.0.1     | 83 KB     | ##################################### | 100% \n",
      "pango-1.40.14        | 524 KB    | ##################################### | 100% \n",
      "_tflow_select-2.3.0  | 2 KB      | ##################################### | 100% \n",
      "pyyaml-5.1           | 188 KB    | ##################################### | 100% \n",
      "pytz-2018.9          | 260 KB    | ##################################### | 100% \n",
      "opencv-4.1.0         | 56.9 MB   | ##################################### | 100% \n",
      "jsonschema-3.0.1     | 84 KB     | ##################################### | 100% \n",
      "scipy-1.2.1          | 18.1 MB   | ##################################### | 100% \n",
      "expat-2.2.6          | 187 KB    | ##################################### | 100% \n",
      "certifi-2019.3.9     | 149 KB    | ##################################### | 100% \n",
      "openblas-0.3.5       | 15.8 MB   | ##################################### | 100% \n",
      "wheel-0.33.1         | 34 KB     | ##################################### | 100% \n",
      "xorg-libice-1.0.9    | 58 KB     | ##################################### | 100% \n",
      "gst-plugins-base-1.1 | 6.7 MB    | ##################################### | 100% \n",
      "tensorflow-1.12.0    | 4 KB      | ##################################### | 100% \n",
      "mkl_random-1.0.2     | 1.3 MB    | ##################################### | 100% \n",
      "zstd-1.3.7           | 887 KB    | ##################################### | 100% \n",
      "fribidi-1.0.5        | 112 KB    | ##################################### | 100% \n",
      "numpy-1.16.3         | 4.3 MB    | ##################################### | 100% \n",
      "yaml-0.1.7           | 84 KB     | ##################################### | 100% \n",
      "x264-1!152.20180806  | 1.4 MB    | ##################################### | 100% \n",
      "wcwidth-0.1.7        | 23 KB     | ##################################### | 100% \n",
      "termcolor-1.1.0      | 6 KB      | ##################################### | 100% \n",
      "libprotobuf-3.6.1    | 4.1 MB    | ##################################### | 100% \n",
      "markdown-3.0.1       | 107 KB    | ##################################### | 100% \n",
      "libblas-3.8.0        | 6 KB      | ##################################### | 100% \n",
      "pickleshare-0.7.5    | 11 KB     | ##################################### | 100% \n",
      "pexpect-4.6.0        | 74 KB     | ##################################### | 100% \n",
      "graphviz-2.40.1      | 6.8 MB    | ##################################### | 100% \n",
      "keras-base-2.2.4     | 457 KB    | ##################################### | 100% \n",
      "glib-2.58.3          | 3.3 MB    | ##################################### | 100% \n",
      "xorg-libxpm-3.5.12   | 64 KB     | ##################################### | 100% \n",
      "gtk2-2.24.31         | 7.3 MB    | ##################################### | 100% \n",
      "nb_conda-2.2.1       | 32 KB     | ##################################### | 100% \n",
      "widgetsnbextension-3 | 1.7 MB    | ##################################### | 100% \n",
      "libpng-1.6.36        | 346 KB    | ##################################### | 100% \n",
      "freetype-2.9.1       | 822 KB    | ##################################### | 100% \n",
      "dbus-1.13.0          | 558 KB    | ##################################### | 100% \n",
      "xorg-xproto-7.0.31   | 72 KB     | ##################################### | 100% \n",
      "ffmpeg-4.1.1         | 76.0 MB   | ##################################### | 100% \n",
      "xorg-libxext-1.3.4   | 51 KB     | ##################################### | 100% \n",
      "pixman-0.34.0        | 595 KB    | ##################################### | 100% \n",
      "absl-py-0.7.0        | 156 KB    | ##################################### | 100% \n",
      "jupyter_console-6.0. | 35 KB     | ##################################### | 100% \n",
      "terminado-0.8.1      | 22 KB     | ##################################### | 100% \n",
      "keras-preprocessing- | 32 KB     | ##################################### | 100% \n",
      "testpath-0.4.2       | 91 KB     | ##################################### | 100% \n",
      "gdk-pixbuf-2.36.12   | 592 KB    | ##################################### | 100% \n",
      "gast-0.2.2           | 138 KB    | ##################################### | 100% \n",
      "cairo-1.16.0         | 1.5 MB    | ##################################### | 100% \n",
      "mkl_fft-1.0.10       | 650 KB    | ##################################### | 100% \n",
      "Preparing transaction: done\n",
      "Verifying transaction: done\n",
      "Executing transaction: | b'Enabling nb_conda_kernels...\\nStatus: enabled\\n'\n",
      "/ b'Enabling notebook extension jupyter-js-widgets/extension...\\n      - Validating: \\x1b[32mOK\\x1b[0m\\n'\n",
      "/ b'Enabling notebook extension nb_conda/main...\\n      - Validating: \\x1b[32mOK\\x1b[0m\\nEnabling tree extension nb_conda/tree...\\n      - Validating: \\x1b[32mOK\\x1b[0m\\nEnabling: nb_conda\\n- Writing config: /home/u27467/.conda/envs/mkltf/etc/jupyter\\n    - Validating...\\n      nb_conda 2.2.1 \\x1b[32mOK\\x1b[0m\\n'\n",
      "done\n",
      "#\n",
      "# To activate this environment, use:\n",
      "# > conda activate mkltf\n",
      "#\n",
      "# To deactivate an active environment, use:\n",
      "# > conda deactivate\n",
      "#\n",
      "\n"
     ]
    }
   ],
   "source": [
    "#Check if conda env with optimized tensorflow using mkl already exists\n",
    "mkltf_exist = !/glob/supplementary-software/versions/Miniconda/miniconda3/condabin/conda info --envs | grep \"mkltf \"\n",
    "if not mkltf_exist:\n",
    "    print(\"Create mkltf conda environment\")\n",
    "    !/glob/supplementary-software/versions/Miniconda/miniconda3/condabin/conda config --set auto_activate_base false\n",
    "    !/glob/supplementary-software/versions/Miniconda/miniconda3/condabin/conda env create -f \"mkltf.yml\"\n",
    "else:\n",
    "    print(\"mkltf conda environment exists\")"
   ]
  },
  {
   "cell_type": "markdown",
   "metadata": {},
   "source": [
    "## Step 1. Load the MKL-DNN Model\n",
    "We will load the MKL-DNN model into our virtual conda environment by running a Python file.   "
   ]
  },
  {
   "cell_type": "code",
   "execution_count": 5,
   "metadata": {},
   "outputs": [
    {
     "name": "stdout",
     "output_type": "stream",
     "text": [
      "Writing healthcare_job_mkltf.sh\n"
     ]
    }
   ],
   "source": [
    "%%writefile healthcare_job_mkltf.sh\n",
    "\n",
    "cd $PBS_O_WORKDIR \n",
    "# Running the code inside mkltf conda env\n",
    "SAMPLEPATH=$PBS_O_WORKDIR\n",
    "export PATH=/glob/supplementary-software/versions/Miniconda/miniconda3/condabin:$PATH\n",
    "source /glob/supplementary-software/versions/Miniconda/miniconda3/etc/profile.d/conda.sh\n",
    "conda activate mkltf\n",
    "python3 healthcare_no_openvino.py -r $1 \n",
    "conda deactivate"
   ]
  },
  {
   "cell_type": "markdown",
   "metadata": {},
   "source": [
    "## Step 2. Inference Time!\n",
    "Here we create job files and submit them to different edge compute nodes. They will go into a queue and run once the compute resources are available. "
   ]
  },
  {
   "cell_type": "markdown",
   "metadata": {},
   "source": [
    "#### Submitting to an edge compute node with an Intel® CPU\n",
    "In the cell below, we submit a job to an <a \n",
    "    href=\"https://software.intel.com/en-us/iot/hardware/iei-tank-dev-kit-core\">IEI \n",
    "    Tank* 870-Q170</a> edge node with an <a \n",
    "    href=\"https://ark.intel.com/products/88186/Intel-Core-i5-6500TE-Processor-6M-Cache-up-to-3-30-GHz-\">Intel® Core™ i5-6500TE processor</a>. The inference workload will run the CPU inside stocktf conda environment."
   ]
  },
  {
   "cell_type": "code",
   "execution_count": 6,
   "metadata": {},
   "outputs": [
    {
     "name": "stdout",
     "output_type": "stream",
     "text": [
      "25369.c003\n"
     ]
    },
    {
     "data": {
      "application/vnd.jupyter.widget-view+json": {
       "model_id": "f1b78b24c3674218b695e6a8ebfb098b",
       "version_major": 2,
       "version_minor": 0
      },
      "text/plain": [
       "HBox(children=(FloatProgress(value=0.0, bar_style='info', description='Processing', style=ProgressStyle(descri…"
      ]
     },
     "metadata": {},
     "output_type": "display_data"
    }
   ],
   "source": [
    "core_stocktf = !qsub healthcare_job_stocktf.sh -l nodes=1:tank-870:i5-6500te  -F \"results/\"\n",
    "print(core_stocktf[0]) \n",
    "if core_stocktf:\n",
    "    progressIndicator('results/'+core_stocktf[0], 'i_progress.txt', \"Processing\", 0, 100)"
   ]
  },
  {
   "cell_type": "markdown",
   "metadata": {},
   "source": [
    "#### Submitting to an edge compute node with Intel® Xeon® CPU\n",
    "In the cell below, we submit a job to an <a \n",
    "    href=\"https://software.intel.com/en-us/iot/hardware/iei-tank-dev-kit-core\">IEI \n",
    "    Tank* 870-Q170</a> edge node with an <a \n",
    "    href=\"https://ark.intel.com/products/88178/Intel-Xeon-Processor-E3-1268L-v5-8M-Cache-2-40-GHz-\">Intel® \n",
    "    Xeon® Processor E3-1268L v5</a>. The inference workload will run on the CPU inside stocktf conda environment."
   ]
  },
  {
   "cell_type": "code",
   "execution_count": 7,
   "metadata": {},
   "outputs": [
    {
     "name": "stdout",
     "output_type": "stream",
     "text": [
      "25370.c003\n"
     ]
    },
    {
     "data": {
      "application/vnd.jupyter.widget-view+json": {
       "model_id": "9a0bc95e0acd45a2a7980b80e0ef881d",
       "version_major": 2,
       "version_minor": 0
      },
      "text/plain": [
       "HBox(children=(FloatProgress(value=0.0, bar_style='info', description='Processing', style=ProgressStyle(descri…"
      ]
     },
     "metadata": {},
     "output_type": "display_data"
    }
   ],
   "source": [
    "#Submit job to the queue\n",
    "xeon_stocktf = !qsub healthcare_job_stocktf.sh -l nodes=1:tank-870:e3-1268l-v5 -F \"results/\"\n",
    "print(xeon_stocktf[0]) \n",
    "if xeon_stocktf:\n",
    "    progressIndicator('results/'+xeon_stocktf[0], 'i_progress.txt', \"Processing\", 0, 100)"
   ]
  },
  {
   "cell_type": "markdown",
   "metadata": {},
   "source": [
    "#### Submitting to an edge compute node with an Intel® CPU\n",
    "In the cell below, we submit a job to an <a \n",
    "    href=\"https://software.intel.com/en-us/iot/hardware/iei-tank-dev-kit-core\">IEI \n",
    "    Tank* 870-Q170</a> edge node with an <a \n",
    "    href=\"https://ark.intel.com/products/88186/Intel-Core-i5-6500TE-Processor-6M-Cache-up-to-3-30-GHz-\">Intel® Core™ i5-6500TE processor</a>. The inference workload will run the CPU inside mkltf conda environment."
   ]
  },
  {
   "cell_type": "code",
   "execution_count": 8,
   "metadata": {},
   "outputs": [
    {
     "name": "stdout",
     "output_type": "stream",
     "text": [
      "25371.c003\n"
     ]
    },
    {
     "data": {
      "application/vnd.jupyter.widget-view+json": {
       "model_id": "fa7be4a98caf40f0a4aab583e47664cf",
       "version_major": 2,
       "version_minor": 0
      },
      "text/plain": [
       "HBox(children=(FloatProgress(value=0.0, bar_style='info', description='Processing', style=ProgressStyle(descri…"
      ]
     },
     "metadata": {},
     "output_type": "display_data"
    }
   ],
   "source": [
    "core_mkltf = !qsub healthcare_job_mkltf.sh -l nodes=1:tank-870:i5-6500te  -F \"results/\"\n",
    "print(core_mkltf[0]) \n",
    "if core_mkltf:\n",
    "    progressIndicator('results/'+core_mkltf[0], 'i_progress.txt', \"Processing\", 0, 100)"
   ]
  },
  {
   "cell_type": "markdown",
   "metadata": {},
   "source": [
    "#### Submitting to an edge compute node with Intel® Xeon® CPU\n",
    "In the cell below, we submit a job to an <a \n",
    "    href=\"https://software.intel.com/en-us/iot/hardware/iei-tank-dev-kit-core\">IEI \n",
    "    Tank* 870-Q170</a> edge node with an <a \n",
    "    href=\"https://ark.intel.com/products/88178/Intel-Xeon-Processor-E3-1268L-v5-8M-Cache-2-40-GHz-\">Intel® \n",
    "    Xeon® Processor E3-1268L v5</a>. The inference workload will run on the CPU inside mkltf conda environment."
   ]
  },
  {
   "cell_type": "code",
   "execution_count": 9,
   "metadata": {},
   "outputs": [
    {
     "name": "stdout",
     "output_type": "stream",
     "text": [
      "25372.c003\n"
     ]
    },
    {
     "data": {
      "application/vnd.jupyter.widget-view+json": {
       "model_id": "90e653ce39ce447f8fd255f6d945ac36",
       "version_major": 2,
       "version_minor": 0
      },
      "text/plain": [
       "HBox(children=(FloatProgress(value=0.0, bar_style='info', description='Processing', style=ProgressStyle(descri…"
      ]
     },
     "metadata": {},
     "output_type": "display_data"
    }
   ],
   "source": [
    "#Submit job to the queue\n",
    "xeon_mkltf = !qsub healthcare_job_mkltf.sh -l nodes=1:tank-870:e3-1268l-v5  -F \"results/\"\n",
    "print(xeon_mkltf[0]) \n",
    "if xeon_mkltf:\n",
    "    progressIndicator('results/'+xeon_mkltf[0], 'i_progress.txt', \"Processing\", 0, 100)"
   ]
  },
  {
   "cell_type": "code",
   "execution_count": 10,
   "metadata": {},
   "outputs": [
    {
     "data": {
      "application/vnd.jupyter.widget-view+json": {
       "model_id": "7e2aadb15e1a4c65852f60ccc117305f",
       "version_major": 2,
       "version_minor": 0
      },
      "text/plain": [
       "Output(layout=Layout(border='1px solid gray', width='100%'))"
      ]
     },
     "metadata": {},
     "output_type": "display_data"
    },
    {
     "data": {
      "application/vnd.jupyter.widget-view+json": {
       "model_id": "b7a2a64203434fe99dc27ef17dc48e46",
       "version_major": 2,
       "version_minor": 0
      },
      "text/plain": [
       "Button(description='Stop', style=ButtonStyle())"
      ]
     },
     "metadata": {},
     "output_type": "display_data"
    }
   ],
   "source": [
    "liveQstat()"
   ]
  },
  {
   "cell_type": "markdown",
   "metadata": {},
   "source": [
    "## Step 3. Results\n",
    "### 3.1: Image Comparison\n",
    "Here, we visualize our predictions. We can observe the frame rate, execution time, and dice coefficient (a value that describes the similarity between the ground truth and the prediction, with 1.0 indicating 100% accuracy). "
   ]
  },
  {
   "cell_type": "code",
   "execution_count": 17,
   "metadata": {},
   "outputs": [
    {
     "data": {
      "text/html": [
       "<h2>IEI Tank (Intel Core CPU)</h2>\n",
       "    \t\t\t\tFrames processed per second = 15 \n",
       "    \t\t\t\t<img src='results/25369.c003/pred40.png' width='783' height='120'><img src='results/25369.c003/pred101.png' width='783' height='120'><img src='results/25369.c003/pred55.png' width='783' height='120'><img src='results/25369.c003/pred46.png' width='783' height='120'><img src='results/25369.c003/pred19.png' width='783' height='120'><img src='results/25369.c003/pred99.png' width='783' height='120'><img src='results/25369.c003/pred43.png' width='783' height='120'><img src='results/25369.c003/pred63.png' width='783' height='120'>\n",
       "    \t\t\t\t"
      ],
      "text/plain": [
       "<IPython.core.display.HTML object>"
      ]
     },
     "execution_count": 17,
     "metadata": {},
     "output_type": "execute_result"
    }
   ],
   "source": [
    "outputHTML('IEI Tank (Intel Core CPU)',\n",
    "          'results/'+core_stocktf[0], '.png')"
   ]
  },
  {
   "cell_type": "code",
   "execution_count": 12,
   "metadata": {},
   "outputs": [
    {
     "data": {
      "text/html": [
       "<h2>IEI Tank Xeon (Intel Xeon CPU)</h2>\n",
       "    \t\t\t\t\n",
       "    \t\t\t\t\n",
       "    \t\t\t\t"
      ],
      "text/plain": [
       "<IPython.core.display.HTML object>"
      ]
     },
     "execution_count": 12,
     "metadata": {},
     "output_type": "execute_result"
    }
   ],
   "source": [
    "outputHTML('IEI Tank Xeon (Intel Xeon CPU)',\n",
    "          'results/'+xeon_stocktf[0], '.png')"
   ]
  },
  {
   "cell_type": "code",
   "execution_count": 13,
   "metadata": {},
   "outputs": [
    {
     "data": {
      "text/html": [
       "<h2>IEI Tank (Intel Core CPU)</h2>\n",
       "    \t\t\t\t\n",
       "    \t\t\t\t\n",
       "    \t\t\t\t"
      ],
      "text/plain": [
       "<IPython.core.display.HTML object>"
      ]
     },
     "execution_count": 13,
     "metadata": {},
     "output_type": "execute_result"
    }
   ],
   "source": [
    "outputHTML('IEI Tank (Intel Core CPU)',\n",
    "          'results/'+core_mkltf[0], '.png')"
   ]
  },
  {
   "cell_type": "code",
   "execution_count": 14,
   "metadata": {},
   "outputs": [
    {
     "data": {
      "text/html": [
       "<h2>IEI Tank Xeon (Intel Xeon CPU)</h2>\n",
       "    \t\t\t\t\n",
       "    \t\t\t\t\n",
       "    \t\t\t\t"
      ],
      "text/plain": [
       "<IPython.core.display.HTML object>"
      ]
     },
     "execution_count": 14,
     "metadata": {},
     "output_type": "execute_result"
    }
   ],
   "source": [
    "outputHTML('IEI Tank Xeon (Intel Xeon CPU)',\n",
    "          'results/'+xeon_mkltf[0], '.png')"
   ]
  },
  {
   "cell_type": "markdown",
   "metadata": {},
   "source": [
    "### 3.2: Architecture Comparison\n",
    "Finally, we benchmark the processing time and frames per second on different architectures with and without MKL-DNN."
   ]
  },
  {
   "cell_type": "code",
   "execution_count": 18,
   "metadata": {},
   "outputs": [
    {
     "data": {
      "image/png": "[encoded data removed]",
      "text/plain": [
       "<Figure size 1080x576 with 1 Axes>"
      ]
     },
     "metadata": {
      "needs_background": "light"
     },
     "output_type": "display_data"
    },
    {
     "data": {
      "image/png": "[encoded data removed]",
      "text/plain": [
       "<Figure size 1080x576 with 1 Axes>"
      ]
     },
     "metadata": {
      "needs_background": "light"
     },
     "output_type": "display_data"
    }
   ],
   "source": [
    "arch_list = [('core_stocktf', 'Intel Core\\ni5-6500TE\\nCPU with MKL disabled'),\n",
    "             ('xeon_stocktf', 'Intel Xeon\\nE3-1268L v5\\nCPU with MKL disabled'),\n",
    "             ('core_mkltf', 'Intel Core\\ni5-6500TE\\nCPU with MKL enabled'),\n",
    "             ('xeon_mkltf', 'Intel Xeon\\nE3-1268L v5\\nCPU with MKL enabled')\n",
    "             ]\n",
    "\n",
    "stats_list = []\n",
    "for job, a_name in arch_list:\n",
    "    if job in vars():\n",
    "        stats_list.append(('results/'+vars()[job][0]+'/stats.txt', a_name))\n",
    "    else:\n",
    "        stats_list.append(('placeholder'+job, a_name))\n",
    "\n",
    "summaryPlot(stats_list, 'Architecture', 'Time, seconds', 'Inference Engine Processing Time', 'time' )\n",
    "\n",
    "summaryPlot(stats_list, 'Architecture', 'Frames per second', 'Inference Engine FPS', 'fps' )"
   ]
  },
  {
   "cell_type": "code",
   "execution_count": null,
   "metadata": {},
   "outputs": [],
   "source": []
  }
 ],
 "metadata": {
  "kernelspec": {
   "display_name": "Python 3 (Ubuntu)",
   "language": "python",
   "name": "c003-python_3"
  },
  "language_info": {
   "codemirror_mode": {
    "name": "ipython",
    "version": 3
   },
   "file_extension": ".py",
   "mimetype": "text/x-python",
   "name": "python",
   "nbconvert_exporter": "python",
   "pygments_lexer": "ipython3",
   "version": "3.5.2"
  },
  "widgets": {
   "application/vnd.jupyter.widget-state+json": {
    "state": {
     "0084c4b932404a6291e68397e0c23dfb": {
      "model_module": "@jupyter-widgets/base",
      "model_module_version": "1.1.0",
      "model_name": "LayoutModel",
      "state": {
       "align_items": "stretch",
       "border": "ridge",
       "display": "flex",
       "flex_flow": "column",
       "height": "",
       "width": "70%"
      }
     },
     "00d9a88664c14bd9820613b197e0e504": {
      "model_module": "@jupyter-widgets/controls",
      "model_module_version": "1.4.0",
      "model_name": "HBoxModel",
      "state": {
       "children": [
        "IPY_MODEL_2d9c8a4bc138490794ae921d0ddfcd1e",
        "IPY_MODEL_cbd2c10072d24d6a9feef3e5aaa6be79",
        "IPY_MODEL_ad650c1e2ef140788c7142c10e38b44a"
       ],
       "layout": "IPY_MODEL_311b7422bd13455fad37a276f00162ec"
      }
     },
     "018c9ae5a90a43e58ffe4c5de45ef4ef": {
      "model_module": "@jupyter-widgets/controls",
      "model_module_version": "1.4.0",
      "model_name": "HTMLModel",
      "state": {
       "description": "Total Estimated:",
       "layout": "IPY_MODEL_107a4f63633c425a97778eead7671038",
       "placeholder": "0",
       "style": "IPY_MODEL_44d11946ed1b443fb0065c6d09f9f0c1",
       "value": "0 seconds"
      }
     },
     "02ceba81b16b48a783a341280870b122": {
      "model_module": "@jupyter-widgets/controls",
      "model_module_version": "1.4.0",
      "model_name": "DescriptionStyleModel",
      "state": {
       "description_width": "initial"
      }
     },
     "02d06fbcbe85402bb0a3fceccffdc397": {
      "model_module": "@jupyter-widgets/controls",
      "model_module_version": "1.4.0",
      "model_name": "DescriptionStyleModel",
      "state": {
       "description_width": "initial"
      }
     },
     "03d693b74c694d0cb7453d13b269f21e": {
      "model_module": "@jupyter-widgets/controls",
      "model_module_version": "1.4.0",
      "model_name": "ProgressStyleModel",
      "state": {
       "description_width": "initial"
      }
     },
     "06580f4fa4804663baa184cb0f01141d": {
      "model_module": "@jupyter-widgets/base",
      "model_module_version": "1.1.0",
      "model_name": "LayoutModel",
      "state": {}
     },
     "06fd02e5a91e45da849fd6b3e351d401": {
      "model_module": "@jupyter-widgets/base",
      "model_module_version": "1.1.0",
      "model_name": "LayoutModel",
      "state": {}
     },
     "081ede0b0b4a4d019fb00fb361a75feb": {
      "model_module": "@jupyter-widgets/base",
      "model_module_version": "1.1.0",
      "model_name": "LayoutModel",
      "state": {
       "align_items": "stretch",
       "border": "ridge",
       "display": "flex",
       "flex_flow": "column",
       "height": "",
       "width": "70%"
      }
     },
     "08e62e576d5f4b95a40f0fcda8d4df5b": {
      "model_module": "@jupyter-widgets/base",
      "model_module_version": "1.1.0",
      "model_name": "LayoutModel",
      "state": {
       "align_items": "stretch",
       "border": "ridge",
       "display": "flex",
       "flex_flow": "column",
       "height": "",
       "width": "70%"
      }
     },
     "0948a3b3a077442ea44748a6352ffd35": {
      "model_module": "@jupyter-widgets/controls",
      "model_module_version": "1.4.0",
      "model_name": "ProgressStyleModel",
      "state": {
       "description_width": "initial"
      }
     },
     "0a5ac914884f4f6a8df347f3fa4006b0": {
      "model_module": "@jupyter-widgets/controls",
      "model_module_version": "1.4.0",
      "model_name": "DescriptionStyleModel",
      "state": {
       "description_width": "initial"
      }
     },
     "0aa9f1c93f0147f584e20fd597d199fc": {
      "model_module": "@jupyter-widgets/controls",
      "model_module_version": "1.4.0",
      "model_name": "ProgressStyleModel",
      "state": {
       "description_width": "initial"
      }
     },
     "0ba089327da342a9a1315a81f34c384c": {
      "model_module": "@jupyter-widgets/controls",
      "model_module_version": "1.4.0",
      "model_name": "HTMLModel",
      "state": {
       "description": "Total Estimated:",
       "layout": "IPY_MODEL_13589e6835c9425ab5f5d186b2a70af1",
       "placeholder": "0",
       "style": "IPY_MODEL_02ceba81b16b48a783a341280870b122",
       "value": "5.6\n seconds"
      }
     },
     "0ec037df013a4b7692835bb3e2799054": {
      "model_module": "@jupyter-widgets/controls",
      "model_module_version": "1.4.0",
      "model_name": "HTMLModel",
      "state": {
       "description": "Remaining:",
       "layout": "IPY_MODEL_957743e7a23b4b49be35d942311ab2fe",
       "placeholder": "0",
       "style": "IPY_MODEL_89d361398aab4f698447aed8c25a6c50",
       "value": "0 seconds"
      }
     },
     "107a4f63633c425a97778eead7671038": {
      "model_module": "@jupyter-widgets/base",
      "model_module_version": "1.1.0",
      "model_name": "LayoutModel",
      "state": {}
     },
     "12c59cfa2db44f72bf58fe2877b3bb60": {
      "model_module": "@jupyter-widgets/controls",
      "model_module_version": "1.4.0",
      "model_name": "DescriptionStyleModel",
      "state": {
       "description_width": "initial"
      }
     },
     "1300613ff8c54acba8ebd46db4f4de60": {
      "model_module": "@jupyter-widgets/controls",
      "model_module_version": "1.4.0",
      "model_name": "HTMLModel",
      "state": {
       "description": "Total Estimated:",
       "layout": "IPY_MODEL_821413b670414588a4e1352356cecbd9",
       "placeholder": "0",
       "style": "IPY_MODEL_d09ab06eb6784087b3934c42f2250d0d",
       "value": "3.5\n seconds"
      }
     },
     "13589e6835c9425ab5f5d186b2a70af1": {
      "model_module": "@jupyter-widgets/base",
      "model_module_version": "1.1.0",
      "model_name": "LayoutModel",
      "state": {}
     },
     "154e0756aca94f78a3100f03bb0d099c": {
      "model_module": "@jupyter-widgets/controls",
      "model_module_version": "1.4.0",
      "model_name": "ProgressStyleModel",
      "state": {
       "description_width": "initial"
      }
     },
     "15ba67307e114854b0a4d57ada6a9caa": {
      "model_module": "@jupyter-widgets/base",
      "model_module_version": "1.1.0",
      "model_name": "LayoutModel",
      "state": {}
     },
     "1eaaeaa0f6d145379a22353d1c71df43": {
      "model_module": "@jupyter-widgets/controls",
      "model_module_version": "1.4.0",
      "model_name": "ProgressStyleModel",
      "state": {
       "description_width": "initial"
      }
     },
     "27b99c2996c3442a9d547de1ae4c6f72": {
      "model_module": "@jupyter-widgets/base",
      "model_module_version": "1.1.0",
      "model_name": "LayoutModel",
      "state": {
       "align_items": "stretch",
       "border": "ridge",
       "display": "flex",
       "flex_flow": "column",
       "height": "",
       "width": "70%"
      }
     },
     "2842c3aa3ea242d3bd922b4c7f6012a2": {
      "model_module": "@jupyter-widgets/base",
      "model_module_version": "1.1.0",
      "model_name": "LayoutModel",
      "state": {}
     },
     "29a779c02e354eda863f5d3076f28569": {
      "model_module": "@jupyter-widgets/controls",
      "model_module_version": "1.4.0",
      "model_name": "ProgressStyleModel",
      "state": {
       "description_width": "initial"
      }
     },
     "2a93b306b9d54164a34557164d42e767": {
      "model_module": "@jupyter-widgets/base",
      "model_module_version": "1.1.0",
      "model_name": "LayoutModel",
      "state": {}
     },
     "2b54277f8e05497d803a289a8d507171": {
      "model_module": "@jupyter-widgets/base",
      "model_module_version": "1.1.0",
      "model_name": "LayoutModel",
      "state": {}
     },
     "2cccf9424d564ca0a9b006da79f2f53e": {
      "model_module": "@jupyter-widgets/controls",
      "model_module_version": "1.4.0",
      "model_name": "HBoxModel",
      "state": {
       "children": [
        "IPY_MODEL_d63a831122444a2fa277d195c9da6439",
        "IPY_MODEL_ab83d862bffd450fb31d5c233e2a5a2a",
        "IPY_MODEL_2ec98c6512bb494ebc15cf1446ae9fa6"
       ],
       "layout": "IPY_MODEL_c5641541cae541cab28ceae1e81655a4"
      }
     },
     "2d521c3373f54cb68b08b6f9d29787bd": {
      "model_module": "@jupyter-widgets/controls",
      "model_module_version": "1.4.0",
      "model_name": "DescriptionStyleModel",
      "state": {
       "description_width": "initial"
      }
     },
     "2d9c8a4bc138490794ae921d0ddfcd1e": {
      "model_module": "@jupyter-widgets/controls",
      "model_module_version": "1.4.0",
      "model_name": "FloatProgressModel",
      "state": {
       "bar_style": "info",
       "description": "Processing",
       "layout": "IPY_MODEL_e0b5b994cb2043dea61c57a91a92f4e2",
       "style": "IPY_MODEL_af26c8ad1a3e48098a424a631a4b732c",
       "value": 100
      }
     },
     "2dd13ca2653449ddb71971349b9e95f4": {
      "model_module": "@jupyter-widgets/controls",
      "model_module_version": "1.4.0",
      "model_name": "FloatProgressModel",
      "state": {
       "bar_style": "info",
       "description": "Processing",
       "layout": "IPY_MODEL_eaa189575d0f4abcb50de051210fc0da",
       "style": "IPY_MODEL_56522bfd5fc74dc197e0a3727cc10f6b"
      }
     },
     "2e682c67ad614f9d988ed9ce4c845a1b": {
      "model_module": "@jupyter-widgets/base",
      "model_module_version": "1.1.0",
      "model_name": "LayoutModel",
      "state": {}
     },
     "2ec98c6512bb494ebc15cf1446ae9fa6": {
      "model_module": "@jupyter-widgets/controls",
      "model_module_version": "1.4.0",
      "model_name": "HTMLModel",
      "state": {
       "description": "Remaining:",
       "layout": "IPY_MODEL_15ba67307e114854b0a4d57ada6a9caa",
       "placeholder": "0",
       "style": "IPY_MODEL_80ac4dc7404b48ccb69db30315f6ab77",
       "value": "0 seconds"
      }
     },
     "311b7422bd13455fad37a276f00162ec": {
      "model_module": "@jupyter-widgets/base",
      "model_module_version": "1.1.0",
      "model_name": "LayoutModel",
      "state": {
       "align_items": "stretch",
       "border": "ridge",
       "display": "flex",
       "flex_flow": "column",
       "height": "",
       "width": "70%"
      }
     },
     "3315d86a92cd4df5a578e2f73aa38a1f": {
      "model_module": "@jupyter-widgets/controls",
      "model_module_version": "1.4.0",
      "model_name": "FloatProgressModel",
      "state": {
       "bar_style": "info",
       "description": "Processing",
       "layout": "IPY_MODEL_c46ec6c31c654a45997eb7c50410a230",
       "style": "IPY_MODEL_96c7eb181fc1423c858852d6f6ddf2ae",
       "value": 100
      }
     },
     "3402dfe0c0c64360b29bc4570d04aab3": {
      "model_module": "@jupyter-widgets/controls",
      "model_module_version": "1.4.0",
      "model_name": "FloatProgressModel",
      "state": {
       "bar_style": "info",
       "description": "Processing",
       "layout": "IPY_MODEL_f7badc47e7f945139f99c045d98bf2e1",
       "style": "IPY_MODEL_29a779c02e354eda863f5d3076f28569",
       "value": 100
      }
     },
     "343a30bd20444d2e89249b3bfdf28451": {
      "model_module": "@jupyter-widgets/base",
      "model_module_version": "1.1.0",
      "model_name": "LayoutModel",
      "state": {}
     },
     "352d8aff80574da0ac5c179cf117625b": {
      "model_module": "@jupyter-widgets/controls",
      "model_module_version": "1.4.0",
      "model_name": "ProgressStyleModel",
      "state": {
       "description_width": "initial"
      }
     },
     "35900d1343634601a6dda075ef5103d5": {
      "model_module": "@jupyter-widgets/base",
      "model_module_version": "1.1.0",
      "model_name": "LayoutModel",
      "state": {}
     },
     "35ee231516ef40158d5e81b10d89111a": {
      "model_module": "@jupyter-widgets/controls",
      "model_module_version": "1.4.0",
      "model_name": "HBoxModel",
      "state": {
       "children": [
        "IPY_MODEL_9fca4a77ba1c463d9cb944280c1fe45e",
        "IPY_MODEL_b71f65def57d4a4bbc7c8fc2fa504f3a",
        "IPY_MODEL_0ec037df013a4b7692835bb3e2799054"
       ],
       "layout": "IPY_MODEL_d9d41bdf30e440c387f15017bbede5a3"
      }
     },
     "36ef51161f4849d295e177ab5b35aab3": {
      "model_module": "@jupyter-widgets/controls",
      "model_module_version": "1.4.0",
      "model_name": "DescriptionStyleModel",
      "state": {
       "description_width": "initial"
      }
     },
     "37f1bb9326f649ae9feb9f2de46425be": {
      "model_module": "@jupyter-widgets/base",
      "model_module_version": "1.1.0",
      "model_name": "LayoutModel",
      "state": {}
     },
     "3c75c367d4994d84a3a951d62b805f59": {
      "model_module": "@jupyter-widgets/controls",
      "model_module_version": "1.4.0",
      "model_name": "ProgressStyleModel",
      "state": {
       "description_width": "initial"
      }
     },
     "3ec8a7feeffe4bedba54b4df3f557616": {
      "model_module": "@jupyter-widgets/base",
      "model_module_version": "1.1.0",
      "model_name": "LayoutModel",
      "state": {}
     },
     "40014592e9a04416b6b1f2a702a95575": {
      "model_module": "@jupyter-widgets/base",
      "model_module_version": "1.1.0",
      "model_name": "LayoutModel",
      "state": {}
     },
     "423e66dbca8447e1b44b11a2e6e3ac8b": {
      "model_module": "@jupyter-widgets/base",
      "model_module_version": "1.1.0",
      "model_name": "LayoutModel",
      "state": {}
     },
     "43dd7fab95e2465fbfd98bf3694aa93e": {
      "model_module": "@jupyter-widgets/base",
      "model_module_version": "1.1.0",
      "model_name": "LayoutModel",
      "state": {}
     },
     "44d11946ed1b443fb0065c6d09f9f0c1": {
      "model_module": "@jupyter-widgets/controls",
      "model_module_version": "1.4.0",
      "model_name": "DescriptionStyleModel",
      "state": {
       "description_width": "initial"
      }
     },
     "46d0e873b8094f0bb013d04b816747ea": {
      "model_module": "@jupyter-widgets/controls",
      "model_module_version": "1.4.0",
      "model_name": "HTMLModel",
      "state": {
       "description": "Total Estimated:",
       "layout": "IPY_MODEL_06580f4fa4804663baa184cb0f01141d",
       "placeholder": "0",
       "style": "IPY_MODEL_5b8883a3aac745e9867e538fb354b2ef",
       "value": "3.3\n seconds"
      }
     },
     "46e74e5dd069463fbacb235b3a8ca9ce": {
      "model_module": "@jupyter-widgets/controls",
      "model_module_version": "1.4.0",
      "model_name": "DescriptionStyleModel",
      "state": {
       "description_width": "initial"
      }
     },
     "46f04832625143e6a71245816c15a57a": {
      "model_module": "@jupyter-widgets/controls",
      "model_module_version": "1.4.0",
      "model_name": "HTMLModel",
      "state": {
       "description": "Total Estimated:",
       "layout": "IPY_MODEL_50f1537b7032426ab989df1c1060377a",
       "placeholder": "0",
       "style": "IPY_MODEL_9796147a25f740498ad99ba23ea82781",
       "value": "0 seconds"
      }
     },
     "4861fab086fd4e1b92b02476d5de4de0": {
      "model_module": "@jupyter-widgets/controls",
      "model_module_version": "1.4.0",
      "model_name": "FloatProgressModel",
      "state": {
       "bar_style": "info",
       "description": "Processing",
       "layout": "IPY_MODEL_585ed766edcf44008b826b1bdff90c65",
       "style": "IPY_MODEL_1eaaeaa0f6d145379a22353d1c71df43"
      }
     },
     "4950116d1bec4cee81006528471c96d4": {
      "model_module": "@jupyter-widgets/controls",
      "model_module_version": "1.4.0",
      "model_name": "FloatProgressModel",
      "state": {
       "bar_style": "info",
       "description": "Processing",
       "layout": "IPY_MODEL_423e66dbca8447e1b44b11a2e6e3ac8b",
       "style": "IPY_MODEL_03d693b74c694d0cb7453d13b269f21e"
      }
     },
     "4df446755094477cb0a79463c270580f": {
      "model_module": "@jupyter-widgets/controls",
      "model_module_version": "1.4.0",
      "model_name": "ProgressStyleModel",
      "state": {
       "description_width": "initial"
      }
     },
     "4e0c9b92f5cf46549c75a1af95e1ab3b": {
      "model_module": "@jupyter-widgets/base",
      "model_module_version": "1.1.0",
      "model_name": "LayoutModel",
      "state": {}
     },
     "50f1537b7032426ab989df1c1060377a": {
      "model_module": "@jupyter-widgets/base",
      "model_module_version": "1.1.0",
      "model_name": "LayoutModel",
      "state": {}
     },
     "5406da9a0acc4525be1c8534b4091f5c": {
      "model_module": "@jupyter-widgets/controls",
      "model_module_version": "1.4.0",
      "model_name": "DescriptionStyleModel",
      "state": {
       "description_width": "initial"
      }
     },
     "5524057c59d843e098441c802823242c": {
      "model_module": "@jupyter-widgets/controls",
      "model_module_version": "1.4.0",
      "model_name": "DescriptionStyleModel",
      "state": {
       "description_width": "initial"
      }
     },
     "56522bfd5fc74dc197e0a3727cc10f6b": {
      "model_module": "@jupyter-widgets/controls",
      "model_module_version": "1.4.0",
      "model_name": "ProgressStyleModel",
      "state": {
       "description_width": "initial"
      }
     },
     "56981fe29b384eaaa50a185ee0e45720": {
      "model_module": "@jupyter-widgets/base",
      "model_module_version": "1.1.0",
      "model_name": "LayoutModel",
      "state": {
       "align_items": "stretch",
       "border": "ridge",
       "display": "flex",
       "flex_flow": "column",
       "height": "",
       "width": "70%"
      }
     },
     "56cf9a79b94847c3a86d3e2cd2c02e76": {
      "model_module": "@jupyter-widgets/controls",
      "model_module_version": "1.4.0",
      "model_name": "HBoxModel",
      "state": {
       "children": [
        "IPY_MODEL_2dd13ca2653449ddb71971349b9e95f4",
        "IPY_MODEL_a041dd93ba484c398488742cbddbf16c",
        "IPY_MODEL_908e5a7b55b0455981effe0ae7e237b8"
       ],
       "layout": "IPY_MODEL_56981fe29b384eaaa50a185ee0e45720"
      }
     },
     "585ed766edcf44008b826b1bdff90c65": {
      "model_module": "@jupyter-widgets/base",
      "model_module_version": "1.1.0",
      "model_name": "LayoutModel",
      "state": {}
     },
     "589fc02797ef476ca718d6a1a0d31abf": {
      "model_module": "@jupyter-widgets/controls",
      "model_module_version": "1.4.0",
      "model_name": "DescriptionStyleModel",
      "state": {
       "description_width": "initial"
      }
     },
     "59c4f9b8b3a94108b397b1f6ee54fc40": {
      "model_module": "@jupyter-widgets/controls",
      "model_module_version": "1.4.0",
      "model_name": "HTMLModel",
      "state": {
       "description": "Remaining:",
       "layout": "IPY_MODEL_43dd7fab95e2465fbfd98bf3694aa93e",
       "placeholder": "0",
       "style": "IPY_MODEL_2d521c3373f54cb68b08b6f9d29787bd",
       "value": "0 seconds"
      }
     },
     "5b117ca379474e159690fe71fe445040": {
      "model_module": "@jupyter-widgets/controls",
      "model_module_version": "1.4.0",
      "model_name": "HTMLModel",
      "state": {
       "description": "Remaining:",
       "layout": "IPY_MODEL_92c01686328340c1b85263ab189ce003",
       "placeholder": "0",
       "style": "IPY_MODEL_d5937a9cd4fe4ecea6bb4ed2d2ee5494",
       "value": "0 seconds"
      }
     },
     "5b8883a3aac745e9867e538fb354b2ef": {
      "model_module": "@jupyter-widgets/controls",
      "model_module_version": "1.4.0",
      "model_name": "DescriptionStyleModel",
      "state": {
       "description_width": "initial"
      }
     },
     "5bc5c229b68c4fc79faf951bdbd0a622": {
      "model_module": "@jupyter-widgets/base",
      "model_module_version": "1.1.0",
      "model_name": "LayoutModel",
      "state": {}
     },
     "5ed3417963444b67aadb48ac0b1d094d": {
      "model_module": "@jupyter-widgets/controls",
      "model_module_version": "1.4.0",
      "model_name": "HTMLModel",
      "state": {
       "description": "Remaining:",
       "layout": "IPY_MODEL_acbb8e83f005443599f01c76b3f4773b",
       "placeholder": "0",
       "style": "IPY_MODEL_6def78b0119f4574930695486460ae59",
       "value": "0 seconds"
      }
     },
     "5f01b39cc31d4b9197ad0b367034922e": {
      "model_module": "@jupyter-widgets/controls",
      "model_module_version": "1.4.0",
      "model_name": "HTMLModel",
      "state": {
       "description": "Total Estimated:",
       "layout": "IPY_MODEL_c94cdf32963f4ff5a15d5b220999ce18",
       "placeholder": "0",
       "style": "IPY_MODEL_12c59cfa2db44f72bf58fe2877b3bb60",
       "value": "3.3\n seconds"
      }
     },
     "5f089a7f9dac41e681b38114544b7728": {
      "model_module": "@jupyter-widgets/controls",
      "model_module_version": "1.4.0",
      "model_name": "HBoxModel",
      "state": {
       "children": [
        "IPY_MODEL_4950116d1bec4cee81006528471c96d4",
        "IPY_MODEL_b461cc3b06db455eb9f95d1a70b04fa3",
        "IPY_MODEL_69297b8f99ca48369375b32898859813"
       ],
       "layout": "IPY_MODEL_73a478298904494cbe8d4c770715845b"
      }
     },
     "5fb3cce6b3cf4f4b9760e63ab524542c": {
      "model_module": "@jupyter-widgets/controls",
      "model_module_version": "1.4.0",
      "model_name": "DescriptionStyleModel",
      "state": {
       "description_width": "initial"
      }
     },
     "632015e063284dca85f9cf2775cc5ad7": {
      "model_module": "@jupyter-widgets/controls",
      "model_module_version": "1.4.0",
      "model_name": "HBoxModel",
      "state": {
       "children": [
        "IPY_MODEL_ea8568f2252f424db1c8e357f34692d6",
        "IPY_MODEL_e9f2816bafa54401ac70e60aaeae533b",
        "IPY_MODEL_b76934aa766a4ab8af13139dff0c80be"
       ],
       "layout": "IPY_MODEL_081ede0b0b4a4d019fb00fb361a75feb"
      }
     },
     "65b3e9833a644180b57ec5b8d59a9a06": {
      "model_module": "@jupyter-widgets/base",
      "model_module_version": "1.1.0",
      "model_name": "LayoutModel",
      "state": {}
     },
     "666c61b7388a4d008cdd24900d4cfd34": {
      "model_module": "@jupyter-widgets/base",
      "model_module_version": "1.1.0",
      "model_name": "LayoutModel",
      "state": {}
     },
     "69297b8f99ca48369375b32898859813": {
      "model_module": "@jupyter-widgets/controls",
      "model_module_version": "1.4.0",
      "model_name": "HTMLModel",
      "state": {
       "description": "Remaining:",
       "layout": "IPY_MODEL_06fd02e5a91e45da849fd6b3e351d401",
       "placeholder": "0",
       "style": "IPY_MODEL_46e74e5dd069463fbacb235b3a8ca9ce",
       "value": "0 seconds"
      }
     },
     "69e1455d11694627b832f3365c0990d6": {
      "model_module": "@jupyter-widgets/base",
      "model_module_version": "1.1.0",
      "model_name": "LayoutModel",
      "state": {
       "align_items": "stretch",
       "border": "ridge",
       "display": "flex",
       "flex_flow": "column",
       "height": "",
       "width": "70%"
      }
     },
     "6def78b0119f4574930695486460ae59": {
      "model_module": "@jupyter-widgets/controls",
      "model_module_version": "1.4.0",
      "model_name": "DescriptionStyleModel",
      "state": {
       "description_width": "initial"
      }
     },
     "6f073bd3933846ccb4a7ac5dabb1c92b": {
      "model_module": "@jupyter-widgets/controls",
      "model_module_version": "1.4.0",
      "model_name": "HBoxModel",
      "state": {
       "children": [
        "IPY_MODEL_eab0cac81fe64632bad57a66b4651e9c",
        "IPY_MODEL_5f01b39cc31d4b9197ad0b367034922e",
        "IPY_MODEL_5b117ca379474e159690fe71fe445040"
       ],
       "layout": "IPY_MODEL_741ccc83fd114a72bbd45ca4bf41942f"
      }
     },
     "702efe70ea6c43a890860c9035f21cdb": {
      "model_module": "@jupyter-widgets/base",
      "model_module_version": "1.1.0",
      "model_name": "LayoutModel",
      "state": {}
     },
     "72589accd4c84644aed195b8fa6ca2f0": {
      "model_module": "@jupyter-widgets/controls",
      "model_module_version": "1.4.0",
      "model_name": "HBoxModel",
      "state": {
       "children": [
        "IPY_MODEL_8ffe6ef016bf43dc96adeb7b8a2a1296",
        "IPY_MODEL_d276b1cad0b04fa3a365fc22911337e5",
        "IPY_MODEL_8097243e33a3493aaa9bd2509902c8de"
       ],
       "layout": "IPY_MODEL_d743a8b614f34f6bb19945b27f8e2f92"
      }
     },
     "73a478298904494cbe8d4c770715845b": {
      "model_module": "@jupyter-widgets/base",
      "model_module_version": "1.1.0",
      "model_name": "LayoutModel",
      "state": {
       "align_items": "stretch",
       "border": "ridge",
       "display": "flex",
       "flex_flow": "column",
       "height": "",
       "width": "70%"
      }
     },
     "741ccc83fd114a72bbd45ca4bf41942f": {
      "model_module": "@jupyter-widgets/base",
      "model_module_version": "1.1.0",
      "model_name": "LayoutModel",
      "state": {
       "align_items": "stretch",
       "border": "ridge",
       "display": "flex",
       "flex_flow": "column",
       "height": "",
       "width": "70%"
      }
     },
     "75b8e9eebea34db4991ca1bed55d0e53": {
      "model_module": "@jupyter-widgets/controls",
      "model_module_version": "1.4.0",
      "model_name": "ProgressStyleModel",
      "state": {
       "description_width": "initial"
      }
     },
     "783fce2d84014650a4f8b12a06351015": {
      "model_module": "@jupyter-widgets/base",
      "model_module_version": "1.1.0",
      "model_name": "LayoutModel",
      "state": {
       "align_items": "stretch",
       "border": "ridge",
       "display": "flex",
       "flex_flow": "column",
       "height": "",
       "width": "70%"
      }
     },
     "78968090d96b4955a54372f0470960cd": {
      "model_module": "@jupyter-widgets/base",
      "model_module_version": "1.1.0",
      "model_name": "LayoutModel",
      "state": {}
     },
     "7919536641b5447b9ca693b146dc50fe": {
      "model_module": "@jupyter-widgets/controls",
      "model_module_version": "1.4.0",
      "model_name": "HBoxModel",
      "state": {
       "children": [
        "IPY_MODEL_d288270be05d4dc487f45e63e08d7efb",
        "IPY_MODEL_018c9ae5a90a43e58ffe4c5de45ef4ef",
        "IPY_MODEL_5ed3417963444b67aadb48ac0b1d094d"
       ],
       "layout": "IPY_MODEL_0084c4b932404a6291e68397e0c23dfb"
      }
     },
     "797f2501f29b45c2b83fe703d98cdaf0": {
      "model_module": "@jupyter-widgets/controls",
      "model_module_version": "1.4.0",
      "model_name": "DescriptionStyleModel",
      "state": {
       "description_width": "initial"
      }
     },
     "7be7c259c4db4d258270469aabb4c5a4": {
      "model_module": "@jupyter-widgets/controls",
      "model_module_version": "1.4.0",
      "model_name": "HBoxModel",
      "state": {
       "children": [
        "IPY_MODEL_d5291ac4e30e4b4c90b0bb78a3d31a50",
        "IPY_MODEL_46d0e873b8094f0bb013d04b816747ea",
        "IPY_MODEL_b312357e014b40dabbcf977c97a6b439"
       ],
       "layout": "IPY_MODEL_783fce2d84014650a4f8b12a06351015"
      }
     },
     "7bf41d46fd4b4f65b59c50315f7a7af8": {
      "model_module": "@jupyter-widgets/controls",
      "model_module_version": "1.4.0",
      "model_name": "FloatProgressModel",
      "state": {
       "bar_style": "info",
       "description": "Processing",
       "layout": "IPY_MODEL_ad14dea91cab4b8799934ffbfd9b1ea0",
       "style": "IPY_MODEL_ba2df3bfaee74f3abb3f1c4263302cb5",
       "value": 100
      }
     },
     "7bfd634cfda842eea0e8947add6dcd70": {
      "model_module": "@jupyter-widgets/controls",
      "model_module_version": "1.4.0",
      "model_name": "DescriptionStyleModel",
      "state": {
       "description_width": "initial"
      }
     },
     "8097243e33a3493aaa9bd2509902c8de": {
      "model_module": "@jupyter-widgets/controls",
      "model_module_version": "1.4.0",
      "model_name": "HTMLModel",
      "state": {
       "description": "Remaining:",
       "layout": "IPY_MODEL_343a30bd20444d2e89249b3bfdf28451",
       "placeholder": "0",
       "style": "IPY_MODEL_dca767fb91d74a84ace829a87748e7b4",
       "value": "0 seconds"
      }
     },
     "80ac4dc7404b48ccb69db30315f6ab77": {
      "model_module": "@jupyter-widgets/controls",
      "model_module_version": "1.4.0",
      "model_name": "DescriptionStyleModel",
      "state": {
       "description_width": "initial"
      }
     },
     "821413b670414588a4e1352356cecbd9": {
      "model_module": "@jupyter-widgets/base",
      "model_module_version": "1.1.0",
      "model_name": "LayoutModel",
      "state": {}
     },
     "87a3ba1fd8a54bb9baad4fca62fceb95": {
      "model_module": "@jupyter-widgets/controls",
      "model_module_version": "1.4.0",
      "model_name": "HBoxModel",
      "state": {
       "children": [
        "IPY_MODEL_f2d50e8430b94f378ad3a3a57c86f84d",
        "IPY_MODEL_c9b91398ac1f41e188f82f65e01b3a89",
        "IPY_MODEL_e4d200a305b246aeab18db6c18231d30"
       ],
       "layout": "IPY_MODEL_8b7491d054bc4143958daebb4fa730b9"
      }
     },
     "89d361398aab4f698447aed8c25a6c50": {
      "model_module": "@jupyter-widgets/controls",
      "model_module_version": "1.4.0",
      "model_name": "DescriptionStyleModel",
      "state": {
       "description_width": "initial"
      }
     },
     "8b7491d054bc4143958daebb4fa730b9": {
      "model_module": "@jupyter-widgets/base",
      "model_module_version": "1.1.0",
      "model_name": "LayoutModel",
      "state": {
       "align_items": "stretch",
       "border": "ridge",
       "display": "flex",
       "flex_flow": "column",
       "height": "",
       "width": "70%"
      }
     },
     "8d4cedd4db714e8192ca1eaf7510c127": {
      "model_module": "@jupyter-widgets/controls",
      "model_module_version": "1.4.0",
      "model_name": "HBoxModel",
      "state": {
       "children": [
        "IPY_MODEL_3402dfe0c0c64360b29bc4570d04aab3",
        "IPY_MODEL_e12f91ef3fe043b7afcc52369e3afe85",
        "IPY_MODEL_9df21daf4a67489cabe4732aaf674cc0"
       ],
       "layout": "IPY_MODEL_27b99c2996c3442a9d547de1ae4c6f72"
      }
     },
     "8d574383f95e42679b9db02e598a141a": {
      "model_module": "@jupyter-widgets/controls",
      "model_module_version": "1.4.0",
      "model_name": "DescriptionStyleModel",
      "state": {
       "description_width": "initial"
      }
     },
     "8d581927eb9d45ec9d393461e4961aae": {
      "model_module": "@jupyter-widgets/base",
      "model_module_version": "1.1.0",
      "model_name": "LayoutModel",
      "state": {}
     },
     "8dc9b2e856dc43fd9176f214cd9fbd02": {
      "model_module": "@jupyter-widgets/controls",
      "model_module_version": "1.4.0",
      "model_name": "HBoxModel",
      "state": {
       "children": [
        "IPY_MODEL_7bf41d46fd4b4f65b59c50315f7a7af8",
        "IPY_MODEL_0ba089327da342a9a1315a81f34c384c",
        "IPY_MODEL_f05a7ecd186e42b99ad024b8102a9f9c"
       ],
       "layout": "IPY_MODEL_e3c30fec2b0f4221b0af0d12e4de9634"
      }
     },
     "8f207febf1b04fd08bb88860d5251af1": {
      "model_module": "@jupyter-widgets/controls",
      "model_module_version": "1.4.0",
      "model_name": "ProgressStyleModel",
      "state": {
       "description_width": "initial"
      }
     },
     "8f505ac0f88b42989e9afc45abb5a600": {
      "model_module": "@jupyter-widgets/base",
      "model_module_version": "1.1.0",
      "model_name": "LayoutModel",
      "state": {}
     },
     "8ffe6ef016bf43dc96adeb7b8a2a1296": {
      "model_module": "@jupyter-widgets/controls",
      "model_module_version": "1.4.0",
      "model_name": "FloatProgressModel",
      "state": {
       "bar_style": "info",
       "description": "Processing",
       "layout": "IPY_MODEL_3ec8a7feeffe4bedba54b4df3f557616",
       "style": "IPY_MODEL_352d8aff80574da0ac5c179cf117625b",
       "value": 100
      }
     },
     "908e5a7b55b0455981effe0ae7e237b8": {
      "model_module": "@jupyter-widgets/controls",
      "model_module_version": "1.4.0",
      "model_name": "HTMLModel",
      "state": {
       "description": "Remaining:",
       "layout": "IPY_MODEL_d0ad461895bf445198c973b61a695e89",
       "placeholder": "0",
       "style": "IPY_MODEL_c21584ac3d1a4a34add18440995a8151",
       "value": "0 seconds"
      }
     },
     "9243c47c761f4bc6b89fe9714ce7d2e9": {
      "model_module": "@jupyter-widgets/controls",
      "model_module_version": "1.4.0",
      "model_name": "DescriptionStyleModel",
      "state": {
       "description_width": "initial"
      }
     },
     "92c01686328340c1b85263ab189ce003": {
      "model_module": "@jupyter-widgets/base",
      "model_module_version": "1.1.0",
      "model_name": "LayoutModel",
      "state": {}
     },
     "94a947f51a29436bab2797564f536cdf": {
      "model_module": "@jupyter-widgets/controls",
      "model_module_version": "1.4.0",
      "model_name": "HTMLModel",
      "state": {
       "description": "Total Estimated:",
       "layout": "IPY_MODEL_ab59ee42de834100b53396d9f731a791",
       "placeholder": "0",
       "style": "IPY_MODEL_d7051c0d217c4cf3adaa97820e8f95b6",
       "value": "0 seconds"
      }
     },
     "953550b262c64a349e80e1be1ed6eb3b": {
      "model_module": "@jupyter-widgets/base",
      "model_module_version": "1.1.0",
      "model_name": "LayoutModel",
      "state": {}
     },
     "95551d3a61f54b4ea79d16982ac239d8": {
      "model_module": "@jupyter-widgets/controls",
      "model_module_version": "1.4.0",
      "model_name": "HTMLModel",
      "state": {
       "description": "Total Estimated:",
       "layout": "IPY_MODEL_9c38e51a00754890b75ace5883e327c4",
       "placeholder": "0",
       "style": "IPY_MODEL_0a5ac914884f4f6a8df347f3fa4006b0",
       "value": "3.7\n seconds"
      }
     },
     "957743e7a23b4b49be35d942311ab2fe": {
      "model_module": "@jupyter-widgets/base",
      "model_module_version": "1.1.0",
      "model_name": "LayoutModel",
      "state": {}
     },
     "96c7eb181fc1423c858852d6f6ddf2ae": {
      "model_module": "@jupyter-widgets/controls",
      "model_module_version": "1.4.0",
      "model_name": "ProgressStyleModel",
      "state": {
       "description_width": "initial"
      }
     },
     "9796147a25f740498ad99ba23ea82781": {
      "model_module": "@jupyter-widgets/controls",
      "model_module_version": "1.4.0",
      "model_name": "DescriptionStyleModel",
      "state": {
       "description_width": "initial"
      }
     },
     "99e73880132d470db4c4a24ec43fab21": {
      "model_module": "@jupyter-widgets/controls",
      "model_module_version": "1.4.0",
      "model_name": "DescriptionStyleModel",
      "state": {
       "description_width": "initial"
      }
     },
     "9bfd4a1cfb4b492b9cf94afdd612dbe1": {
      "model_module": "@jupyter-widgets/controls",
      "model_module_version": "1.4.0",
      "model_name": "HBoxModel",
      "state": {
       "children": [
        "IPY_MODEL_b4a1801b13704d479e316e9702486e2a",
        "IPY_MODEL_95551d3a61f54b4ea79d16982ac239d8",
        "IPY_MODEL_db4c0b6ec8ea499f89ae433b357814f3"
       ],
       "layout": "IPY_MODEL_f863f91c8305497686b9c6f77736d391"
      }
     },
     "9c38e51a00754890b75ace5883e327c4": {
      "model_module": "@jupyter-widgets/base",
      "model_module_version": "1.1.0",
      "model_name": "LayoutModel",
      "state": {}
     },
     "9df21daf4a67489cabe4732aaf674cc0": {
      "model_module": "@jupyter-widgets/controls",
      "model_module_version": "1.4.0",
      "model_name": "HTMLModel",
      "state": {
       "description": "Remaining:",
       "layout": "IPY_MODEL_e5f90d197a9a469eac578a756c784cec",
       "placeholder": "0",
       "style": "IPY_MODEL_b2a06f76d8e24e88932809de7ba1787b",
       "value": "0 seconds"
      }
     },
     "9f49836d249145758bdbe56cc61a25db": {
      "model_module": "@jupyter-widgets/controls",
      "model_module_version": "1.4.0",
      "model_name": "DescriptionStyleModel",
      "state": {
       "description_width": "initial"
      }
     },
     "9fca4a77ba1c463d9cb944280c1fe45e": {
      "model_module": "@jupyter-widgets/controls",
      "model_module_version": "1.4.0",
      "model_name": "FloatProgressModel",
      "state": {
       "bar_style": "info",
       "description": "Processing",
       "layout": "IPY_MODEL_c5f4f2915b024c8caf13c0460004bccb",
       "style": "IPY_MODEL_f7ee28610cb34180a9f3f0dfd1325a0b",
       "value": 100
      }
     },
     "a041dd93ba484c398488742cbddbf16c": {
      "model_module": "@jupyter-widgets/controls",
      "model_module_version": "1.4.0",
      "model_name": "HTMLModel",
      "state": {
       "description": "Total Estimated:",
       "layout": "IPY_MODEL_2b54277f8e05497d803a289a8d507171",
       "placeholder": "0",
       "style": "IPY_MODEL_589fc02797ef476ca718d6a1a0d31abf",
       "value": "0 seconds"
      }
     },
     "a400142fb9de46fcaf2ebbfd5555a8a3": {
      "model_module": "@jupyter-widgets/base",
      "model_module_version": "1.1.0",
      "model_name": "LayoutModel",
      "state": {}
     },
     "a625236dde4349b2946ddbc28082361d": {
      "model_module": "@jupyter-widgets/controls",
      "model_module_version": "1.4.0",
      "model_name": "FloatProgressModel",
      "state": {
       "bar_style": "info",
       "description": "Processing",
       "layout": "IPY_MODEL_f2776b35587f47eb9107a46335f1b257",
       "style": "IPY_MODEL_8f207febf1b04fd08bb88860d5251af1",
       "value": 100
      }
     },
     "a7eee6d384c147f884dfca62b890d5fe": {
      "model_module": "@jupyter-widgets/base",
      "model_module_version": "1.1.0",
      "model_name": "LayoutModel",
      "state": {}
     },
     "ab59ee42de834100b53396d9f731a791": {
      "model_module": "@jupyter-widgets/base",
      "model_module_version": "1.1.0",
      "model_name": "LayoutModel",
      "state": {}
     },
     "ab83d862bffd450fb31d5c233e2a5a2a": {
      "model_module": "@jupyter-widgets/controls",
      "model_module_version": "1.4.0",
      "model_name": "HTMLModel",
      "state": {
       "description": "Total Estimated:",
       "layout": "IPY_MODEL_c15de76a61b04ad483a6032033bc9bfa",
       "placeholder": "0",
       "style": "IPY_MODEL_d3faf2c4d1a74d929b46b063aa2c2910",
       "value": "0 seconds"
      }
     },
     "acbb8e83f005443599f01c76b3f4773b": {
      "model_module": "@jupyter-widgets/base",
      "model_module_version": "1.1.0",
      "model_name": "LayoutModel",
      "state": {}
     },
     "ad14dea91cab4b8799934ffbfd9b1ea0": {
      "model_module": "@jupyter-widgets/base",
      "model_module_version": "1.1.0",
      "model_name": "LayoutModel",
      "state": {}
     },
     "ad650c1e2ef140788c7142c10e38b44a": {
      "model_module": "@jupyter-widgets/controls",
      "model_module_version": "1.4.0",
      "model_name": "HTMLModel",
      "state": {
       "description": "Remaining:",
       "layout": "IPY_MODEL_8f505ac0f88b42989e9afc45abb5a600",
       "placeholder": "0",
       "style": "IPY_MODEL_9243c47c761f4bc6b89fe9714ce7d2e9",
       "value": "0 seconds"
      }
     },
     "ad82fdabf20f4a1c9f40152d636fcd47": {
      "model_module": "@jupyter-widgets/controls",
      "model_module_version": "1.4.0",
      "model_name": "HBoxModel",
      "state": {
       "children": [
        "IPY_MODEL_a625236dde4349b2946ddbc28082361d",
        "IPY_MODEL_fb75d3640d6c46dcaef96cf16c396501",
        "IPY_MODEL_c1ec8825f1b346f194466e2abf11e7f9"
       ],
       "layout": "IPY_MODEL_b0a004e88a5c44aeabd4afd87a0b555e"
      }
     },
     "af26c8ad1a3e48098a424a631a4b732c": {
      "model_module": "@jupyter-widgets/controls",
      "model_module_version": "1.4.0",
      "model_name": "ProgressStyleModel",
      "state": {
       "description_width": "initial"
      }
     },
     "b0a004e88a5c44aeabd4afd87a0b555e": {
      "model_module": "@jupyter-widgets/base",
      "model_module_version": "1.1.0",
      "model_name": "LayoutModel",
      "state": {
       "align_items": "stretch",
       "border": "ridge",
       "display": "flex",
       "flex_flow": "column",
       "height": "",
       "width": "70%"
      }
     },
     "b2a06f76d8e24e88932809de7ba1787b": {
      "model_module": "@jupyter-widgets/controls",
      "model_module_version": "1.4.0",
      "model_name": "DescriptionStyleModel",
      "state": {
       "description_width": "initial"
      }
     },
     "b312357e014b40dabbcf977c97a6b439": {
      "model_module": "@jupyter-widgets/controls",
      "model_module_version": "1.4.0",
      "model_name": "HTMLModel",
      "state": {
       "description": "Remaining:",
       "layout": "IPY_MODEL_65b3e9833a644180b57ec5b8d59a9a06",
       "placeholder": "0",
       "style": "IPY_MODEL_5524057c59d843e098441c802823242c",
       "value": "0 seconds"
      }
     },
     "b461cc3b06db455eb9f95d1a70b04fa3": {
      "model_module": "@jupyter-widgets/controls",
      "model_module_version": "1.4.0",
      "model_name": "HTMLModel",
      "state": {
       "description": "Total Estimated:",
       "layout": "IPY_MODEL_78968090d96b4955a54372f0470960cd",
       "placeholder": "0",
       "style": "IPY_MODEL_8d574383f95e42679b9db02e598a141a",
       "value": "0 seconds"
      }
     },
     "b49bd2c874cb4d289d0aeadf65d3a704": {
      "model_module": "@jupyter-widgets/base",
      "model_module_version": "1.1.0",
      "model_name": "LayoutModel",
      "state": {}
     },
     "b4a1801b13704d479e316e9702486e2a": {
      "model_module": "@jupyter-widgets/controls",
      "model_module_version": "1.4.0",
      "model_name": "FloatProgressModel",
      "state": {
       "bar_style": "info",
       "description": "Processing",
       "layout": "IPY_MODEL_953550b262c64a349e80e1be1ed6eb3b",
       "style": "IPY_MODEL_e2294a379245494abd3de9ae0e32a196",
       "value": 100
      }
     },
     "b631981f4ff34a7fa4fffbc3f63f118b": {
      "model_module": "@jupyter-widgets/controls",
      "model_module_version": "1.4.0",
      "model_name": "HBoxModel",
      "state": {
       "children": [
        "IPY_MODEL_4861fab086fd4e1b92b02476d5de4de0",
        "IPY_MODEL_46f04832625143e6a71245816c15a57a",
        "IPY_MODEL_59c4f9b8b3a94108b397b1f6ee54fc40"
       ],
       "layout": "IPY_MODEL_69e1455d11694627b832f3365c0990d6"
      }
     },
     "b71f65def57d4a4bbc7c8fc2fa504f3a": {
      "model_module": "@jupyter-widgets/controls",
      "model_module_version": "1.4.0",
      "model_name": "HTMLModel",
      "state": {
       "description": "Total Estimated:",
       "layout": "IPY_MODEL_37f1bb9326f649ae9feb9f2de46425be",
       "placeholder": "0",
       "style": "IPY_MODEL_99e73880132d470db4c4a24ec43fab21",
       "value": "3.5\n seconds"
      }
     },
     "b76934aa766a4ab8af13139dff0c80be": {
      "model_module": "@jupyter-widgets/controls",
      "model_module_version": "1.4.0",
      "model_name": "HTMLModel",
      "state": {
       "description": "Remaining:",
       "layout": "IPY_MODEL_dd44d43b9ef749b4a275bfeb5bdf1017",
       "placeholder": "0",
       "style": "IPY_MODEL_36ef51161f4849d295e177ab5b35aab3",
       "value": "0 seconds"
      }
     },
     "ba2df3bfaee74f3abb3f1c4263302cb5": {
      "model_module": "@jupyter-widgets/controls",
      "model_module_version": "1.4.0",
      "model_name": "ProgressStyleModel",
      "state": {
       "description_width": "initial"
      }
     },
     "baccb3628d6f4b69aa8703521dace59b": {
      "model_module": "@jupyter-widgets/controls",
      "model_module_version": "1.4.0",
      "model_name": "DescriptionStyleModel",
      "state": {
       "description_width": "initial"
      }
     },
     "bee1b0de041f4526aa6280d7bd90309e": {
      "model_module": "@jupyter-widgets/controls",
      "model_module_version": "1.4.0",
      "model_name": "DescriptionStyleModel",
      "state": {
       "description_width": "initial"
      }
     },
     "c0012488af474938bc277553ae43be3a": {
      "model_module": "@jupyter-widgets/controls",
      "model_module_version": "1.4.0",
      "model_name": "DescriptionStyleModel",
      "state": {
       "description_width": "initial"
      }
     },
     "c15de76a61b04ad483a6032033bc9bfa": {
      "model_module": "@jupyter-widgets/base",
      "model_module_version": "1.1.0",
      "model_name": "LayoutModel",
      "state": {}
     },
     "c1ec8825f1b346f194466e2abf11e7f9": {
      "model_module": "@jupyter-widgets/controls",
      "model_module_version": "1.4.0",
      "model_name": "HTMLModel",
      "state": {
       "description": "Remaining:",
       "layout": "IPY_MODEL_c3b10934a2b7400689ee371cc2adef26",
       "placeholder": "0",
       "style": "IPY_MODEL_baccb3628d6f4b69aa8703521dace59b",
       "value": "0 seconds"
      }
     },
     "c21584ac3d1a4a34add18440995a8151": {
      "model_module": "@jupyter-widgets/controls",
      "model_module_version": "1.4.0",
      "model_name": "DescriptionStyleModel",
      "state": {
       "description_width": "initial"
      }
     },
     "c3b10934a2b7400689ee371cc2adef26": {
      "model_module": "@jupyter-widgets/base",
      "model_module_version": "1.1.0",
      "model_name": "LayoutModel",
      "state": {}
     },
     "c46ec6c31c654a45997eb7c50410a230": {
      "model_module": "@jupyter-widgets/base",
      "model_module_version": "1.1.0",
      "model_name": "LayoutModel",
      "state": {}
     },
     "c5641541cae541cab28ceae1e81655a4": {
      "model_module": "@jupyter-widgets/base",
      "model_module_version": "1.1.0",
      "model_name": "LayoutModel",
      "state": {
       "align_items": "stretch",
       "border": "ridge",
       "display": "flex",
       "flex_flow": "column",
       "height": "",
       "width": "70%"
      }
     },
     "c5f4f2915b024c8caf13c0460004bccb": {
      "model_module": "@jupyter-widgets/base",
      "model_module_version": "1.1.0",
      "model_name": "LayoutModel",
      "state": {}
     },
     "c94cdf32963f4ff5a15d5b220999ce18": {
      "model_module": "@jupyter-widgets/base",
      "model_module_version": "1.1.0",
      "model_name": "LayoutModel",
      "state": {}
     },
     "c9b91398ac1f41e188f82f65e01b3a89": {
      "model_module": "@jupyter-widgets/controls",
      "model_module_version": "1.4.0",
      "model_name": "HTMLModel",
      "state": {
       "description": "Total Estimated:",
       "layout": "IPY_MODEL_35900d1343634601a6dda075ef5103d5",
       "placeholder": "0",
       "style": "IPY_MODEL_f2de915a841a4fbbb4da86b855ebca3b",
       "value": "3.7\n seconds"
      }
     },
     "cbd2c10072d24d6a9feef3e5aaa6be79": {
      "model_module": "@jupyter-widgets/controls",
      "model_module_version": "1.4.0",
      "model_name": "HTMLModel",
      "state": {
       "description": "Total Estimated:",
       "layout": "IPY_MODEL_f14cf6e46bc24ec183aef4393564f169",
       "placeholder": "0",
       "style": "IPY_MODEL_e984d7ebd102453f8a2b7bb14952a017",
       "value": "3.4\n seconds"
      }
     },
     "cdbc811524584a7e9ee5ad1ec787f3d0": {
      "model_module": "@jupyter-widgets/base",
      "model_module_version": "1.1.0",
      "model_name": "LayoutModel",
      "state": {}
     },
     "cdf2f6ba5a974b1ba82d8f9810b58c89": {
      "model_module": "@jupyter-widgets/controls",
      "model_module_version": "1.4.0",
      "model_name": "HBoxModel",
      "state": {
       "children": [
        "IPY_MODEL_dfc68391d7e247fdb809f60326146c53",
        "IPY_MODEL_94a947f51a29436bab2797564f536cdf",
        "IPY_MODEL_da922dd9ab1b490ba24c1e0b83255e76"
       ],
       "layout": "IPY_MODEL_e1825577b46f43a9827845a6ab2da1fc"
      }
     },
     "d09ab06eb6784087b3934c42f2250d0d": {
      "model_module": "@jupyter-widgets/controls",
      "model_module_version": "1.4.0",
      "model_name": "DescriptionStyleModel",
      "state": {
       "description_width": "initial"
      }
     },
     "d0ad461895bf445198c973b61a695e89": {
      "model_module": "@jupyter-widgets/base",
      "model_module_version": "1.1.0",
      "model_name": "LayoutModel",
      "state": {}
     },
     "d1eb6b691e6e4818810fc57524441612": {
      "model_module": "@jupyter-widgets/controls",
      "model_module_version": "1.4.0",
      "model_name": "ProgressStyleModel",
      "state": {
       "description_width": "initial"
      }
     },
     "d276b1cad0b04fa3a365fc22911337e5": {
      "model_module": "@jupyter-widgets/controls",
      "model_module_version": "1.4.0",
      "model_name": "HTMLModel",
      "state": {
       "description": "Total Estimated:",
       "layout": "IPY_MODEL_5bc5c229b68c4fc79faf951bdbd0a622",
       "placeholder": "0",
       "style": "IPY_MODEL_c0012488af474938bc277553ae43be3a",
       "value": "3.5\n seconds"
      }
     },
     "d288270be05d4dc487f45e63e08d7efb": {
      "model_module": "@jupyter-widgets/controls",
      "model_module_version": "1.4.0",
      "model_name": "FloatProgressModel",
      "state": {
       "bar_style": "info",
       "description": "Processing",
       "layout": "IPY_MODEL_ef263668e9444491a0a598a4f565c6a5",
       "style": "IPY_MODEL_4df446755094477cb0a79463c270580f"
      }
     },
     "d3faf2c4d1a74d929b46b063aa2c2910": {
      "model_module": "@jupyter-widgets/controls",
      "model_module_version": "1.4.0",
      "model_name": "DescriptionStyleModel",
      "state": {
       "description_width": "initial"
      }
     },
     "d4342cca6d554f2bbfe4070541027134": {
      "model_module": "@jupyter-widgets/base",
      "model_module_version": "1.1.0",
      "model_name": "LayoutModel",
      "state": {}
     },
     "d5291ac4e30e4b4c90b0bb78a3d31a50": {
      "model_module": "@jupyter-widgets/controls",
      "model_module_version": "1.4.0",
      "model_name": "FloatProgressModel",
      "state": {
       "bar_style": "info",
       "description": "Processing",
       "layout": "IPY_MODEL_2842c3aa3ea242d3bd922b4c7f6012a2",
       "style": "IPY_MODEL_154e0756aca94f78a3100f03bb0d099c",
       "value": 100
      }
     },
     "d5937a9cd4fe4ecea6bb4ed2d2ee5494": {
      "model_module": "@jupyter-widgets/controls",
      "model_module_version": "1.4.0",
      "model_name": "DescriptionStyleModel",
      "state": {
       "description_width": "initial"
      }
     },
     "d63a831122444a2fa277d195c9da6439": {
      "model_module": "@jupyter-widgets/controls",
      "model_module_version": "1.4.0",
      "model_name": "FloatProgressModel",
      "state": {
       "bar_style": "info",
       "description": "Processing",
       "layout": "IPY_MODEL_2e682c67ad614f9d988ed9ce4c845a1b",
       "style": "IPY_MODEL_0aa9f1c93f0147f584e20fd597d199fc"
      }
     },
     "d7051c0d217c4cf3adaa97820e8f95b6": {
      "model_module": "@jupyter-widgets/controls",
      "model_module_version": "1.4.0",
      "model_name": "DescriptionStyleModel",
      "state": {
       "description_width": "initial"
      }
     },
     "d743a8b614f34f6bb19945b27f8e2f92": {
      "model_module": "@jupyter-widgets/base",
      "model_module_version": "1.1.0",
      "model_name": "LayoutModel",
      "state": {
       "align_items": "stretch",
       "border": "ridge",
       "display": "flex",
       "flex_flow": "column",
       "height": "",
       "width": "70%"
      }
     },
     "d9d41bdf30e440c387f15017bbede5a3": {
      "model_module": "@jupyter-widgets/base",
      "model_module_version": "1.1.0",
      "model_name": "LayoutModel",
      "state": {
       "align_items": "stretch",
       "border": "ridge",
       "display": "flex",
       "flex_flow": "column",
       "height": "",
       "width": "70%"
      }
     },
     "da922dd9ab1b490ba24c1e0b83255e76": {
      "model_module": "@jupyter-widgets/controls",
      "model_module_version": "1.4.0",
      "model_name": "HTMLModel",
      "state": {
       "description": "Remaining:",
       "layout": "IPY_MODEL_b49bd2c874cb4d289d0aeadf65d3a704",
       "placeholder": "0",
       "style": "IPY_MODEL_bee1b0de041f4526aa6280d7bd90309e",
       "value": "0 seconds"
      }
     },
     "db4c0b6ec8ea499f89ae433b357814f3": {
      "model_module": "@jupyter-widgets/controls",
      "model_module_version": "1.4.0",
      "model_name": "HTMLModel",
      "state": {
       "description": "Remaining:",
       "layout": "IPY_MODEL_a400142fb9de46fcaf2ebbfd5555a8a3",
       "placeholder": "0",
       "style": "IPY_MODEL_7bfd634cfda842eea0e8947add6dcd70",
       "value": "0 seconds"
      }
     },
     "dca767fb91d74a84ace829a87748e7b4": {
      "model_module": "@jupyter-widgets/controls",
      "model_module_version": "1.4.0",
      "model_name": "DescriptionStyleModel",
      "state": {
       "description_width": "initial"
      }
     },
     "dd44d43b9ef749b4a275bfeb5bdf1017": {
      "model_module": "@jupyter-widgets/base",
      "model_module_version": "1.1.0",
      "model_name": "LayoutModel",
      "state": {}
     },
     "dfc68391d7e247fdb809f60326146c53": {
      "model_module": "@jupyter-widgets/controls",
      "model_module_version": "1.4.0",
      "model_name": "FloatProgressModel",
      "state": {
       "bar_style": "info",
       "description": "Processing",
       "layout": "IPY_MODEL_666c61b7388a4d008cdd24900d4cfd34",
       "style": "IPY_MODEL_75b8e9eebea34db4991ca1bed55d0e53"
      }
     },
     "e0b5b994cb2043dea61c57a91a92f4e2": {
      "model_module": "@jupyter-widgets/base",
      "model_module_version": "1.1.0",
      "model_name": "LayoutModel",
      "state": {}
     },
     "e12f91ef3fe043b7afcc52369e3afe85": {
      "model_module": "@jupyter-widgets/controls",
      "model_module_version": "1.4.0",
      "model_name": "HTMLModel",
      "state": {
       "description": "Total Estimated:",
       "layout": "IPY_MODEL_2a93b306b9d54164a34557164d42e767",
       "placeholder": "0",
       "style": "IPY_MODEL_797f2501f29b45c2b83fe703d98cdaf0",
       "value": "5.6\n seconds"
      }
     },
     "e1825577b46f43a9827845a6ab2da1fc": {
      "model_module": "@jupyter-widgets/base",
      "model_module_version": "1.1.0",
      "model_name": "LayoutModel",
      "state": {
       "align_items": "stretch",
       "border": "ridge",
       "display": "flex",
       "flex_flow": "column",
       "height": "",
       "width": "70%"
      }
     },
     "e2294a379245494abd3de9ae0e32a196": {
      "model_module": "@jupyter-widgets/controls",
      "model_module_version": "1.4.0",
      "model_name": "ProgressStyleModel",
      "state": {
       "description_width": "initial"
      }
     },
     "e3c30fec2b0f4221b0af0d12e4de9634": {
      "model_module": "@jupyter-widgets/base",
      "model_module_version": "1.1.0",
      "model_name": "LayoutModel",
      "state": {
       "align_items": "stretch",
       "border": "ridge",
       "display": "flex",
       "flex_flow": "column",
       "height": "",
       "width": "70%"
      }
     },
     "e479139002c744e5a1c99990923cdd0f": {
      "model_module": "@jupyter-widgets/controls",
      "model_module_version": "1.4.0",
      "model_name": "HTMLModel",
      "state": {
       "description": "Remaining:",
       "layout": "IPY_MODEL_40014592e9a04416b6b1f2a702a95575",
       "placeholder": "0",
       "style": "IPY_MODEL_5406da9a0acc4525be1c8534b4091f5c",
       "value": "0 seconds"
      }
     },
     "e4d200a305b246aeab18db6c18231d30": {
      "model_module": "@jupyter-widgets/controls",
      "model_module_version": "1.4.0",
      "model_name": "HTMLModel",
      "state": {
       "description": "Remaining:",
       "layout": "IPY_MODEL_d4342cca6d554f2bbfe4070541027134",
       "placeholder": "0",
       "style": "IPY_MODEL_9f49836d249145758bdbe56cc61a25db",
       "value": "0 seconds"
      }
     },
     "e5f90d197a9a469eac578a756c784cec": {
      "model_module": "@jupyter-widgets/base",
      "model_module_version": "1.1.0",
      "model_name": "LayoutModel",
      "state": {}
     },
     "e984d7ebd102453f8a2b7bb14952a017": {
      "model_module": "@jupyter-widgets/controls",
      "model_module_version": "1.4.0",
      "model_name": "DescriptionStyleModel",
      "state": {
       "description_width": "initial"
      }
     },
     "e9f2816bafa54401ac70e60aaeae533b": {
      "model_module": "@jupyter-widgets/controls",
      "model_module_version": "1.4.0",
      "model_name": "HTMLModel",
      "state": {
       "description": "Total Estimated:",
       "layout": "IPY_MODEL_8d581927eb9d45ec9d393461e4961aae",
       "placeholder": "0",
       "style": "IPY_MODEL_5fb3cce6b3cf4f4b9760e63ab524542c",
       "value": "5.5\n seconds"
      }
     },
     "ea8568f2252f424db1c8e357f34692d6": {
      "model_module": "@jupyter-widgets/controls",
      "model_module_version": "1.4.0",
      "model_name": "FloatProgressModel",
      "state": {
       "bar_style": "info",
       "description": "Processing",
       "layout": "IPY_MODEL_702efe70ea6c43a890860c9035f21cdb",
       "style": "IPY_MODEL_3c75c367d4994d84a3a951d62b805f59",
       "value": 100
      }
     },
     "eaa189575d0f4abcb50de051210fc0da": {
      "model_module": "@jupyter-widgets/base",
      "model_module_version": "1.1.0",
      "model_name": "LayoutModel",
      "state": {}
     },
     "eab0cac81fe64632bad57a66b4651e9c": {
      "model_module": "@jupyter-widgets/controls",
      "model_module_version": "1.4.0",
      "model_name": "FloatProgressModel",
      "state": {
       "bar_style": "info",
       "description": "Processing",
       "layout": "IPY_MODEL_ff5ad632690f42a38ac33c58ad17ca7b",
       "style": "IPY_MODEL_d1eb6b691e6e4818810fc57524441612",
       "value": 100
      }
     },
     "ef1db03049374652b7c91b002993bca3": {
      "model_module": "@jupyter-widgets/controls",
      "model_module_version": "1.4.0",
      "model_name": "DescriptionStyleModel",
      "state": {
       "description_width": "initial"
      }
     },
     "ef263668e9444491a0a598a4f565c6a5": {
      "model_module": "@jupyter-widgets/base",
      "model_module_version": "1.1.0",
      "model_name": "LayoutModel",
      "state": {}
     },
     "f05a7ecd186e42b99ad024b8102a9f9c": {
      "model_module": "@jupyter-widgets/controls",
      "model_module_version": "1.4.0",
      "model_name": "HTMLModel",
      "state": {
       "description": "Remaining:",
       "layout": "IPY_MODEL_a7eee6d384c147f884dfca62b890d5fe",
       "placeholder": "0",
       "style": "IPY_MODEL_02d06fbcbe85402bb0a3fceccffdc397",
       "value": "0 seconds"
      }
     },
     "f14cf6e46bc24ec183aef4393564f169": {
      "model_module": "@jupyter-widgets/base",
      "model_module_version": "1.1.0",
      "model_name": "LayoutModel",
      "state": {}
     },
     "f2776b35587f47eb9107a46335f1b257": {
      "model_module": "@jupyter-widgets/base",
      "model_module_version": "1.1.0",
      "model_name": "LayoutModel",
      "state": {}
     },
     "f2d50e8430b94f378ad3a3a57c86f84d": {
      "model_module": "@jupyter-widgets/controls",
      "model_module_version": "1.4.0",
      "model_name": "FloatProgressModel",
      "state": {
       "bar_style": "info",
       "description": "Processing",
       "layout": "IPY_MODEL_cdbc811524584a7e9ee5ad1ec787f3d0",
       "style": "IPY_MODEL_0948a3b3a077442ea44748a6352ffd35",
       "value": 100
      }
     },
     "f2de915a841a4fbbb4da86b855ebca3b": {
      "model_module": "@jupyter-widgets/controls",
      "model_module_version": "1.4.0",
      "model_name": "DescriptionStyleModel",
      "state": {
       "description_width": "initial"
      }
     },
     "f3ac6224132f462c924d82b5000ebf26": {
      "model_module": "@jupyter-widgets/controls",
      "model_module_version": "1.4.0",
      "model_name": "HBoxModel",
      "state": {
       "children": [
        "IPY_MODEL_3315d86a92cd4df5a578e2f73aa38a1f",
        "IPY_MODEL_1300613ff8c54acba8ebd46db4f4de60",
        "IPY_MODEL_e479139002c744e5a1c99990923cdd0f"
       ],
       "layout": "IPY_MODEL_08e62e576d5f4b95a40f0fcda8d4df5b"
      }
     },
     "f7badc47e7f945139f99c045d98bf2e1": {
      "model_module": "@jupyter-widgets/base",
      "model_module_version": "1.1.0",
      "model_name": "LayoutModel",
      "state": {}
     },
     "f7ee28610cb34180a9f3f0dfd1325a0b": {
      "model_module": "@jupyter-widgets/controls",
      "model_module_version": "1.4.0",
      "model_name": "ProgressStyleModel",
      "state": {
       "description_width": "initial"
      }
     },
     "f863f91c8305497686b9c6f77736d391": {
      "model_module": "@jupyter-widgets/base",
      "model_module_version": "1.1.0",
      "model_name": "LayoutModel",
      "state": {
       "align_items": "stretch",
       "border": "ridge",
       "display": "flex",
       "flex_flow": "column",
       "height": "",
       "width": "70%"
      }
     },
     "fb75d3640d6c46dcaef96cf16c396501": {
      "model_module": "@jupyter-widgets/controls",
      "model_module_version": "1.4.0",
      "model_name": "HTMLModel",
      "state": {
       "description": "Total Estimated:",
       "layout": "IPY_MODEL_4e0c9b92f5cf46549c75a1af95e1ab3b",
       "placeholder": "0",
       "style": "IPY_MODEL_ef1db03049374652b7c91b002993bca3",
       "value": "5.3\n seconds"
      }
     },
     "ff5ad632690f42a38ac33c58ad17ca7b": {
      "model_module": "@jupyter-widgets/base",
      "model_module_version": "1.1.0",
      "model_name": "LayoutModel",
      "state": {}
     }
    },
    "version_major": 2,
    "version_minor": 0
   }
  }
 },
 "nbformat": 4,
 "nbformat_minor": 2
}
