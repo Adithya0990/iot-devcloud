{
 "cells": [
  {
   "cell_type": "code",
   "execution_count": null,
   "metadata": {},
   "outputs": [],
   "source": [
    "import sys, os \n",
    "import ipywidgets as widgets\n",
    "from pathlib import Path\n",
    "sys.path.insert(0, str(Path().resolve().parent.parent))\n",
    "from demoTools.demoutils import *\n",
    "from IPython.display import display"
   ]
  },
  {
   "cell_type": "code",
   "execution_count": null,
   "metadata": {},
   "outputs": [],
   "source": [
    "%%writefile healthcare_job_stocktf.sh\n",
    "\n",
    "cd $PBS_O_WORKDIR \n",
    "# Running the object detection code\n",
    "SAMPLEPATH=$PBS_O_WORKDIR\n",
    "source ~/anaconda3/etc/profile.d/conda.sh\n",
    "\n",
    "conda activate stocktf\n",
    "python3 healthcare.py -r $1\n",
    "conda deactivate"
   ]
  },
  {
   "cell_type": "code",
   "execution_count": null,
   "metadata": {},
   "outputs": [],
   "source": [
    "%%writefile healthcare_job_mkltf.sh\n",
    "\n",
    "cd $PBS_O_WORKDIR \n",
    "# Running the object detection code\n",
    "SAMPLEPATH=$PBS_O_WORKDIR\n",
    "source ~/anaconda3/etc/profile.d/conda.sh\n",
    "\n",
    "conda activate mkltf\n",
    "python3 healthcare.py -r $1 \n",
    "conda deactivate"
   ]
  },
  {
   "cell_type": "code",
   "execution_count": null,
   "metadata": {},
   "outputs": [],
   "source": [
    "core_stocktf = !qsub healthcare_job_stocktf.sh -l nodes=1:tank-870:i5-6500te  -F \"results/\"\n",
    "print(core_stocktf[0]) \n",
    "if core_stocktf:\n",
    "    progressIndicator('results/'+core_stocktf[0], 'i_progress.txt', \"Processing\", 0, 100)"
   ]
  },
  {
   "cell_type": "code",
   "execution_count": null,
   "metadata": {},
   "outputs": [],
   "source": [
    "#Submit job to the queue\n",
    "xeon_stocktf = !qsub healthcare_job_stocktf.sh -l nodes=1:tank-870:e3-1268l-v5 -F \"results/\"\n",
    "print(xeon_stocktf[0]) \n",
    "if xeon_stocktf:\n",
    "    progressIndicator('results/'+xeon_stocktf[0], 'i_progress.txt', \"Processing\", 0, 100)"
   ]
  },
  {
   "cell_type": "code",
   "execution_count": null,
   "metadata": {},
   "outputs": [],
   "source": [
    "core_mkltf = !qsub healthcare_job_mkltf.sh -l nodes=1:tank-870:i5-6500te  -F \"results/\"\n",
    "print(core_mkltf[0]) \n",
    "if core_mkltf:\n",
    "    progressIndicator('results/'+core_mkltf[0], 'i_progress.txt', \"Processing\", 0, 100)"
   ]
  },
  {
   "cell_type": "code",
   "execution_count": null,
   "metadata": {},
   "outputs": [],
   "source": [
    "#Submit job to the queue\n",
    "xeon_mkltf = !qsub healthcare_job_mkltf.sh -l nodes=1:tank-870:e3-1268l-v5  -F \"results/\"\n",
    "print(xeon_mkltf[0]) \n",
    "if xeon_mkltf:\n",
    "    progressIndicator('results/'+xeon_mkltf[0], 'i_progress.txt', \"Processing\", 0, 100)"
   ]
  },
  {
   "cell_type": "code",
   "execution_count": null,
   "metadata": {},
   "outputs": [],
   "source": [
    "outputHTML('IEI Tank (Intel Core CPU)',\n",
    "          'results/'+core_stocktf[0], '.png')"
   ]
  },
  {
   "cell_type": "code",
   "execution_count": null,
   "metadata": {},
   "outputs": [],
   "source": [
    "outputHTML('IEI Tank Xeon (Intel Xeon CPU)',\n",
    "          'results/'+xeon_stocktf[0], '.png')"
   ]
  },
  {
   "cell_type": "code",
   "execution_count": null,
   "metadata": {},
   "outputs": [],
   "source": [
    "outputHTML('IEI Tank (Intel Core CPU)',\n",
    "          'results/'+core_mkltf[0], '.png')"
   ]
  },
  {
   "cell_type": "code",
   "execution_count": null,
   "metadata": {},
   "outputs": [],
   "source": [
    "outputHTML('IEI Tank Xeon (Intel Xeon CPU)',\n",
    "          'results/'+xeon_mkltf[0], '.png')"
   ]
  },
  {
   "cell_type": "code",
   "execution_count": null,
   "metadata": {},
   "outputs": [],
   "source": [
    "arch_list = [('core_stocktf', 'Intel Core\\ni5-6500TE\\nCPU with MKL disabled'),\n",
    "             ('xeon_stocktf', 'Intel Xeon\\nE3-1268L v5\\nCPU with MKL disabled'),\n",
    "             ('core_mkltf', 'Intel Core\\ni5-6500TE\\nCPU with MKL enabled'),\n",
    "             ('xeon_mkltf', 'Intel Xeon\\nE3-1268L v5\\nCPU with MKL enabled'),\n",
    "             ]\n",
    "\n",
    "stats_list = []\n",
    "for job, a_name in arch_list:\n",
    "    if job in vars():\n",
    "        stats_list.append(('results/'+vars()[job][0]+'/stats.txt', a_name))\n",
    "    else:\n",
    "        stats_list.append(('placeholder'+job, a_name))\n",
    "\n",
    "summaryPlot(stats_list, 'Architecture', 'Time, seconds', 'Inference Engine Processing Time', 'time' )\n",
    "\n",
    "summaryPlot(stats_list, 'Architecture', 'Frames per second', 'Inference Engine FPS', 'fps' )"
   ]
  },
  {
   "cell_type": "code",
   "execution_count": null,
   "metadata": {},
   "outputs": [],
   "source": []
  }
 ],
 "metadata": {
  "kernelspec": {
   "display_name": "Python 3 (Ubuntu)",
   "language": "python",
   "name": "c003-python_3"
  },
  "language_info": {
   "codemirror_mode": {
    "name": "ipython",
    "version": 3
   },
   "file_extension": ".py",
   "mimetype": "text/x-python",
   "name": "python",
   "nbconvert_exporter": "python",
   "pygments_lexer": "ipython3",
   "version": "3.5.2"
  }
 },
 "nbformat": 4,
 "nbformat_minor": 2
}
