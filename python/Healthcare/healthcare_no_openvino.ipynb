{
 "cells": [
  {
   "cell_type": "markdown",
   "metadata": {},
   "source": [
    "# Brain Tumor Segmentation (BraTS) with MKL-DNN"
   ]
  },
  {
   "cell_type": "markdown",
   "metadata": {},
   "source": [
    "In this code example, we apply the U-Net architecture to segment brain tumors from raw MRI scans. With relatively little data we are able to train a U-Net model to accurately predict where tumors exist. The below MRI brain scans highlight brain tumor matter segmented using deep learning. \n",
    "\n",
    "For a more detailed explanation on the accuracy of these predictions and U-Net, please reference the **\"Brain Tumor Segmentation with OpenVINO™\"** introduction. "
   ]
  },
  {
   "cell_type": "markdown",
   "metadata": {},
   "source": [
    "<img src=\"images/figure1.png\">"
   ]
  },
  {
   "cell_type": "markdown",
   "metadata": {},
   "source": [
    "## Demonstration objectives\n",
    "* Healthcare use-case demo\n",
    "* **MKL-DNN** library in action\n",
    "* U-Net based segmentation on edge hardware\n",
    "* Inference performance comparison between MKL-enabled TensorFlow vs. MKL-disabled TensorFlow"
   ]
  },
  {
   "cell_type": "markdown",
   "metadata": {},
   "source": [
    "## Step 0: Set Up\n",
    "\n",
    "### 0.1: Import dependencies\n",
    "\n",
    "Run the below cells to import dependencies (select the cell and use **Ctrl+enter** to run the cell). "
   ]
  },
  {
   "cell_type": "code",
   "execution_count": 14,
   "metadata": {},
   "outputs": [],
   "source": [
    "import sys, os \n",
    "import ipywidgets as widgets\n",
    "from pathlib import Path\n",
    "sys.path.insert(0, str(Path().resolve().parent.parent))\n",
    "from demoTools.demoutils import *\n",
    "from IPython.display import display"
   ]
  },
  {
   "cell_type": "markdown",
   "metadata": {},
   "source": [
    "## Step 1. Create the Queue Jobs\n",
    "Now we configure MKL-DNN (Math Kernel Library for Deep Neural Networks), a library that utilizes the full power of Intel® processors. We will setup up both a **stock (MKL-disabled)** and **optimized (MKL-enabled)** version of TensorFlow and the associated conda environments to compare their performance. Note that these steps may take a few minutes as we will be installing packages locally to your instance in the DevCloud.\n",
    "\n",
    "Here we will create a job to run on the edge using the **MKL-disabled** TensorFlow virtual environment. "
   ]
  },
  {
   "cell_type": "code",
   "execution_count": 15,
   "metadata": {},
   "outputs": [
    {
     "name": "stdout",
     "output_type": "stream",
     "text": [
      "stocktf conda environment exists\n"
     ]
    }
   ],
   "source": [
    "#Check if conda env with stock tensorflow already exists\n",
    "stocktf_exist = !/glob/supplementary-software/versions/Miniconda/miniconda3/condabin/conda info --envs | grep \"stocktf \"\n",
    "if not stocktf_exist:\n",
    "    print(\"Create stocktf conda environment\")\n",
    "    !/glob/supplementary-software/versions/Miniconda/miniconda3/condabin/conda config --set auto_activate_base false\n",
    "    !/glob/supplementary-software/versions/Miniconda/miniconda3/condabin/conda env create -f \"stocktf.yml\"\n",
    "else:\n",
    "    print(\"stocktf conda environment exists\")"
   ]
  },
  {
   "cell_type": "code",
   "execution_count": 16,
   "metadata": {},
   "outputs": [
    {
     "name": "stdout",
     "output_type": "stream",
     "text": [
      "Overwriting healthcare_job_stocktf.sh\n"
     ]
    }
   ],
   "source": [
    "%%writefile healthcare_job_stocktf.sh\n",
    "\n",
    "# Prevent error and output files from being saved to DevCloud\n",
    "#PBS -e /dev/null\n",
    "\n",
    "cd $PBS_O_WORKDIR \n",
    "# Running the code inside stocktf conda env\n",
    "SAMPLEPATH=$PBS_O_WORKDIR\n",
    "export PATH=/glob/supplementary-software/versions/Miniconda/miniconda3/condabin:$PATH\n",
    "source /glob/supplementary-software/versions/Miniconda/miniconda3/etc/profile.d/conda.sh\n",
    "conda activate stocktf\n",
    "python3 healthcare_no_openvino.py -r $1\n",
    "conda deactivate"
   ]
  },
  {
   "cell_type": "markdown",
   "metadata": {},
   "source": [
    "Here we will create a job to run on the edge using the **MKL-enabled** TensorFlow virtual environment. "
   ]
  },
  {
   "cell_type": "code",
   "execution_count": 17,
   "metadata": {},
   "outputs": [
    {
     "name": "stdout",
     "output_type": "stream",
     "text": [
      "mkltf conda environment exists\n"
     ]
    }
   ],
   "source": [
    "#Check if conda env with optimized tensorflow using mkl already exists\n",
    "mkltf_exist = !/glob/supplementary-software/versions/Miniconda/miniconda3/condabin/conda info --envs | grep \"mkltf \"\n",
    "if not mkltf_exist:\n",
    "    print(\"Create mkltf conda environment\")\n",
    "    !/glob/supplementary-software/versions/Miniconda/miniconda3/condabin/conda config --set auto_activate_base false\n",
    "    !/glob/supplementary-software/versions/Miniconda/miniconda3/condabin/conda env create -f \"mkltf.yml\"\n",
    "else:\n",
    "    print(\"mkltf conda environment exists\")"
   ]
  },
  {
   "cell_type": "code",
   "execution_count": 18,
   "metadata": {},
   "outputs": [
    {
     "name": "stdout",
     "output_type": "stream",
     "text": [
      "Overwriting healthcare_job_mkltf.sh\n"
     ]
    }
   ],
   "source": [
    "%%writefile healthcare_job_mkltf.sh\n",
    "\n",
    "# Prevent error and output files from being saved to DevCloud\n",
    "#PBS -e /dev/null\n",
    "\n",
    "cd $PBS_O_WORKDIR \n",
    "# Running the code inside mkltf conda env\n",
    "SAMPLEPATH=$PBS_O_WORKDIR\n",
    "export PATH=/glob/supplementary-software/versions/Miniconda/miniconda3/condabin:$PATH\n",
    "source /glob/supplementary-software/versions/Miniconda/miniconda3/etc/profile.d/conda.sh\n",
    "conda activate mkltf\n",
    "python3 healthcare_no_openvino.py -r $1 \n",
    "conda deactivate"
   ]
  },
  {
   "cell_type": "markdown",
   "metadata": {},
   "source": [
    "## Step 2. Inference Time!\n",
    "Here we create job files and submit them to different edge compute nodes. They will go into a queue and run once the compute resources are available. "
   ]
  },
  {
   "cell_type": "markdown",
   "metadata": {},
   "source": [
    "#### Submitting to an edge compute node with an Intel® CPU\n",
    "In the cell below, we submit a job to an <a \n",
    "    href=\"https://software.intel.com/en-us/iot/hardware/iei-tank-dev-kit-core\">IEI \n",
    "    Tank* 870-Q170</a> edge node with an <a \n",
    "    href=\"https://ark.intel.com/products/88186/Intel-Core-i5-6500TE-Processor-6M-Cache-up-to-3-30-GHz-\">Intel® Core™ i5-6500TE processor</a>. The inference workload will run the CPU inside stocktf conda environment."
   ]
  },
  {
   "cell_type": "code",
   "execution_count": 19,
   "metadata": {},
   "outputs": [
    {
     "name": "stdout",
     "output_type": "stream",
     "text": [
      "1360.v-qsvr-1.devcloud-edge\n"
     ]
    },
    {
     "data": {
      "application/vnd.jupyter.widget-view+json": {
       "model_id": "a2208aac7ef94db0b0dc0e843647c7fc",
       "version_major": 2,
       "version_minor": 0
      },
      "text/plain": [
       "HBox(children=(FloatProgress(value=0.0, bar_style='info', description='Processing', style=ProgressStyle(descri…"
      ]
     },
     "metadata": {},
     "output_type": "display_data"
    }
   ],
   "source": [
    "core_stocktf = !qsub healthcare_job_stocktf.sh -l nodes=1:idc001skl:tank-870:i5-6500te -F \"results/\"\n",
    "print(core_stocktf[0]) \n",
    "if core_stocktf:\n",
    "    progressIndicator('results/'+core_stocktf[0], 'i_progress.txt', \"Processing\", 0, 100)"
   ]
  },
  {
   "cell_type": "markdown",
   "metadata": {},
   "source": [
    "#### Submitting to an edge compute node with Intel® Xeon® CPU\n",
    "In the cell below, we submit a job to an <a \n",
    "    href=\"https://software.intel.com/en-us/iot/hardware/iei-tank-dev-kit-core\">IEI \n",
    "    Tank* 870-Q170</a> edge node with an <a \n",
    "    href=\"https://ark.intel.com/products/88178/Intel-Xeon-Processor-E3-1268L-v5-8M-Cache-2-40-GHz-\">Intel® \n",
    "    Xeon® Processor E3-1268L v5</a>. The inference workload will run on the CPU inside stocktf conda environment."
   ]
  },
  {
   "cell_type": "code",
   "execution_count": 20,
   "metadata": {},
   "outputs": [
    {
     "name": "stdout",
     "output_type": "stream",
     "text": [
      "1370.v-qsvr-1.devcloud-edge\n"
     ]
    },
    {
     "data": {
      "application/vnd.jupyter.widget-view+json": {
       "model_id": "ccc994c75f4f41e4a362b856dd7448a5",
       "version_major": 2,
       "version_minor": 0
      },
      "text/plain": [
       "HBox(children=(FloatProgress(value=0.0, bar_style='info', description='Processing', style=ProgressStyle(descri…"
      ]
     },
     "metadata": {},
     "output_type": "display_data"
    }
   ],
   "source": [
    "#Submit job to the queue\n",
    "xeon_stocktf = !qsub healthcare_job_stocktf.sh -l nodes=1:idc007xv5:e3-1268l-v5 -F \"results/\"\n",
    "print(xeon_stocktf[0]) \n",
    "if xeon_stocktf:\n",
    "    progressIndicator('results/'+xeon_stocktf[0], 'i_progress.txt', \"Processing\", 0, 100)"
   ]
  },
  {
   "cell_type": "markdown",
   "metadata": {},
   "source": [
    "#### Submitting to an edge compute node with an Intel® CPU\n",
    "In the cell below, we submit a job to an <a \n",
    "    href=\"https://software.intel.com/en-us/iot/hardware/iei-tank-dev-kit-core\">IEI \n",
    "    Tank* 870-Q170</a> edge node with an <a \n",
    "    href=\"https://ark.intel.com/products/88186/Intel-Core-i5-6500TE-Processor-6M-Cache-up-to-3-30-GHz-\">Intel® Core™ i5-6500TE processor</a>. The inference workload will run the CPU inside mkltf conda environment."
   ]
  },
  {
   "cell_type": "code",
   "execution_count": 21,
   "metadata": {},
   "outputs": [
    {
     "name": "stdout",
     "output_type": "stream",
     "text": [
      "1371.v-qsvr-1.devcloud-edge\n"
     ]
    },
    {
     "data": {
      "application/vnd.jupyter.widget-view+json": {
       "model_id": "209f127d8497444cb784e861270a60d7",
       "version_major": 2,
       "version_minor": 0
      },
      "text/plain": [
       "HBox(children=(FloatProgress(value=0.0, bar_style='info', description='Processing', style=ProgressStyle(descri…"
      ]
     },
     "metadata": {},
     "output_type": "display_data"
    }
   ],
   "source": [
    "core_mkltf = !qsub healthcare_job_mkltf.sh -l nodes=1:idc001skl:tank-870:i5-6500te  -F \"results/\"\n",
    "print(core_mkltf[0]) \n",
    "if core_mkltf:\n",
    "    progressIndicator('results/'+core_mkltf[0], 'i_progress.txt', \"Processing\", 0, 100)"
   ]
  },
  {
   "cell_type": "markdown",
   "metadata": {},
   "source": [
    "#### Submitting to an edge compute node with Intel® Xeon® CPU\n",
    "In the cell below, we submit a job to an <a \n",
    "    href=\"https://software.intel.com/en-us/iot/hardware/iei-tank-dev-kit-core\">IEI \n",
    "    Tank* 870-Q170</a> edge node with an <a \n",
    "    href=\"https://ark.intel.com/products/88178/Intel-Xeon-Processor-E3-1268L-v5-8M-Cache-2-40-GHz-\">Intel® \n",
    "    Xeon® Processor E3-1268L v5</a>. The inference workload will run on the CPU inside mkltf conda environment."
   ]
  },
  {
   "cell_type": "code",
   "execution_count": 22,
   "metadata": {},
   "outputs": [
    {
     "name": "stdout",
     "output_type": "stream",
     "text": [
      "1372.v-qsvr-1.devcloud-edge\n"
     ]
    },
    {
     "data": {
      "application/vnd.jupyter.widget-view+json": {
       "model_id": "e4dcbd5607b34a08a213de6cecd8a5bc",
       "version_major": 2,
       "version_minor": 0
      },
      "text/plain": [
       "HBox(children=(FloatProgress(value=0.0, bar_style='info', description='Processing', style=ProgressStyle(descri…"
      ]
     },
     "metadata": {},
     "output_type": "display_data"
    }
   ],
   "source": [
    "#Submit job to the queue\n",
    "xeon_mkltf = !qsub healthcare_job_mkltf.sh -l nodes=1:idc007xv5:e3-1268l-v5  -F \"results/\"\n",
    "print(xeon_mkltf[0]) \n",
    "if xeon_mkltf:\n",
    "    progressIndicator('results/'+xeon_mkltf[0], 'i_progress.txt', \"Processing\", 0, 100)"
   ]
  },
  {
   "cell_type": "markdown",
   "metadata": {},
   "source": [
    "You can view the status of the jobs below. "
   ]
  },
  {
   "cell_type": "code",
   "execution_count": 23,
   "metadata": {},
   "outputs": [
    {
     "data": {
      "application/vnd.jupyter.widget-view+json": {
       "model_id": "d8e01a15b5294509a5d3ddf417616978",
       "version_major": 2,
       "version_minor": 0
      },
      "text/plain": [
       "Output(layout=Layout(border='1px solid gray', width='100%'))"
      ]
     },
     "metadata": {},
     "output_type": "display_data"
    },
    {
     "data": {
      "application/vnd.jupyter.widget-view+json": {
       "model_id": "e1ca4f0eb37240d484143020ebb01092",
       "version_major": 2,
       "version_minor": 0
      },
      "text/plain": [
       "Button(description='Stop', style=ButtonStyle())"
      ]
     },
     "metadata": {},
     "output_type": "display_data"
    }
   ],
   "source": [
    "liveQstat()"
   ]
  },
  {
   "cell_type": "markdown",
   "metadata": {},
   "source": [
    "## Step 3. Results\n",
    "### 3.1: Image Comparison\n",
    "Here, we visualize our predictions. We can observe the frame rate, execution time, and dice coefficient (a value that describes the similarity between the ground truth and the prediction, with 1.0 indicating 100% accuracy). Note that it may take a few seconds to display the results. "
   ]
  },
  {
   "cell_type": "code",
   "execution_count": 24,
   "metadata": {},
   "outputs": [
    {
     "data": {
      "text/html": [
       "<h2>IEI Tank (Intel Core CPU)</h2>\n",
       "    \t\t\t\tFrames processed per second = 24 \n",
       "    \t\t\t\t<img src='results/1360.v-qsvr-1.devcloud-edge/pred40.png' width='783' height='120'><img src='results/1360.v-qsvr-1.devcloud-edge/pred101.png' width='783' height='120'><img src='results/1360.v-qsvr-1.devcloud-edge/pred55.png' width='783' height='120'><img src='results/1360.v-qsvr-1.devcloud-edge/pred46.png' width='783' height='120'><img src='results/1360.v-qsvr-1.devcloud-edge/pred19.png' width='783' height='120'><img src='results/1360.v-qsvr-1.devcloud-edge/pred99.png' width='783' height='120'><img src='results/1360.v-qsvr-1.devcloud-edge/pred43.png' width='783' height='120'><img src='results/1360.v-qsvr-1.devcloud-edge/pred63.png' width='783' height='120'>\n",
       "    \t\t\t\t"
      ],
      "text/plain": [
       "<IPython.core.display.HTML object>"
      ]
     },
     "execution_count": 24,
     "metadata": {},
     "output_type": "execute_result"
    }
   ],
   "source": [
    "outputHTML('IEI Tank (Intel Core CPU)',\n",
    "          'results/'+core_stocktf[0], '.png')"
   ]
  },
  {
   "cell_type": "code",
   "execution_count": 28,
   "metadata": {},
   "outputs": [
    {
     "data": {
      "text/html": [
       "<h2>IEI Tank Xeon (Intel Xeon CPU)</h2>\n",
       "    \t\t\t\tFrames processed per second = 28 \n",
       "    \t\t\t\t<img src='results/1370.v-qsvr-1.devcloud-edge/pred40.png' width='783' height='120'><img src='results/1370.v-qsvr-1.devcloud-edge/pred101.png' width='783' height='120'><img src='results/1370.v-qsvr-1.devcloud-edge/pred55.png' width='783' height='120'><img src='results/1370.v-qsvr-1.devcloud-edge/pred46.png' width='783' height='120'><img src='results/1370.v-qsvr-1.devcloud-edge/pred19.png' width='783' height='120'><img src='results/1370.v-qsvr-1.devcloud-edge/pred99.png' width='783' height='120'><img src='results/1370.v-qsvr-1.devcloud-edge/pred43.png' width='783' height='120'><img src='results/1370.v-qsvr-1.devcloud-edge/pred63.png' width='783' height='120'>\n",
       "    \t\t\t\t"
      ],
      "text/plain": [
       "<IPython.core.display.HTML object>"
      ]
     },
     "execution_count": 28,
     "metadata": {},
     "output_type": "execute_result"
    }
   ],
   "source": [
    "outputHTML('IEI Tank Xeon (Intel Xeon CPU)',\n",
    "          'results/'+xeon_stocktf[0], '.png')"
   ]
  },
  {
   "cell_type": "code",
   "execution_count": 26,
   "metadata": {},
   "outputs": [
    {
     "data": {
      "text/html": [
       "<h2>IEI Tank (Intel Core CPU)</h2>\n",
       "    \t\t\t\t\n",
       "    \t\t\t\t\n",
       "    \t\t\t\t"
      ],
      "text/plain": [
       "<IPython.core.display.HTML object>"
      ]
     },
     "execution_count": 26,
     "metadata": {},
     "output_type": "execute_result"
    }
   ],
   "source": [
    "outputHTML('IEI Tank (Intel Core CPU)',\n",
    "          'results/'+core_mkltf[0], '.png')"
   ]
  },
  {
   "cell_type": "code",
   "execution_count": 27,
   "metadata": {},
   "outputs": [
    {
     "data": {
      "text/html": [
       "<h2>IEI Tank Xeon (Intel Xeon CPU)</h2>\n",
       "    \t\t\t\t\n",
       "    \t\t\t\t\n",
       "    \t\t\t\t"
      ],
      "text/plain": [
       "<IPython.core.display.HTML object>"
      ]
     },
     "execution_count": 27,
     "metadata": {},
     "output_type": "execute_result"
    }
   ],
   "source": [
    "outputHTML('IEI Tank Xeon (Intel Xeon CPU)',\n",
    "          'results/'+xeon_mkltf[0], '.png')"
   ]
  },
  {
   "cell_type": "markdown",
   "metadata": {},
   "source": [
    "### 3.2: Architecture Comparison\n",
    "Finally, we benchmark the processing time and frames per second on different architectures with MKL-DNN enabled and disabled."
   ]
  },
  {
   "cell_type": "code",
   "execution_count": 29,
   "metadata": {},
   "outputs": [
    {
     "data": {
      "image/png": "[encoded data removed]",
      "text/plain": [
       "<Figure size 1080x576 with 1 Axes>"
      ]
     },
     "metadata": {
      "needs_background": "light"
     },
     "output_type": "display_data"
    },
    {
     "data": {
      "image/png": "[encoded data removed]",
      "text/plain": [
       "<Figure size 1080x576 with 1 Axes>"
      ]
     },
     "metadata": {
      "needs_background": "light"
     },
     "output_type": "display_data"
    }
   ],
   "source": [
    "arch_list = [('core_stocktf', 'Intel Core\\ni5-6500TE\\nCPU with MKL disabled'),\n",
    "             ('xeon_stocktf', 'Intel Xeon\\nE3-1268L v5\\nCPU with MKL disabled'),\n",
    "             ('core_mkltf', 'Intel Core\\ni5-6500TE\\nCPU with MKL enabled'),\n",
    "             ('xeon_mkltf', 'Intel Xeon\\nE3-1268L v5\\nCPU with MKL enabled')\n",
    "             ]\n",
    "\n",
    "stats_list = []\n",
    "for job, a_name in arch_list:\n",
    "    if job in vars():\n",
    "        stats_list.append(('results/'+vars()[job][0]+'/stats.txt', a_name))\n",
    "    else:\n",
    "        stats_list.append(('placeholder'+job, a_name))\n",
    "\n",
    "summaryPlot(stats_list, 'Architecture', 'Time, seconds', 'Inference Engine Processing Time', 'time' )\n",
    "\n",
    "summaryPlot(stats_list, 'Architecture', 'Frames per second', 'Inference Engine FPS', 'fps' )"
   ]
  }
 ],
 "metadata": {
  "kernelspec": {
   "display_name": "Python 3 (Ubuntu)",
   "language": "python",
   "name": "c003-python_3"
  },
  "language_info": {
   "codemirror_mode": {
    "name": "ipython",
    "version": 3
   },
   "file_extension": ".py",
   "mimetype": "text/x-python",
   "name": "python",
   "nbconvert_exporter": "python",
   "pygments_lexer": "ipython3",
   "version": "3.6.8"
  },
  "widgets": {
   "application/vnd.jupyter.widget-state+json": {
    "state": {
     "0084c4b932404a6291e68397e0c23dfb": {
      "model_module": "@jupyter-widgets/base",
      "model_module_version": "1.1.0",
      "model_name": "LayoutModel",
      "state": {
       "align_items": "stretch",
       "border": "ridge",
       "display": "flex",
       "flex_flow": "column",
       "height": "",
       "width": "70%"
      }
     },
     "00d9a88664c14bd9820613b197e0e504": {
      "model_module": "@jupyter-widgets/controls",
      "model_module_version": "1.4.0",
      "model_name": "HBoxModel",
      "state": {
       "children": [
        "IPY_MODEL_2d9c8a4bc138490794ae921d0ddfcd1e",
        "IPY_MODEL_cbd2c10072d24d6a9feef3e5aaa6be79",
        "IPY_MODEL_ad650c1e2ef140788c7142c10e38b44a"
       ],
       "layout": "IPY_MODEL_311b7422bd13455fad37a276f00162ec"
      }
     },
     "018c9ae5a90a43e58ffe4c5de45ef4ef": {
      "model_module": "@jupyter-widgets/controls",
      "model_module_version": "1.4.0",
      "model_name": "HTMLModel",
      "state": {
       "description": "Total Estimated:",
       "layout": "IPY_MODEL_107a4f63633c425a97778eead7671038",
       "placeholder": "0",
       "style": "IPY_MODEL_44d11946ed1b443fb0065c6d09f9f0c1",
       "value": "0 seconds"
      }
     },
     "02ceba81b16b48a783a341280870b122": {
      "model_module": "@jupyter-widgets/controls",
      "model_module_version": "1.4.0",
      "model_name": "DescriptionStyleModel",
      "state": {
       "description_width": "initial"
      }
     },
     "02d06fbcbe85402bb0a3fceccffdc397": {
      "model_module": "@jupyter-widgets/controls",
      "model_module_version": "1.4.0",
      "model_name": "DescriptionStyleModel",
      "state": {
       "description_width": "initial"
      }
     },
     "03d693b74c694d0cb7453d13b269f21e": {
      "model_module": "@jupyter-widgets/controls",
      "model_module_version": "1.4.0",
      "model_name": "ProgressStyleModel",
      "state": {
       "description_width": "initial"
      }
     },
     "06580f4fa4804663baa184cb0f01141d": {
      "model_module": "@jupyter-widgets/base",
      "model_module_version": "1.1.0",
      "model_name": "LayoutModel",
      "state": {}
     },
     "06fd02e5a91e45da849fd6b3e351d401": {
      "model_module": "@jupyter-widgets/base",
      "model_module_version": "1.1.0",
      "model_name": "LayoutModel",
      "state": {}
     },
     "081ede0b0b4a4d019fb00fb361a75feb": {
      "model_module": "@jupyter-widgets/base",
      "model_module_version": "1.1.0",
      "model_name": "LayoutModel",
      "state": {
       "align_items": "stretch",
       "border": "ridge",
       "display": "flex",
       "flex_flow": "column",
       "height": "",
       "width": "70%"
      }
     },
     "08e62e576d5f4b95a40f0fcda8d4df5b": {
      "model_module": "@jupyter-widgets/base",
      "model_module_version": "1.1.0",
      "model_name": "LayoutModel",
      "state": {
       "align_items": "stretch",
       "border": "ridge",
       "display": "flex",
       "flex_flow": "column",
       "height": "",
       "width": "70%"
      }
     },
     "0948a3b3a077442ea44748a6352ffd35": {
      "model_module": "@jupyter-widgets/controls",
      "model_module_version": "1.4.0",
      "model_name": "ProgressStyleModel",
      "state": {
       "description_width": "initial"
      }
     },
     "0a5ac914884f4f6a8df347f3fa4006b0": {
      "model_module": "@jupyter-widgets/controls",
      "model_module_version": "1.4.0",
      "model_name": "DescriptionStyleModel",
      "state": {
       "description_width": "initial"
      }
     },
     "0aa9f1c93f0147f584e20fd597d199fc": {
      "model_module": "@jupyter-widgets/controls",
      "model_module_version": "1.4.0",
      "model_name": "ProgressStyleModel",
      "state": {
       "description_width": "initial"
      }
     },
     "0ba089327da342a9a1315a81f34c384c": {
      "model_module": "@jupyter-widgets/controls",
      "model_module_version": "1.4.0",
      "model_name": "HTMLModel",
      "state": {
       "description": "Total Estimated:",
       "layout": "IPY_MODEL_13589e6835c9425ab5f5d186b2a70af1",
       "placeholder": "0",
       "style": "IPY_MODEL_02ceba81b16b48a783a341280870b122",
       "value": "5.6\n seconds"
      }
     },
     "0ec037df013a4b7692835bb3e2799054": {
      "model_module": "@jupyter-widgets/controls",
      "model_module_version": "1.4.0",
      "model_name": "HTMLModel",
      "state": {
       "description": "Remaining:",
       "layout": "IPY_MODEL_957743e7a23b4b49be35d942311ab2fe",
       "placeholder": "0",
       "style": "IPY_MODEL_89d361398aab4f698447aed8c25a6c50",
       "value": "0 seconds"
      }
     },
     "107a4f63633c425a97778eead7671038": {
      "model_module": "@jupyter-widgets/base",
      "model_module_version": "1.1.0",
      "model_name": "LayoutModel",
      "state": {}
     },
     "12c59cfa2db44f72bf58fe2877b3bb60": {
      "model_module": "@jupyter-widgets/controls",
      "model_module_version": "1.4.0",
      "model_name": "DescriptionStyleModel",
      "state": {
       "description_width": "initial"
      }
     },
     "1300613ff8c54acba8ebd46db4f4de60": {
      "model_module": "@jupyter-widgets/controls",
      "model_module_version": "1.4.0",
      "model_name": "HTMLModel",
      "state": {
       "description": "Total Estimated:",
       "layout": "IPY_MODEL_821413b670414588a4e1352356cecbd9",
       "placeholder": "0",
       "style": "IPY_MODEL_d09ab06eb6784087b3934c42f2250d0d",
       "value": "3.5\n seconds"
      }
     },
     "13589e6835c9425ab5f5d186b2a70af1": {
      "model_module": "@jupyter-widgets/base",
      "model_module_version": "1.1.0",
      "model_name": "LayoutModel",
      "state": {}
     },
     "154e0756aca94f78a3100f03bb0d099c": {
      "model_module": "@jupyter-widgets/controls",
      "model_module_version": "1.4.0",
      "model_name": "ProgressStyleModel",
      "state": {
       "description_width": "initial"
      }
     },
     "15ba67307e114854b0a4d57ada6a9caa": {
      "model_module": "@jupyter-widgets/base",
      "model_module_version": "1.1.0",
      "model_name": "LayoutModel",
      "state": {}
     },
     "1eaaeaa0f6d145379a22353d1c71df43": {
      "model_module": "@jupyter-widgets/controls",
      "model_module_version": "1.4.0",
      "model_name": "ProgressStyleModel",
      "state": {
       "description_width": "initial"
      }
     },
     "27b99c2996c3442a9d547de1ae4c6f72": {
      "model_module": "@jupyter-widgets/base",
      "model_module_version": "1.1.0",
      "model_name": "LayoutModel",
      "state": {
       "align_items": "stretch",
       "border": "ridge",
       "display": "flex",
       "flex_flow": "column",
       "height": "",
       "width": "70%"
      }
     },
     "2842c3aa3ea242d3bd922b4c7f6012a2": {
      "model_module": "@jupyter-widgets/base",
      "model_module_version": "1.1.0",
      "model_name": "LayoutModel",
      "state": {}
     },
     "29a779c02e354eda863f5d3076f28569": {
      "model_module": "@jupyter-widgets/controls",
      "model_module_version": "1.4.0",
      "model_name": "ProgressStyleModel",
      "state": {
       "description_width": "initial"
      }
     },
     "2a93b306b9d54164a34557164d42e767": {
      "model_module": "@jupyter-widgets/base",
      "model_module_version": "1.1.0",
      "model_name": "LayoutModel",
      "state": {}
     },
     "2b54277f8e05497d803a289a8d507171": {
      "model_module": "@jupyter-widgets/base",
      "model_module_version": "1.1.0",
      "model_name": "LayoutModel",
      "state": {}
     },
     "2cccf9424d564ca0a9b006da79f2f53e": {
      "model_module": "@jupyter-widgets/controls",
      "model_module_version": "1.4.0",
      "model_name": "HBoxModel",
      "state": {
       "children": [
        "IPY_MODEL_d63a831122444a2fa277d195c9da6439",
        "IPY_MODEL_ab83d862bffd450fb31d5c233e2a5a2a",
        "IPY_MODEL_2ec98c6512bb494ebc15cf1446ae9fa6"
       ],
       "layout": "IPY_MODEL_c5641541cae541cab28ceae1e81655a4"
      }
     },
     "2d521c3373f54cb68b08b6f9d29787bd": {
      "model_module": "@jupyter-widgets/controls",
      "model_module_version": "1.4.0",
      "model_name": "DescriptionStyleModel",
      "state": {
       "description_width": "initial"
      }
     },
     "2d9c8a4bc138490794ae921d0ddfcd1e": {
      "model_module": "@jupyter-widgets/controls",
      "model_module_version": "1.4.0",
      "model_name": "FloatProgressModel",
      "state": {
       "bar_style": "info",
       "description": "Processing",
       "layout": "IPY_MODEL_e0b5b994cb2043dea61c57a91a92f4e2",
       "style": "IPY_MODEL_af26c8ad1a3e48098a424a631a4b732c",
       "value": 100
      }
     },
     "2dd13ca2653449ddb71971349b9e95f4": {
      "model_module": "@jupyter-widgets/controls",
      "model_module_version": "1.4.0",
      "model_name": "FloatProgressModel",
      "state": {
       "bar_style": "info",
       "description": "Processing",
       "layout": "IPY_MODEL_eaa189575d0f4abcb50de051210fc0da",
       "style": "IPY_MODEL_56522bfd5fc74dc197e0a3727cc10f6b"
      }
     },
     "2e682c67ad614f9d988ed9ce4c845a1b": {
      "model_module": "@jupyter-widgets/base",
      "model_module_version": "1.1.0",
      "model_name": "LayoutModel",
      "state": {}
     },
     "2ec98c6512bb494ebc15cf1446ae9fa6": {
      "model_module": "@jupyter-widgets/controls",
      "model_module_version": "1.4.0",
      "model_name": "HTMLModel",
      "state": {
       "description": "Remaining:",
       "layout": "IPY_MODEL_15ba67307e114854b0a4d57ada6a9caa",
       "placeholder": "0",
       "style": "IPY_MODEL_80ac4dc7404b48ccb69db30315f6ab77",
       "value": "0 seconds"
      }
     },
     "311b7422bd13455fad37a276f00162ec": {
      "model_module": "@jupyter-widgets/base",
      "model_module_version": "1.1.0",
      "model_name": "LayoutModel",
      "state": {
       "align_items": "stretch",
       "border": "ridge",
       "display": "flex",
       "flex_flow": "column",
       "height": "",
       "width": "70%"
      }
     },
     "3315d86a92cd4df5a578e2f73aa38a1f": {
      "model_module": "@jupyter-widgets/controls",
      "model_module_version": "1.4.0",
      "model_name": "FloatProgressModel",
      "state": {
       "bar_style": "info",
       "description": "Processing",
       "layout": "IPY_MODEL_c46ec6c31c654a45997eb7c50410a230",
       "style": "IPY_MODEL_96c7eb181fc1423c858852d6f6ddf2ae",
       "value": 100
      }
     },
     "3402dfe0c0c64360b29bc4570d04aab3": {
      "model_module": "@jupyter-widgets/controls",
      "model_module_version": "1.4.0",
      "model_name": "FloatProgressModel",
      "state": {
       "bar_style": "info",
       "description": "Processing",
       "layout": "IPY_MODEL_f7badc47e7f945139f99c045d98bf2e1",
       "style": "IPY_MODEL_29a779c02e354eda863f5d3076f28569",
       "value": 100
      }
     },
     "343a30bd20444d2e89249b3bfdf28451": {
      "model_module": "@jupyter-widgets/base",
      "model_module_version": "1.1.0",
      "model_name": "LayoutModel",
      "state": {}
     },
     "352d8aff80574da0ac5c179cf117625b": {
      "model_module": "@jupyter-widgets/controls",
      "model_module_version": "1.4.0",
      "model_name": "ProgressStyleModel",
      "state": {
       "description_width": "initial"
      }
     },
     "35900d1343634601a6dda075ef5103d5": {
      "model_module": "@jupyter-widgets/base",
      "model_module_version": "1.1.0",
      "model_name": "LayoutModel",
      "state": {}
     },
     "35ee231516ef40158d5e81b10d89111a": {
      "model_module": "@jupyter-widgets/controls",
      "model_module_version": "1.4.0",
      "model_name": "HBoxModel",
      "state": {
       "children": [
        "IPY_MODEL_9fca4a77ba1c463d9cb944280c1fe45e",
        "IPY_MODEL_b71f65def57d4a4bbc7c8fc2fa504f3a",
        "IPY_MODEL_0ec037df013a4b7692835bb3e2799054"
       ],
       "layout": "IPY_MODEL_d9d41bdf30e440c387f15017bbede5a3"
      }
     },
     "36ef51161f4849d295e177ab5b35aab3": {
      "model_module": "@jupyter-widgets/controls",
      "model_module_version": "1.4.0",
      "model_name": "DescriptionStyleModel",
      "state": {
       "description_width": "initial"
      }
     },
     "37f1bb9326f649ae9feb9f2de46425be": {
      "model_module": "@jupyter-widgets/base",
      "model_module_version": "1.1.0",
      "model_name": "LayoutModel",
      "state": {}
     },
     "3c75c367d4994d84a3a951d62b805f59": {
      "model_module": "@jupyter-widgets/controls",
      "model_module_version": "1.4.0",
      "model_name": "ProgressStyleModel",
      "state": {
       "description_width": "initial"
      }
     },
     "3ec8a7feeffe4bedba54b4df3f557616": {
      "model_module": "@jupyter-widgets/base",
      "model_module_version": "1.1.0",
      "model_name": "LayoutModel",
      "state": {}
     },
     "40014592e9a04416b6b1f2a702a95575": {
      "model_module": "@jupyter-widgets/base",
      "model_module_version": "1.1.0",
      "model_name": "LayoutModel",
      "state": {}
     },
     "423e66dbca8447e1b44b11a2e6e3ac8b": {
      "model_module": "@jupyter-widgets/base",
      "model_module_version": "1.1.0",
      "model_name": "LayoutModel",
      "state": {}
     },
     "43dd7fab95e2465fbfd98bf3694aa93e": {
      "model_module": "@jupyter-widgets/base",
      "model_module_version": "1.1.0",
      "model_name": "LayoutModel",
      "state": {}
     },
     "44d11946ed1b443fb0065c6d09f9f0c1": {
      "model_module": "@jupyter-widgets/controls",
      "model_module_version": "1.4.0",
      "model_name": "DescriptionStyleModel",
      "state": {
       "description_width": "initial"
      }
     },
     "46d0e873b8094f0bb013d04b816747ea": {
      "model_module": "@jupyter-widgets/controls",
      "model_module_version": "1.4.0",
      "model_name": "HTMLModel",
      "state": {
       "description": "Total Estimated:",
       "layout": "IPY_MODEL_06580f4fa4804663baa184cb0f01141d",
       "placeholder": "0",
       "style": "IPY_MODEL_5b8883a3aac745e9867e538fb354b2ef",
       "value": "3.3\n seconds"
      }
     },
     "46e74e5dd069463fbacb235b3a8ca9ce": {
      "model_module": "@jupyter-widgets/controls",
      "model_module_version": "1.4.0",
      "model_name": "DescriptionStyleModel",
      "state": {
       "description_width": "initial"
      }
     },
     "46f04832625143e6a71245816c15a57a": {
      "model_module": "@jupyter-widgets/controls",
      "model_module_version": "1.4.0",
      "model_name": "HTMLModel",
      "state": {
       "description": "Total Estimated:",
       "layout": "IPY_MODEL_50f1537b7032426ab989df1c1060377a",
       "placeholder": "0",
       "style": "IPY_MODEL_9796147a25f740498ad99ba23ea82781",
       "value": "0 seconds"
      }
     },
     "4861fab086fd4e1b92b02476d5de4de0": {
      "model_module": "@jupyter-widgets/controls",
      "model_module_version": "1.4.0",
      "model_name": "FloatProgressModel",
      "state": {
       "bar_style": "info",
       "description": "Processing",
       "layout": "IPY_MODEL_585ed766edcf44008b826b1bdff90c65",
       "style": "IPY_MODEL_1eaaeaa0f6d145379a22353d1c71df43"
      }
     },
     "4950116d1bec4cee81006528471c96d4": {
      "model_module": "@jupyter-widgets/controls",
      "model_module_version": "1.4.0",
      "model_name": "FloatProgressModel",
      "state": {
       "bar_style": "info",
       "description": "Processing",
       "layout": "IPY_MODEL_423e66dbca8447e1b44b11a2e6e3ac8b",
       "style": "IPY_MODEL_03d693b74c694d0cb7453d13b269f21e"
      }
     },
     "4df446755094477cb0a79463c270580f": {
      "model_module": "@jupyter-widgets/controls",
      "model_module_version": "1.4.0",
      "model_name": "ProgressStyleModel",
      "state": {
       "description_width": "initial"
      }
     },
     "4e0c9b92f5cf46549c75a1af95e1ab3b": {
      "model_module": "@jupyter-widgets/base",
      "model_module_version": "1.1.0",
      "model_name": "LayoutModel",
      "state": {}
     },
     "50f1537b7032426ab989df1c1060377a": {
      "model_module": "@jupyter-widgets/base",
      "model_module_version": "1.1.0",
      "model_name": "LayoutModel",
      "state": {}
     },
     "5406da9a0acc4525be1c8534b4091f5c": {
      "model_module": "@jupyter-widgets/controls",
      "model_module_version": "1.4.0",
      "model_name": "DescriptionStyleModel",
      "state": {
       "description_width": "initial"
      }
     },
     "5524057c59d843e098441c802823242c": {
      "model_module": "@jupyter-widgets/controls",
      "model_module_version": "1.4.0",
      "model_name": "DescriptionStyleModel",
      "state": {
       "description_width": "initial"
      }
     },
     "56522bfd5fc74dc197e0a3727cc10f6b": {
      "model_module": "@jupyter-widgets/controls",
      "model_module_version": "1.4.0",
      "model_name": "ProgressStyleModel",
      "state": {
       "description_width": "initial"
      }
     },
     "56981fe29b384eaaa50a185ee0e45720": {
      "model_module": "@jupyter-widgets/base",
      "model_module_version": "1.1.0",
      "model_name": "LayoutModel",
      "state": {
       "align_items": "stretch",
       "border": "ridge",
       "display": "flex",
       "flex_flow": "column",
       "height": "",
       "width": "70%"
      }
     },
     "56cf9a79b94847c3a86d3e2cd2c02e76": {
      "model_module": "@jupyter-widgets/controls",
      "model_module_version": "1.4.0",
      "model_name": "HBoxModel",
      "state": {
       "children": [
        "IPY_MODEL_2dd13ca2653449ddb71971349b9e95f4",
        "IPY_MODEL_a041dd93ba484c398488742cbddbf16c",
        "IPY_MODEL_908e5a7b55b0455981effe0ae7e237b8"
       ],
       "layout": "IPY_MODEL_56981fe29b384eaaa50a185ee0e45720"
      }
     },
     "585ed766edcf44008b826b1bdff90c65": {
      "model_module": "@jupyter-widgets/base",
      "model_module_version": "1.1.0",
      "model_name": "LayoutModel",
      "state": {}
     },
     "589fc02797ef476ca718d6a1a0d31abf": {
      "model_module": "@jupyter-widgets/controls",
      "model_module_version": "1.4.0",
      "model_name": "DescriptionStyleModel",
      "state": {
       "description_width": "initial"
      }
     },
     "59c4f9b8b3a94108b397b1f6ee54fc40": {
      "model_module": "@jupyter-widgets/controls",
      "model_module_version": "1.4.0",
      "model_name": "HTMLModel",
      "state": {
       "description": "Remaining:",
       "layout": "IPY_MODEL_43dd7fab95e2465fbfd98bf3694aa93e",
       "placeholder": "0",
       "style": "IPY_MODEL_2d521c3373f54cb68b08b6f9d29787bd",
       "value": "0 seconds"
      }
     },
     "5b117ca379474e159690fe71fe445040": {
      "model_module": "@jupyter-widgets/controls",
      "model_module_version": "1.4.0",
      "model_name": "HTMLModel",
      "state": {
       "description": "Remaining:",
       "layout": "IPY_MODEL_92c01686328340c1b85263ab189ce003",
       "placeholder": "0",
       "style": "IPY_MODEL_d5937a9cd4fe4ecea6bb4ed2d2ee5494",
       "value": "0 seconds"
      }
     },
     "5b8883a3aac745e9867e538fb354b2ef": {
      "model_module": "@jupyter-widgets/controls",
      "model_module_version": "1.4.0",
      "model_name": "DescriptionStyleModel",
      "state": {
       "description_width": "initial"
      }
     },
     "5bc5c229b68c4fc79faf951bdbd0a622": {
      "model_module": "@jupyter-widgets/base",
      "model_module_version": "1.1.0",
      "model_name": "LayoutModel",
      "state": {}
     },
     "5ed3417963444b67aadb48ac0b1d094d": {
      "model_module": "@jupyter-widgets/controls",
      "model_module_version": "1.4.0",
      "model_name": "HTMLModel",
      "state": {
       "description": "Remaining:",
       "layout": "IPY_MODEL_acbb8e83f005443599f01c76b3f4773b",
       "placeholder": "0",
       "style": "IPY_MODEL_6def78b0119f4574930695486460ae59",
       "value": "0 seconds"
      }
     },
     "5f01b39cc31d4b9197ad0b367034922e": {
      "model_module": "@jupyter-widgets/controls",
      "model_module_version": "1.4.0",
      "model_name": "HTMLModel",
      "state": {
       "description": "Total Estimated:",
       "layout": "IPY_MODEL_c94cdf32963f4ff5a15d5b220999ce18",
       "placeholder": "0",
       "style": "IPY_MODEL_12c59cfa2db44f72bf58fe2877b3bb60",
       "value": "3.3\n seconds"
      }
     },
     "5f089a7f9dac41e681b38114544b7728": {
      "model_module": "@jupyter-widgets/controls",
      "model_module_version": "1.4.0",
      "model_name": "HBoxModel",
      "state": {
       "children": [
        "IPY_MODEL_4950116d1bec4cee81006528471c96d4",
        "IPY_MODEL_b461cc3b06db455eb9f95d1a70b04fa3",
        "IPY_MODEL_69297b8f99ca48369375b32898859813"
       ],
       "layout": "IPY_MODEL_73a478298904494cbe8d4c770715845b"
      }
     },
     "5fb3cce6b3cf4f4b9760e63ab524542c": {
      "model_module": "@jupyter-widgets/controls",
      "model_module_version": "1.4.0",
      "model_name": "DescriptionStyleModel",
      "state": {
       "description_width": "initial"
      }
     },
     "632015e063284dca85f9cf2775cc5ad7": {
      "model_module": "@jupyter-widgets/controls",
      "model_module_version": "1.4.0",
      "model_name": "HBoxModel",
      "state": {
       "children": [
        "IPY_MODEL_ea8568f2252f424db1c8e357f34692d6",
        "IPY_MODEL_e9f2816bafa54401ac70e60aaeae533b",
        "IPY_MODEL_b76934aa766a4ab8af13139dff0c80be"
       ],
       "layout": "IPY_MODEL_081ede0b0b4a4d019fb00fb361a75feb"
      }
     },
     "65b3e9833a644180b57ec5b8d59a9a06": {
      "model_module": "@jupyter-widgets/base",
      "model_module_version": "1.1.0",
      "model_name": "LayoutModel",
      "state": {}
     },
     "666c61b7388a4d008cdd24900d4cfd34": {
      "model_module": "@jupyter-widgets/base",
      "model_module_version": "1.1.0",
      "model_name": "LayoutModel",
      "state": {}
     },
     "69297b8f99ca48369375b32898859813": {
      "model_module": "@jupyter-widgets/controls",
      "model_module_version": "1.4.0",
      "model_name": "HTMLModel",
      "state": {
       "description": "Remaining:",
       "layout": "IPY_MODEL_06fd02e5a91e45da849fd6b3e351d401",
       "placeholder": "0",
       "style": "IPY_MODEL_46e74e5dd069463fbacb235b3a8ca9ce",
       "value": "0 seconds"
      }
     },
     "69e1455d11694627b832f3365c0990d6": {
      "model_module": "@jupyter-widgets/base",
      "model_module_version": "1.1.0",
      "model_name": "LayoutModel",
      "state": {
       "align_items": "stretch",
       "border": "ridge",
       "display": "flex",
       "flex_flow": "column",
       "height": "",
       "width": "70%"
      }
     },
     "6def78b0119f4574930695486460ae59": {
      "model_module": "@jupyter-widgets/controls",
      "model_module_version": "1.4.0",
      "model_name": "DescriptionStyleModel",
      "state": {
       "description_width": "initial"
      }
     },
     "6f073bd3933846ccb4a7ac5dabb1c92b": {
      "model_module": "@jupyter-widgets/controls",
      "model_module_version": "1.4.0",
      "model_name": "HBoxModel",
      "state": {
       "children": [
        "IPY_MODEL_eab0cac81fe64632bad57a66b4651e9c",
        "IPY_MODEL_5f01b39cc31d4b9197ad0b367034922e",
        "IPY_MODEL_5b117ca379474e159690fe71fe445040"
       ],
       "layout": "IPY_MODEL_741ccc83fd114a72bbd45ca4bf41942f"
      }
     },
     "702efe70ea6c43a890860c9035f21cdb": {
      "model_module": "@jupyter-widgets/base",
      "model_module_version": "1.1.0",
      "model_name": "LayoutModel",
      "state": {}
     },
     "72589accd4c84644aed195b8fa6ca2f0": {
      "model_module": "@jupyter-widgets/controls",
      "model_module_version": "1.4.0",
      "model_name": "HBoxModel",
      "state": {
       "children": [
        "IPY_MODEL_8ffe6ef016bf43dc96adeb7b8a2a1296",
        "IPY_MODEL_d276b1cad0b04fa3a365fc22911337e5",
        "IPY_MODEL_8097243e33a3493aaa9bd2509902c8de"
       ],
       "layout": "IPY_MODEL_d743a8b614f34f6bb19945b27f8e2f92"
      }
     },
     "73a478298904494cbe8d4c770715845b": {
      "model_module": "@jupyter-widgets/base",
      "model_module_version": "1.1.0",
      "model_name": "LayoutModel",
      "state": {
       "align_items": "stretch",
       "border": "ridge",
       "display": "flex",
       "flex_flow": "column",
       "height": "",
       "width": "70%"
      }
     },
     "741ccc83fd114a72bbd45ca4bf41942f": {
      "model_module": "@jupyter-widgets/base",
      "model_module_version": "1.1.0",
      "model_name": "LayoutModel",
      "state": {
       "align_items": "stretch",
       "border": "ridge",
       "display": "flex",
       "flex_flow": "column",
       "height": "",
       "width": "70%"
      }
     },
     "75b8e9eebea34db4991ca1bed55d0e53": {
      "model_module": "@jupyter-widgets/controls",
      "model_module_version": "1.4.0",
      "model_name": "ProgressStyleModel",
      "state": {
       "description_width": "initial"
      }
     },
     "783fce2d84014650a4f8b12a06351015": {
      "model_module": "@jupyter-widgets/base",
      "model_module_version": "1.1.0",
      "model_name": "LayoutModel",
      "state": {
       "align_items": "stretch",
       "border": "ridge",
       "display": "flex",
       "flex_flow": "column",
       "height": "",
       "width": "70%"
      }
     },
     "78968090d96b4955a54372f0470960cd": {
      "model_module": "@jupyter-widgets/base",
      "model_module_version": "1.1.0",
      "model_name": "LayoutModel",
      "state": {}
     },
     "7919536641b5447b9ca693b146dc50fe": {
      "model_module": "@jupyter-widgets/controls",
      "model_module_version": "1.4.0",
      "model_name": "HBoxModel",
      "state": {
       "children": [
        "IPY_MODEL_d288270be05d4dc487f45e63e08d7efb",
        "IPY_MODEL_018c9ae5a90a43e58ffe4c5de45ef4ef",
        "IPY_MODEL_5ed3417963444b67aadb48ac0b1d094d"
       ],
       "layout": "IPY_MODEL_0084c4b932404a6291e68397e0c23dfb"
      }
     },
     "797f2501f29b45c2b83fe703d98cdaf0": {
      "model_module": "@jupyter-widgets/controls",
      "model_module_version": "1.4.0",
      "model_name": "DescriptionStyleModel",
      "state": {
       "description_width": "initial"
      }
     },
     "7be7c259c4db4d258270469aabb4c5a4": {
      "model_module": "@jupyter-widgets/controls",
      "model_module_version": "1.4.0",
      "model_name": "HBoxModel",
      "state": {
       "children": [
        "IPY_MODEL_d5291ac4e30e4b4c90b0bb78a3d31a50",
        "IPY_MODEL_46d0e873b8094f0bb013d04b816747ea",
        "IPY_MODEL_b312357e014b40dabbcf977c97a6b439"
       ],
       "layout": "IPY_MODEL_783fce2d84014650a4f8b12a06351015"
      }
     },
     "7bf41d46fd4b4f65b59c50315f7a7af8": {
      "model_module": "@jupyter-widgets/controls",
      "model_module_version": "1.4.0",
      "model_name": "FloatProgressModel",
      "state": {
       "bar_style": "info",
       "description": "Processing",
       "layout": "IPY_MODEL_ad14dea91cab4b8799934ffbfd9b1ea0",
       "style": "IPY_MODEL_ba2df3bfaee74f3abb3f1c4263302cb5",
       "value": 100
      }
     },
     "7bfd634cfda842eea0e8947add6dcd70": {
      "model_module": "@jupyter-widgets/controls",
      "model_module_version": "1.4.0",
      "model_name": "DescriptionStyleModel",
      "state": {
       "description_width": "initial"
      }
     },
     "8097243e33a3493aaa9bd2509902c8de": {
      "model_module": "@jupyter-widgets/controls",
      "model_module_version": "1.4.0",
      "model_name": "HTMLModel",
      "state": {
       "description": "Remaining:",
       "layout": "IPY_MODEL_343a30bd20444d2e89249b3bfdf28451",
       "placeholder": "0",
       "style": "IPY_MODEL_dca767fb91d74a84ace829a87748e7b4",
       "value": "0 seconds"
      }
     },
     "80ac4dc7404b48ccb69db30315f6ab77": {
      "model_module": "@jupyter-widgets/controls",
      "model_module_version": "1.4.0",
      "model_name": "DescriptionStyleModel",
      "state": {
       "description_width": "initial"
      }
     },
     "821413b670414588a4e1352356cecbd9": {
      "model_module": "@jupyter-widgets/base",
      "model_module_version": "1.1.0",
      "model_name": "LayoutModel",
      "state": {}
     },
     "87a3ba1fd8a54bb9baad4fca62fceb95": {
      "model_module": "@jupyter-widgets/controls",
      "model_module_version": "1.4.0",
      "model_name": "HBoxModel",
      "state": {
       "children": [
        "IPY_MODEL_f2d50e8430b94f378ad3a3a57c86f84d",
        "IPY_MODEL_c9b91398ac1f41e188f82f65e01b3a89",
        "IPY_MODEL_e4d200a305b246aeab18db6c18231d30"
       ],
       "layout": "IPY_MODEL_8b7491d054bc4143958daebb4fa730b9"
      }
     },
     "89d361398aab4f698447aed8c25a6c50": {
      "model_module": "@jupyter-widgets/controls",
      "model_module_version": "1.4.0",
      "model_name": "DescriptionStyleModel",
      "state": {
       "description_width": "initial"
      }
     },
     "8b7491d054bc4143958daebb4fa730b9": {
      "model_module": "@jupyter-widgets/base",
      "model_module_version": "1.1.0",
      "model_name": "LayoutModel",
      "state": {
       "align_items": "stretch",
       "border": "ridge",
       "display": "flex",
       "flex_flow": "column",
       "height": "",
       "width": "70%"
      }
     },
     "8d4cedd4db714e8192ca1eaf7510c127": {
      "model_module": "@jupyter-widgets/controls",
      "model_module_version": "1.4.0",
      "model_name": "HBoxModel",
      "state": {
       "children": [
        "IPY_MODEL_3402dfe0c0c64360b29bc4570d04aab3",
        "IPY_MODEL_e12f91ef3fe043b7afcc52369e3afe85",
        "IPY_MODEL_9df21daf4a67489cabe4732aaf674cc0"
       ],
       "layout": "IPY_MODEL_27b99c2996c3442a9d547de1ae4c6f72"
      }
     },
     "8d574383f95e42679b9db02e598a141a": {
      "model_module": "@jupyter-widgets/controls",
      "model_module_version": "1.4.0",
      "model_name": "DescriptionStyleModel",
      "state": {
       "description_width": "initial"
      }
     },
     "8d581927eb9d45ec9d393461e4961aae": {
      "model_module": "@jupyter-widgets/base",
      "model_module_version": "1.1.0",
      "model_name": "LayoutModel",
      "state": {}
     },
     "8dc9b2e856dc43fd9176f214cd9fbd02": {
      "model_module": "@jupyter-widgets/controls",
      "model_module_version": "1.4.0",
      "model_name": "HBoxModel",
      "state": {
       "children": [
        "IPY_MODEL_7bf41d46fd4b4f65b59c50315f7a7af8",
        "IPY_MODEL_0ba089327da342a9a1315a81f34c384c",
        "IPY_MODEL_f05a7ecd186e42b99ad024b8102a9f9c"
       ],
       "layout": "IPY_MODEL_e3c30fec2b0f4221b0af0d12e4de9634"
      }
     },
     "8f207febf1b04fd08bb88860d5251af1": {
      "model_module": "@jupyter-widgets/controls",
      "model_module_version": "1.4.0",
      "model_name": "ProgressStyleModel",
      "state": {
       "description_width": "initial"
      }
     },
     "8f505ac0f88b42989e9afc45abb5a600": {
      "model_module": "@jupyter-widgets/base",
      "model_module_version": "1.1.0",
      "model_name": "LayoutModel",
      "state": {}
     },
     "8ffe6ef016bf43dc96adeb7b8a2a1296": {
      "model_module": "@jupyter-widgets/controls",
      "model_module_version": "1.4.0",
      "model_name": "FloatProgressModel",
      "state": {
       "bar_style": "info",
       "description": "Processing",
       "layout": "IPY_MODEL_3ec8a7feeffe4bedba54b4df3f557616",
       "style": "IPY_MODEL_352d8aff80574da0ac5c179cf117625b",
       "value": 100
      }
     },
     "908e5a7b55b0455981effe0ae7e237b8": {
      "model_module": "@jupyter-widgets/controls",
      "model_module_version": "1.4.0",
      "model_name": "HTMLModel",
      "state": {
       "description": "Remaining:",
       "layout": "IPY_MODEL_d0ad461895bf445198c973b61a695e89",
       "placeholder": "0",
       "style": "IPY_MODEL_c21584ac3d1a4a34add18440995a8151",
       "value": "0 seconds"
      }
     },
     "9243c47c761f4bc6b89fe9714ce7d2e9": {
      "model_module": "@jupyter-widgets/controls",
      "model_module_version": "1.4.0",
      "model_name": "DescriptionStyleModel",
      "state": {
       "description_width": "initial"
      }
     },
     "92c01686328340c1b85263ab189ce003": {
      "model_module": "@jupyter-widgets/base",
      "model_module_version": "1.1.0",
      "model_name": "LayoutModel",
      "state": {}
     },
     "94a947f51a29436bab2797564f536cdf": {
      "model_module": "@jupyter-widgets/controls",
      "model_module_version": "1.4.0",
      "model_name": "HTMLModel",
      "state": {
       "description": "Total Estimated:",
       "layout": "IPY_MODEL_ab59ee42de834100b53396d9f731a791",
       "placeholder": "0",
       "style": "IPY_MODEL_d7051c0d217c4cf3adaa97820e8f95b6",
       "value": "0 seconds"
      }
     },
     "953550b262c64a349e80e1be1ed6eb3b": {
      "model_module": "@jupyter-widgets/base",
      "model_module_version": "1.1.0",
      "model_name": "LayoutModel",
      "state": {}
     },
     "95551d3a61f54b4ea79d16982ac239d8": {
      "model_module": "@jupyter-widgets/controls",
      "model_module_version": "1.4.0",
      "model_name": "HTMLModel",
      "state": {
       "description": "Total Estimated:",
       "layout": "IPY_MODEL_9c38e51a00754890b75ace5883e327c4",
       "placeholder": "0",
       "style": "IPY_MODEL_0a5ac914884f4f6a8df347f3fa4006b0",
       "value": "3.7\n seconds"
      }
     },
     "957743e7a23b4b49be35d942311ab2fe": {
      "model_module": "@jupyter-widgets/base",
      "model_module_version": "1.1.0",
      "model_name": "LayoutModel",
      "state": {}
     },
     "96c7eb181fc1423c858852d6f6ddf2ae": {
      "model_module": "@jupyter-widgets/controls",
      "model_module_version": "1.4.0",
      "model_name": "ProgressStyleModel",
      "state": {
       "description_width": "initial"
      }
     },
     "9796147a25f740498ad99ba23ea82781": {
      "model_module": "@jupyter-widgets/controls",
      "model_module_version": "1.4.0",
      "model_name": "DescriptionStyleModel",
      "state": {
       "description_width": "initial"
      }
     },
     "99e73880132d470db4c4a24ec43fab21": {
      "model_module": "@jupyter-widgets/controls",
      "model_module_version": "1.4.0",
      "model_name": "DescriptionStyleModel",
      "state": {
       "description_width": "initial"
      }
     },
     "9bfd4a1cfb4b492b9cf94afdd612dbe1": {
      "model_module": "@jupyter-widgets/controls",
      "model_module_version": "1.4.0",
      "model_name": "HBoxModel",
      "state": {
       "children": [
        "IPY_MODEL_b4a1801b13704d479e316e9702486e2a",
        "IPY_MODEL_95551d3a61f54b4ea79d16982ac239d8",
        "IPY_MODEL_db4c0b6ec8ea499f89ae433b357814f3"
       ],
       "layout": "IPY_MODEL_f863f91c8305497686b9c6f77736d391"
      }
     },
     "9c38e51a00754890b75ace5883e327c4": {
      "model_module": "@jupyter-widgets/base",
      "model_module_version": "1.1.0",
      "model_name": "LayoutModel",
      "state": {}
     },
     "9df21daf4a67489cabe4732aaf674cc0": {
      "model_module": "@jupyter-widgets/controls",
      "model_module_version": "1.4.0",
      "model_name": "HTMLModel",
      "state": {
       "description": "Remaining:",
       "layout": "IPY_MODEL_e5f90d197a9a469eac578a756c784cec",
       "placeholder": "0",
       "style": "IPY_MODEL_b2a06f76d8e24e88932809de7ba1787b",
       "value": "0 seconds"
      }
     },
     "9f49836d249145758bdbe56cc61a25db": {
      "model_module": "@jupyter-widgets/controls",
      "model_module_version": "1.4.0",
      "model_name": "DescriptionStyleModel",
      "state": {
       "description_width": "initial"
      }
     },
     "9fca4a77ba1c463d9cb944280c1fe45e": {
      "model_module": "@jupyter-widgets/controls",
      "model_module_version": "1.4.0",
      "model_name": "FloatProgressModel",
      "state": {
       "bar_style": "info",
       "description": "Processing",
       "layout": "IPY_MODEL_c5f4f2915b024c8caf13c0460004bccb",
       "style": "IPY_MODEL_f7ee28610cb34180a9f3f0dfd1325a0b",
       "value": 100
      }
     },
     "a041dd93ba484c398488742cbddbf16c": {
      "model_module": "@jupyter-widgets/controls",
      "model_module_version": "1.4.0",
      "model_name": "HTMLModel",
      "state": {
       "description": "Total Estimated:",
       "layout": "IPY_MODEL_2b54277f8e05497d803a289a8d507171",
       "placeholder": "0",
       "style": "IPY_MODEL_589fc02797ef476ca718d6a1a0d31abf",
       "value": "0 seconds"
      }
     },
     "a400142fb9de46fcaf2ebbfd5555a8a3": {
      "model_module": "@jupyter-widgets/base",
      "model_module_version": "1.1.0",
      "model_name": "LayoutModel",
      "state": {}
     },
     "a625236dde4349b2946ddbc28082361d": {
      "model_module": "@jupyter-widgets/controls",
      "model_module_version": "1.4.0",
      "model_name": "FloatProgressModel",
      "state": {
       "bar_style": "info",
       "description": "Processing",
       "layout": "IPY_MODEL_f2776b35587f47eb9107a46335f1b257",
       "style": "IPY_MODEL_8f207febf1b04fd08bb88860d5251af1",
       "value": 100
      }
     },
     "a7eee6d384c147f884dfca62b890d5fe": {
      "model_module": "@jupyter-widgets/base",
      "model_module_version": "1.1.0",
      "model_name": "LayoutModel",
      "state": {}
     },
     "ab59ee42de834100b53396d9f731a791": {
      "model_module": "@jupyter-widgets/base",
      "model_module_version": "1.1.0",
      "model_name": "LayoutModel",
      "state": {}
     },
     "ab83d862bffd450fb31d5c233e2a5a2a": {
      "model_module": "@jupyter-widgets/controls",
      "model_module_version": "1.4.0",
      "model_name": "HTMLModel",
      "state": {
       "description": "Total Estimated:",
       "layout": "IPY_MODEL_c15de76a61b04ad483a6032033bc9bfa",
       "placeholder": "0",
       "style": "IPY_MODEL_d3faf2c4d1a74d929b46b063aa2c2910",
       "value": "0 seconds"
      }
     },
     "acbb8e83f005443599f01c76b3f4773b": {
      "model_module": "@jupyter-widgets/base",
      "model_module_version": "1.1.0",
      "model_name": "LayoutModel",
      "state": {}
     },
     "ad14dea91cab4b8799934ffbfd9b1ea0": {
      "model_module": "@jupyter-widgets/base",
      "model_module_version": "1.1.0",
      "model_name": "LayoutModel",
      "state": {}
     },
     "ad650c1e2ef140788c7142c10e38b44a": {
      "model_module": "@jupyter-widgets/controls",
      "model_module_version": "1.4.0",
      "model_name": "HTMLModel",
      "state": {
       "description": "Remaining:",
       "layout": "IPY_MODEL_8f505ac0f88b42989e9afc45abb5a600",
       "placeholder": "0",
       "style": "IPY_MODEL_9243c47c761f4bc6b89fe9714ce7d2e9",
       "value": "0 seconds"
      }
     },
     "ad82fdabf20f4a1c9f40152d636fcd47": {
      "model_module": "@jupyter-widgets/controls",
      "model_module_version": "1.4.0",
      "model_name": "HBoxModel",
      "state": {
       "children": [
        "IPY_MODEL_a625236dde4349b2946ddbc28082361d",
        "IPY_MODEL_fb75d3640d6c46dcaef96cf16c396501",
        "IPY_MODEL_c1ec8825f1b346f194466e2abf11e7f9"
       ],
       "layout": "IPY_MODEL_b0a004e88a5c44aeabd4afd87a0b555e"
      }
     },
     "af26c8ad1a3e48098a424a631a4b732c": {
      "model_module": "@jupyter-widgets/controls",
      "model_module_version": "1.4.0",
      "model_name": "ProgressStyleModel",
      "state": {
       "description_width": "initial"
      }
     },
     "b0a004e88a5c44aeabd4afd87a0b555e": {
      "model_module": "@jupyter-widgets/base",
      "model_module_version": "1.1.0",
      "model_name": "LayoutModel",
      "state": {
       "align_items": "stretch",
       "border": "ridge",
       "display": "flex",
       "flex_flow": "column",
       "height": "",
       "width": "70%"
      }
     },
     "b2a06f76d8e24e88932809de7ba1787b": {
      "model_module": "@jupyter-widgets/controls",
      "model_module_version": "1.4.0",
      "model_name": "DescriptionStyleModel",
      "state": {
       "description_width": "initial"
      }
     },
     "b312357e014b40dabbcf977c97a6b439": {
      "model_module": "@jupyter-widgets/controls",
      "model_module_version": "1.4.0",
      "model_name": "HTMLModel",
      "state": {
       "description": "Remaining:",
       "layout": "IPY_MODEL_65b3e9833a644180b57ec5b8d59a9a06",
       "placeholder": "0",
       "style": "IPY_MODEL_5524057c59d843e098441c802823242c",
       "value": "0 seconds"
      }
     },
     "b461cc3b06db455eb9f95d1a70b04fa3": {
      "model_module": "@jupyter-widgets/controls",
      "model_module_version": "1.4.0",
      "model_name": "HTMLModel",
      "state": {
       "description": "Total Estimated:",
       "layout": "IPY_MODEL_78968090d96b4955a54372f0470960cd",
       "placeholder": "0",
       "style": "IPY_MODEL_8d574383f95e42679b9db02e598a141a",
       "value": "0 seconds"
      }
     },
     "b49bd2c874cb4d289d0aeadf65d3a704": {
      "model_module": "@jupyter-widgets/base",
      "model_module_version": "1.1.0",
      "model_name": "LayoutModel",
      "state": {}
     },
     "b4a1801b13704d479e316e9702486e2a": {
      "model_module": "@jupyter-widgets/controls",
      "model_module_version": "1.4.0",
      "model_name": "FloatProgressModel",
      "state": {
       "bar_style": "info",
       "description": "Processing",
       "layout": "IPY_MODEL_953550b262c64a349e80e1be1ed6eb3b",
       "style": "IPY_MODEL_e2294a379245494abd3de9ae0e32a196",
       "value": 100
      }
     },
     "b631981f4ff34a7fa4fffbc3f63f118b": {
      "model_module": "@jupyter-widgets/controls",
      "model_module_version": "1.4.0",
      "model_name": "HBoxModel",
      "state": {
       "children": [
        "IPY_MODEL_4861fab086fd4e1b92b02476d5de4de0",
        "IPY_MODEL_46f04832625143e6a71245816c15a57a",
        "IPY_MODEL_59c4f9b8b3a94108b397b1f6ee54fc40"
       ],
       "layout": "IPY_MODEL_69e1455d11694627b832f3365c0990d6"
      }
     },
     "b71f65def57d4a4bbc7c8fc2fa504f3a": {
      "model_module": "@jupyter-widgets/controls",
      "model_module_version": "1.4.0",
      "model_name": "HTMLModel",
      "state": {
       "description": "Total Estimated:",
       "layout": "IPY_MODEL_37f1bb9326f649ae9feb9f2de46425be",
       "placeholder": "0",
       "style": "IPY_MODEL_99e73880132d470db4c4a24ec43fab21",
       "value": "3.5\n seconds"
      }
     },
     "b76934aa766a4ab8af13139dff0c80be": {
      "model_module": "@jupyter-widgets/controls",
      "model_module_version": "1.4.0",
      "model_name": "HTMLModel",
      "state": {
       "description": "Remaining:",
       "layout": "IPY_MODEL_dd44d43b9ef749b4a275bfeb5bdf1017",
       "placeholder": "0",
       "style": "IPY_MODEL_36ef51161f4849d295e177ab5b35aab3",
       "value": "0 seconds"
      }
     },
     "ba2df3bfaee74f3abb3f1c4263302cb5": {
      "model_module": "@jupyter-widgets/controls",
      "model_module_version": "1.4.0",
      "model_name": "ProgressStyleModel",
      "state": {
       "description_width": "initial"
      }
     },
     "baccb3628d6f4b69aa8703521dace59b": {
      "model_module": "@jupyter-widgets/controls",
      "model_module_version": "1.4.0",
      "model_name": "DescriptionStyleModel",
      "state": {
       "description_width": "initial"
      }
     },
     "bee1b0de041f4526aa6280d7bd90309e": {
      "model_module": "@jupyter-widgets/controls",
      "model_module_version": "1.4.0",
      "model_name": "DescriptionStyleModel",
      "state": {
       "description_width": "initial"
      }
     },
     "c0012488af474938bc277553ae43be3a": {
      "model_module": "@jupyter-widgets/controls",
      "model_module_version": "1.4.0",
      "model_name": "DescriptionStyleModel",
      "state": {
       "description_width": "initial"
      }
     },
     "c15de76a61b04ad483a6032033bc9bfa": {
      "model_module": "@jupyter-widgets/base",
      "model_module_version": "1.1.0",
      "model_name": "LayoutModel",
      "state": {}
     },
     "c1ec8825f1b346f194466e2abf11e7f9": {
      "model_module": "@jupyter-widgets/controls",
      "model_module_version": "1.4.0",
      "model_name": "HTMLModel",
      "state": {
       "description": "Remaining:",
       "layout": "IPY_MODEL_c3b10934a2b7400689ee371cc2adef26",
       "placeholder": "0",
       "style": "IPY_MODEL_baccb3628d6f4b69aa8703521dace59b",
       "value": "0 seconds"
      }
     },
     "c21584ac3d1a4a34add18440995a8151": {
      "model_module": "@jupyter-widgets/controls",
      "model_module_version": "1.4.0",
      "model_name": "DescriptionStyleModel",
      "state": {
       "description_width": "initial"
      }
     },
     "c3b10934a2b7400689ee371cc2adef26": {
      "model_module": "@jupyter-widgets/base",
      "model_module_version": "1.1.0",
      "model_name": "LayoutModel",
      "state": {}
     },
     "c46ec6c31c654a45997eb7c50410a230": {
      "model_module": "@jupyter-widgets/base",
      "model_module_version": "1.1.0",
      "model_name": "LayoutModel",
      "state": {}
     },
     "c5641541cae541cab28ceae1e81655a4": {
      "model_module": "@jupyter-widgets/base",
      "model_module_version": "1.1.0",
      "model_name": "LayoutModel",
      "state": {
       "align_items": "stretch",
       "border": "ridge",
       "display": "flex",
       "flex_flow": "column",
       "height": "",
       "width": "70%"
      }
     },
     "c5f4f2915b024c8caf13c0460004bccb": {
      "model_module": "@jupyter-widgets/base",
      "model_module_version": "1.1.0",
      "model_name": "LayoutModel",
      "state": {}
     },
     "c94cdf32963f4ff5a15d5b220999ce18": {
      "model_module": "@jupyter-widgets/base",
      "model_module_version": "1.1.0",
      "model_name": "LayoutModel",
      "state": {}
     },
     "c9b91398ac1f41e188f82f65e01b3a89": {
      "model_module": "@jupyter-widgets/controls",
      "model_module_version": "1.4.0",
      "model_name": "HTMLModel",
      "state": {
       "description": "Total Estimated:",
       "layout": "IPY_MODEL_35900d1343634601a6dda075ef5103d5",
       "placeholder": "0",
       "style": "IPY_MODEL_f2de915a841a4fbbb4da86b855ebca3b",
       "value": "3.7\n seconds"
      }
     },
     "cbd2c10072d24d6a9feef3e5aaa6be79": {
      "model_module": "@jupyter-widgets/controls",
      "model_module_version": "1.4.0",
      "model_name": "HTMLModel",
      "state": {
       "description": "Total Estimated:",
       "layout": "IPY_MODEL_f14cf6e46bc24ec183aef4393564f169",
       "placeholder": "0",
       "style": "IPY_MODEL_e984d7ebd102453f8a2b7bb14952a017",
       "value": "3.4\n seconds"
      }
     },
     "cdbc811524584a7e9ee5ad1ec787f3d0": {
      "model_module": "@jupyter-widgets/base",
      "model_module_version": "1.1.0",
      "model_name": "LayoutModel",
      "state": {}
     },
     "cdf2f6ba5a974b1ba82d8f9810b58c89": {
      "model_module": "@jupyter-widgets/controls",
      "model_module_version": "1.4.0",
      "model_name": "HBoxModel",
      "state": {
       "children": [
        "IPY_MODEL_dfc68391d7e247fdb809f60326146c53",
        "IPY_MODEL_94a947f51a29436bab2797564f536cdf",
        "IPY_MODEL_da922dd9ab1b490ba24c1e0b83255e76"
       ],
       "layout": "IPY_MODEL_e1825577b46f43a9827845a6ab2da1fc"
      }
     },
     "d09ab06eb6784087b3934c42f2250d0d": {
      "model_module": "@jupyter-widgets/controls",
      "model_module_version": "1.4.0",
      "model_name": "DescriptionStyleModel",
      "state": {
       "description_width": "initial"
      }
     },
     "d0ad461895bf445198c973b61a695e89": {
      "model_module": "@jupyter-widgets/base",
      "model_module_version": "1.1.0",
      "model_name": "LayoutModel",
      "state": {}
     },
     "d1eb6b691e6e4818810fc57524441612": {
      "model_module": "@jupyter-widgets/controls",
      "model_module_version": "1.4.0",
      "model_name": "ProgressStyleModel",
      "state": {
       "description_width": "initial"
      }
     },
     "d276b1cad0b04fa3a365fc22911337e5": {
      "model_module": "@jupyter-widgets/controls",
      "model_module_version": "1.4.0",
      "model_name": "HTMLModel",
      "state": {
       "description": "Total Estimated:",
       "layout": "IPY_MODEL_5bc5c229b68c4fc79faf951bdbd0a622",
       "placeholder": "0",
       "style": "IPY_MODEL_c0012488af474938bc277553ae43be3a",
       "value": "3.5\n seconds"
      }
     },
     "d288270be05d4dc487f45e63e08d7efb": {
      "model_module": "@jupyter-widgets/controls",
      "model_module_version": "1.4.0",
      "model_name": "FloatProgressModel",
      "state": {
       "bar_style": "info",
       "description": "Processing",
       "layout": "IPY_MODEL_ef263668e9444491a0a598a4f565c6a5",
       "style": "IPY_MODEL_4df446755094477cb0a79463c270580f"
      }
     },
     "d3faf2c4d1a74d929b46b063aa2c2910": {
      "model_module": "@jupyter-widgets/controls",
      "model_module_version": "1.4.0",
      "model_name": "DescriptionStyleModel",
      "state": {
       "description_width": "initial"
      }
     },
     "d4342cca6d554f2bbfe4070541027134": {
      "model_module": "@jupyter-widgets/base",
      "model_module_version": "1.1.0",
      "model_name": "LayoutModel",
      "state": {}
     },
     "d5291ac4e30e4b4c90b0bb78a3d31a50": {
      "model_module": "@jupyter-widgets/controls",
      "model_module_version": "1.4.0",
      "model_name": "FloatProgressModel",
      "state": {
       "bar_style": "info",
       "description": "Processing",
       "layout": "IPY_MODEL_2842c3aa3ea242d3bd922b4c7f6012a2",
       "style": "IPY_MODEL_154e0756aca94f78a3100f03bb0d099c",
       "value": 100
      }
     },
     "d5937a9cd4fe4ecea6bb4ed2d2ee5494": {
      "model_module": "@jupyter-widgets/controls",
      "model_module_version": "1.4.0",
      "model_name": "DescriptionStyleModel",
      "state": {
       "description_width": "initial"
      }
     },
     "d63a831122444a2fa277d195c9da6439": {
      "model_module": "@jupyter-widgets/controls",
      "model_module_version": "1.4.0",
      "model_name": "FloatProgressModel",
      "state": {
       "bar_style": "info",
       "description": "Processing",
       "layout": "IPY_MODEL_2e682c67ad614f9d988ed9ce4c845a1b",
       "style": "IPY_MODEL_0aa9f1c93f0147f584e20fd597d199fc"
      }
     },
     "d7051c0d217c4cf3adaa97820e8f95b6": {
      "model_module": "@jupyter-widgets/controls",
      "model_module_version": "1.4.0",
      "model_name": "DescriptionStyleModel",
      "state": {
       "description_width": "initial"
      }
     },
     "d743a8b614f34f6bb19945b27f8e2f92": {
      "model_module": "@jupyter-widgets/base",
      "model_module_version": "1.1.0",
      "model_name": "LayoutModel",
      "state": {
       "align_items": "stretch",
       "border": "ridge",
       "display": "flex",
       "flex_flow": "column",
       "height": "",
       "width": "70%"
      }
     },
     "d9d41bdf30e440c387f15017bbede5a3": {
      "model_module": "@jupyter-widgets/base",
      "model_module_version": "1.1.0",
      "model_name": "LayoutModel",
      "state": {
       "align_items": "stretch",
       "border": "ridge",
       "display": "flex",
       "flex_flow": "column",
       "height": "",
       "width": "70%"
      }
     },
     "da922dd9ab1b490ba24c1e0b83255e76": {
      "model_module": "@jupyter-widgets/controls",
      "model_module_version": "1.4.0",
      "model_name": "HTMLModel",
      "state": {
       "description": "Remaining:",
       "layout": "IPY_MODEL_b49bd2c874cb4d289d0aeadf65d3a704",
       "placeholder": "0",
       "style": "IPY_MODEL_bee1b0de041f4526aa6280d7bd90309e",
       "value": "0 seconds"
      }
     },
     "db4c0b6ec8ea499f89ae433b357814f3": {
      "model_module": "@jupyter-widgets/controls",
      "model_module_version": "1.4.0",
      "model_name": "HTMLModel",
      "state": {
       "description": "Remaining:",
       "layout": "IPY_MODEL_a400142fb9de46fcaf2ebbfd5555a8a3",
       "placeholder": "0",
       "style": "IPY_MODEL_7bfd634cfda842eea0e8947add6dcd70",
       "value": "0 seconds"
      }
     },
     "dca767fb91d74a84ace829a87748e7b4": {
      "model_module": "@jupyter-widgets/controls",
      "model_module_version": "1.4.0",
      "model_name": "DescriptionStyleModel",
      "state": {
       "description_width": "initial"
      }
     },
     "dd44d43b9ef749b4a275bfeb5bdf1017": {
      "model_module": "@jupyter-widgets/base",
      "model_module_version": "1.1.0",
      "model_name": "LayoutModel",
      "state": {}
     },
     "dfc68391d7e247fdb809f60326146c53": {
      "model_module": "@jupyter-widgets/controls",
      "model_module_version": "1.4.0",
      "model_name": "FloatProgressModel",
      "state": {
       "bar_style": "info",
       "description": "Processing",
       "layout": "IPY_MODEL_666c61b7388a4d008cdd24900d4cfd34",
       "style": "IPY_MODEL_75b8e9eebea34db4991ca1bed55d0e53"
      }
     },
     "e0b5b994cb2043dea61c57a91a92f4e2": {
      "model_module": "@jupyter-widgets/base",
      "model_module_version": "1.1.0",
      "model_name": "LayoutModel",
      "state": {}
     },
     "e12f91ef3fe043b7afcc52369e3afe85": {
      "model_module": "@jupyter-widgets/controls",
      "model_module_version": "1.4.0",
      "model_name": "HTMLModel",
      "state": {
       "description": "Total Estimated:",
       "layout": "IPY_MODEL_2a93b306b9d54164a34557164d42e767",
       "placeholder": "0",
       "style": "IPY_MODEL_797f2501f29b45c2b83fe703d98cdaf0",
       "value": "5.6\n seconds"
      }
     },
     "e1825577b46f43a9827845a6ab2da1fc": {
      "model_module": "@jupyter-widgets/base",
      "model_module_version": "1.1.0",
      "model_name": "LayoutModel",
      "state": {
       "align_items": "stretch",
       "border": "ridge",
       "display": "flex",
       "flex_flow": "column",
       "height": "",
       "width": "70%"
      }
     },
     "e2294a379245494abd3de9ae0e32a196": {
      "model_module": "@jupyter-widgets/controls",
      "model_module_version": "1.4.0",
      "model_name": "ProgressStyleModel",
      "state": {
       "description_width": "initial"
      }
     },
     "e3c30fec2b0f4221b0af0d12e4de9634": {
      "model_module": "@jupyter-widgets/base",
      "model_module_version": "1.1.0",
      "model_name": "LayoutModel",
      "state": {
       "align_items": "stretch",
       "border": "ridge",
       "display": "flex",
       "flex_flow": "column",
       "height": "",
       "width": "70%"
      }
     },
     "e479139002c744e5a1c99990923cdd0f": {
      "model_module": "@jupyter-widgets/controls",
      "model_module_version": "1.4.0",
      "model_name": "HTMLModel",
      "state": {
       "description": "Remaining:",
       "layout": "IPY_MODEL_40014592e9a04416b6b1f2a702a95575",
       "placeholder": "0",
       "style": "IPY_MODEL_5406da9a0acc4525be1c8534b4091f5c",
       "value": "0 seconds"
      }
     },
     "e4d200a305b246aeab18db6c18231d30": {
      "model_module": "@jupyter-widgets/controls",
      "model_module_version": "1.4.0",
      "model_name": "HTMLModel",
      "state": {
       "description": "Remaining:",
       "layout": "IPY_MODEL_d4342cca6d554f2bbfe4070541027134",
       "placeholder": "0",
       "style": "IPY_MODEL_9f49836d249145758bdbe56cc61a25db",
       "value": "0 seconds"
      }
     },
     "e5f90d197a9a469eac578a756c784cec": {
      "model_module": "@jupyter-widgets/base",
      "model_module_version": "1.1.0",
      "model_name": "LayoutModel",
      "state": {}
     },
     "e984d7ebd102453f8a2b7bb14952a017": {
      "model_module": "@jupyter-widgets/controls",
      "model_module_version": "1.4.0",
      "model_name": "DescriptionStyleModel",
      "state": {
       "description_width": "initial"
      }
     },
     "e9f2816bafa54401ac70e60aaeae533b": {
      "model_module": "@jupyter-widgets/controls",
      "model_module_version": "1.4.0",
      "model_name": "HTMLModel",
      "state": {
       "description": "Total Estimated:",
       "layout": "IPY_MODEL_8d581927eb9d45ec9d393461e4961aae",
       "placeholder": "0",
       "style": "IPY_MODEL_5fb3cce6b3cf4f4b9760e63ab524542c",
       "value": "5.5\n seconds"
      }
     },
     "ea8568f2252f424db1c8e357f34692d6": {
      "model_module": "@jupyter-widgets/controls",
      "model_module_version": "1.4.0",
      "model_name": "FloatProgressModel",
      "state": {
       "bar_style": "info",
       "description": "Processing",
       "layout": "IPY_MODEL_702efe70ea6c43a890860c9035f21cdb",
       "style": "IPY_MODEL_3c75c367d4994d84a3a951d62b805f59",
       "value": 100
      }
     },
     "eaa189575d0f4abcb50de051210fc0da": {
      "model_module": "@jupyter-widgets/base",
      "model_module_version": "1.1.0",
      "model_name": "LayoutModel",
      "state": {}
     },
     "eab0cac81fe64632bad57a66b4651e9c": {
      "model_module": "@jupyter-widgets/controls",
      "model_module_version": "1.4.0",
      "model_name": "FloatProgressModel",
      "state": {
       "bar_style": "info",
       "description": "Processing",
       "layout": "IPY_MODEL_ff5ad632690f42a38ac33c58ad17ca7b",
       "style": "IPY_MODEL_d1eb6b691e6e4818810fc57524441612",
       "value": 100
      }
     },
     "ef1db03049374652b7c91b002993bca3": {
      "model_module": "@jupyter-widgets/controls",
      "model_module_version": "1.4.0",
      "model_name": "DescriptionStyleModel",
      "state": {
       "description_width": "initial"
      }
     },
     "ef263668e9444491a0a598a4f565c6a5": {
      "model_module": "@jupyter-widgets/base",
      "model_module_version": "1.1.0",
      "model_name": "LayoutModel",
      "state": {}
     },
     "f05a7ecd186e42b99ad024b8102a9f9c": {
      "model_module": "@jupyter-widgets/controls",
      "model_module_version": "1.4.0",
      "model_name": "HTMLModel",
      "state": {
       "description": "Remaining:",
       "layout": "IPY_MODEL_a7eee6d384c147f884dfca62b890d5fe",
       "placeholder": "0",
       "style": "IPY_MODEL_02d06fbcbe85402bb0a3fceccffdc397",
       "value": "0 seconds"
      }
     },
     "f14cf6e46bc24ec183aef4393564f169": {
      "model_module": "@jupyter-widgets/base",
      "model_module_version": "1.1.0",
      "model_name": "LayoutModel",
      "state": {}
     },
     "f2776b35587f47eb9107a46335f1b257": {
      "model_module": "@jupyter-widgets/base",
      "model_module_version": "1.1.0",
      "model_name": "LayoutModel",
      "state": {}
     },
     "f2d50e8430b94f378ad3a3a57c86f84d": {
      "model_module": "@jupyter-widgets/controls",
      "model_module_version": "1.4.0",
      "model_name": "FloatProgressModel",
      "state": {
       "bar_style": "info",
       "description": "Processing",
       "layout": "IPY_MODEL_cdbc811524584a7e9ee5ad1ec787f3d0",
       "style": "IPY_MODEL_0948a3b3a077442ea44748a6352ffd35",
       "value": 100
      }
     },
     "f2de915a841a4fbbb4da86b855ebca3b": {
      "model_module": "@jupyter-widgets/controls",
      "model_module_version": "1.4.0",
      "model_name": "DescriptionStyleModel",
      "state": {
       "description_width": "initial"
      }
     },
     "f3ac6224132f462c924d82b5000ebf26": {
      "model_module": "@jupyter-widgets/controls",
      "model_module_version": "1.4.0",
      "model_name": "HBoxModel",
      "state": {
       "children": [
        "IPY_MODEL_3315d86a92cd4df5a578e2f73aa38a1f",
        "IPY_MODEL_1300613ff8c54acba8ebd46db4f4de60",
        "IPY_MODEL_e479139002c744e5a1c99990923cdd0f"
       ],
       "layout": "IPY_MODEL_08e62e576d5f4b95a40f0fcda8d4df5b"
      }
     },
     "f7badc47e7f945139f99c045d98bf2e1": {
      "model_module": "@jupyter-widgets/base",
      "model_module_version": "1.1.0",
      "model_name": "LayoutModel",
      "state": {}
     },
     "f7ee28610cb34180a9f3f0dfd1325a0b": {
      "model_module": "@jupyter-widgets/controls",
      "model_module_version": "1.4.0",
      "model_name": "ProgressStyleModel",
      "state": {
       "description_width": "initial"
      }
     },
     "f863f91c8305497686b9c6f77736d391": {
      "model_module": "@jupyter-widgets/base",
      "model_module_version": "1.1.0",
      "model_name": "LayoutModel",
      "state": {
       "align_items": "stretch",
       "border": "ridge",
       "display": "flex",
       "flex_flow": "column",
       "height": "",
       "width": "70%"
      }
     },
     "fb75d3640d6c46dcaef96cf16c396501": {
      "model_module": "@jupyter-widgets/controls",
      "model_module_version": "1.4.0",
      "model_name": "HTMLModel",
      "state": {
       "description": "Total Estimated:",
       "layout": "IPY_MODEL_4e0c9b92f5cf46549c75a1af95e1ab3b",
       "placeholder": "0",
       "style": "IPY_MODEL_ef1db03049374652b7c91b002993bca3",
       "value": "5.3\n seconds"
      }
     },
     "ff5ad632690f42a38ac33c58ad17ca7b": {
      "model_module": "@jupyter-widgets/base",
      "model_module_version": "1.1.0",
      "model_name": "LayoutModel",
      "state": {}
     }
    },
    "version_major": 2,
    "version_minor": 0
   }
  }
 },
 "nbformat": 4,
 "nbformat_minor": 2
}
