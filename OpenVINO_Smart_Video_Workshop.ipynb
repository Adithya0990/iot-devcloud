{
 "cells": [
  {
   "cell_type": "code",
   "execution_count": 1,
   "metadata": {
    "deletable": false,
    "editable": false,
    "scrolled": false
   },
   "outputs": [
    {
     "data": {
      "text/html": [
       "<style>\n",
       "a.big-jupyter-button, button.jupyter-button\n",
       "{\n",
       "    line-height:40px;\n",
       "    height:40px;\n",
       "    display:inline-block;\n",
       "    background-color:#0071c5;\n",
       "    color:white;\n",
       "    border:none;\n",
       "    font-size:100%;\n",
       "    font-weight:bold;\n",
       "    cursor:pointer;\n",
       "    padding-left:1em;\n",
       "    padding-right:1em;\n",
       "    margin-top:10px;\n",
       "    text-decoration:none !important;\n",
       "}\n",
       "a.big-jupyter-button:hover\n",
       "{\n",
       "    -webkit-box-shadow: 0 2px 2px 0 rgba(0, 0, 0, .14), 0 3px 1px -2px rgba(0, 0, 0, .2), 0 1px 5px 0 rgba(0, 0, 0, .12);\n",
       "\n",
       "    box-shadow: 0 2px 2px 0 rgba(0, 0, 0, .14), 0 3px 1px -2px rgba(0, 0, 0, .2), 0 1px 5px 0 rgba(0, 0, 0, .12);\n",
       "}\n",
       "div.ahead > div.p-Collapse > div.p-Collapse-header\n",
       "{\n",
       "    background-color:#8800aa;\n",
       "    color:white;\n",
       "}\n",
       "div.behind > div.p-Collapse > div.p-Collapse-header\n",
       "{\n",
       "    background-color:#ffaa00;\n",
       "    color:white;\n",
       "}\n",
       "div.unable > div.p-Collapse > div.p-Collapse-header\n",
       "{\n",
       "    background-color:#cc0000;\n",
       "    color:white;\n",
       "}\n",
       "div.uptodate > div.p-Collapse > div.p-Collapse-header\n",
       "{\n",
       "    background-color:#008800;\n",
       "    color:white;\n",
       "}\n",
       ".rendered_html h2, .rendered_html h2:first-child, .rendered_html h3\n",
       "{\n",
       "    margin-top:3em;\n",
       "}\n",
       "\n",
       "\n",
       "</style>\n"
      ],
      "text/plain": [
       "<IPython.core.display.HTML object>"
      ]
     },
     "metadata": {},
     "output_type": "display_data"
    },
    {
     "data": {
      "application/vnd.jupyter.widget-view+json": {
       "model_id": "9b366fb9d4f94c6991cd3dc46f8498a2",
       "version_major": 2,
       "version_minor": 0
      },
      "text/plain": [
       "Accordion(children=(VBox(children=(Button(description='Refresh Catalog', style=ButtonStyle()), HTML(value='Upo…"
      ]
     },
     "metadata": {},
     "output_type": "display_data"
    },
    {
     "data": {
      "application/javascript": [
       "IPython.notebook.set_autosave_interval(0)"
      ]
     },
     "metadata": {},
     "output_type": "display_data"
    },
    {
     "name": "stdout",
     "output_type": "stream",
     "text": [
      "Autosave disabled\n"
     ]
    }
   ],
   "source": [
    "from demoTools.catalog import DemoCatalog\n",
    "cat = DemoCatalog('demoTools/OpenVINO_Smart_Video_Workshop.json')\n",
    "cat.ShowRepositoryControls()\n",
    "%autosave 0"
   ]
  },
  {
   "cell_type": "markdown",
   "metadata": {},
   "source": [
    "## Workshop Agenda\n",
    "* **Smart Video/Computer Vision Tools Overview**\n",
    "  - Slides - [Introduction to Smart Video Tools](./smart_video_workshop/presentations/01-Introduction-to-Intel-Smart-Video-Tools.pdf)\n",
    "\n",
    "* **Training a Deep Learning Model**\n",
    "  - Slides - [Training a Deep Learning Model](./smart_video_workshop/presentations/DL_training_model.pdf)\n",
    "  - Lab - Training a Deep Learning Model [[Python](./smart_video_workshop/dl-model-training/Python/Deep_Learning_Tutorial.ipynb)]\n",
    "  \n",
    "* **Basic End to End Object Detection Inference Example**\n",
    "  - Slides - [Basic End to End Object Detection Example](./smart_video_workshop/presentations/02-03_Basic-End-to-End-Object-Detection-Example.pdf)\n",
    "  - Lab - Basic End to End Object Detection Example [[Python](./smart_video_workshop/object-detection/Python/basic_end_to_end_object_detection.ipynb)]\n",
    "  - Lab - Tensor Flow example [[Python](./smart_video_workshop/object-detection/Python/Tensor_Flow_example.ipynb)]\n",
    "\n",
    "* **Hardware Heterogeneity**\n",
    "  - Lab - Hardware Heterogeneity [[Python](./smart_video_workshop/hardware-heterogeneity/Python/hardware-heterogeneity.ipynb)]\n",
    "\n",
    "* **HW Acceleration with Intel® Movidius™ Neural Compute Stick**\n",
    "  - Lab - HW Acceleration with Intel® Movidius™ Neural Compute Stick [[Python](./smart_video_workshop/HW-Acceleration-with-Movidious-NCS/Python/HW_Acceleration_With_Movidius_NCS.ipynb)]\n",
    "  \n",
    "* **FPGA Inference Accelerator**\n",
    "  - Slides - [HW Acceleration with Intel® FPGA](./smart_video_workshop/presentations/FPGA.pdf)\n",
    "\n",
    "* **Optimization Tools and Techniques** \n",
    "  - Slides - [Optimization Tools and Techniques](./smart_video_workshop/presentations/04-05_Optimization_and_advanced_analytics.pdf)\n",
    "  - Lab 1 - Optimization Tools and Techniques [[Python](./smart_video_workshop/optimization-tools-and-techniques/Python/optimization_tools_and_techniques.ipynb)]\n",
    " \n",
    "* **Advanced Video Analytics**\n",
    "  - Lab - Multiple models usage example [[Python](./smart_video_workshop/advanced-video-analytics/Python/advanced_video_analytics.ipynb)]\n",
    "  \n",
    "<!----  \n",
    "* **UP²\\* AI Vision Development kit as Edge**\n",
    "  - Setup - [Development machine and Internet Connection Sharing](./up2-vision-kit/dev_machine_setup.md)\n",
    "  - Lab - [Interact face detection on UP2 kit using Intel® System Studio](./up2-vision-kit/openvino-projects-using-iss2019.md) ---->\n",
    "\n",
    "* **Implement Custom Layers for Inference on CPU and Integrated GPU**\n",
    "  - Slides - [Custom Layer](./smart_video_workshop/presentations/custom_layer.pdf)\n",
    "  \n",
    "* **Additional Examples - Reference Implementations**\n",
    "  - Industrial \n",
    "\t- [Restricted Zone Notifier](https://github.com/intel-iot-devkit/restricted-zone-notifier-cpp)\n",
    "    - [Object Size Detector](https://github.com/intel-iot-devkit/object-size-detector-cpp)\n",
    "  - Retail \n",
    "    - [Store Traffic Monitor](https://github.com/intel-iot-devkit/store-traffic-monitor)\n",
    "    - [Shopper Gaze Monitor](https://github.com/intel-iot-devkit/shopper-gaze-monitor-cpp)\n",
    "    \n",
    "<!--\t\n",
    "* **Workshop Survey**\n",
    "  - [Workshop Survey](https://idz.qualtrics.com/jfe/form/SV_a9GvOxtOrOziykB)\n",
    "  - [Custom Layer Tutorial Survey](https://intelemployee.az1.qualtrics.com/jfe/form/SV_1ZjOKaEIQUM5FpX)\n",
    "  - [Embedded Vision Summit Workshop Survey](https://intel.az1.qualtrics.com/jfe/form/SV_6RsCwmj6QGD3PAF)\n",
    "  -->"
   ]
  }
 ],
 "metadata": {
  "kernelspec": {
   "display_name": "Python 3 (Ubuntu)",
   "language": "python",
   "name": "c003-python_3"
  },
  "language_info": {
   "codemirror_mode": {
    "name": "ipython",
    "version": 3
   },
   "file_extension": ".py",
   "mimetype": "text/x-python",
   "name": "python",
   "nbconvert_exporter": "python",
   "pygments_lexer": "ipython3",
   "version": "3.5.2"
  }
 },
 "nbformat": 4,
 "nbformat_minor": 2
}
