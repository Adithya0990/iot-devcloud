{
 "cells": [
  {
   "cell_type": "markdown",
   "metadata": {},
   "source": [
    "# Object Flaw Detector\n",
    "\n",
    "The object flaw detector is a simple reference implementation example that uses opencv for detecting anomalies on objects on a conveyer belt. The key features demonstrated in this sample are\n",
    "\n",
    "* Counting number of objects\n",
    "* Color detection\n",
    "* Crack detection \n",
    "* Orientation detection\n",
    "* Laber reader \n",
    "\n",
    "More information as well as the original source code can be found on github:\n",
    "\n",
    "https://github.com/intel-iot-devkit/reference-implementation/tree/master/object-flaw-detector\n",
    "\n",
    "The implementation here has been slightly modified to work on IoT DevCloud.\n",
    "\n",
    "### Demo\n",
    "\n",
    "Run the cell below by clicking (**Shif+Enter or CTRL+Enter**)\n",
    "This demo does not use any Deep Learning models or inferencing and will run locally on the development machine and not on any Edge hardware by Intel.\n",
    "\n",
    "(**Note** The close button on the video will stop the video, but the application will continue to run. Interrupt the kernel to stop the anomaly detection itself)"
   ]
  },
  {
   "cell_type": "code",
   "execution_count": null,
   "metadata": {
    "scrolled": false
   },
   "outputs": [],
   "source": [
    "%matplotlib notebook\n",
    "from IPython.core.display import HTML\n",
    "from flawdetector import *\n",
    "import matplotlib.pyplot as plt\n",
    "\n",
    "def draw_func(frame):\n",
    "    ax.clear()\n",
    "    ax.imshow(frame)\n",
    "    fig.canvas.draw()\n",
    "    \n",
    "fig,ax = plt.subplots(1,1)\n",
    "#runFlowDetector(\"object-flaw-detector.mp4\", draw_callback=draw_func)\n",
    "runFlowDetector(\"/data/reference-sample-data/flaw-detector-python/object-flaw-detector.mp4\", draw_callback=draw_func)"
   ]
  },
  {
   "cell_type": "code",
   "execution_count": null,
   "metadata": {},
   "outputs": [],
   "source": []
  }
 ],
 "metadata": {
  "kernelspec": {
   "display_name": "Python 3 (Ubuntu)",
   "language": "python",
   "name": "c003-python_3"
  },
  "language_info": {
   "codemirror_mode": {
    "name": "ipython",
    "version": 3
   },
   "file_extension": ".py",
   "mimetype": "text/x-python",
   "name": "python",
   "nbconvert_exporter": "python",
   "pygments_lexer": "ipython3",
   "version": "3.5.2"
  }
 },
 "nbformat": 4,
 "nbformat_minor": 2
}
