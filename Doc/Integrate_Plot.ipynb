{
 "cells": [
  {
   "cell_type": "code",
   "execution_count": 1,
   "metadata": {},
   "outputs": [],
   "source": [
    "import sys, os \n",
    "from pathlib import Path\n",
    "sys.path.insert(0, str(Path().resolve().parent))\n",
    "from demoTools.demoutils_tabs import *"
   ]
  },
  {
   "cell_type": "markdown",
   "metadata": {},
   "source": [
    "\n",
    "```python\n",
    "import json\n",
    "import time\n",
    "t1 = time.time()\n",
    "//Inference execution\n",
    "infer_time = time.time()-t1\n",
    "\n",
    "stats = {}\n",
    "stats['time'] = str(infer_time)\n",
    "stats['frame'] = str(num_frames)\n",
    "stats['fps'] = str(num_frames / infer_time)\n",
    "stats_file = \"results/{}/stats.json\".format(job_id)\n",
    "with open(stats_file, 'w') as f:\n",
    "    json.dump(stats, f)\n",
    "```"
   ]
  },
  {
   "cell_type": "code",
   "execution_count": 2,
   "metadata": {},
   "outputs": [],
   "source": [
    "job_interface = Demo( {\n",
    "                        \"job\": # Define how to launch the job and interpret results\n",
    "                                {\n",
    "                                    \"output_type\": \".txt\",         # The type of input (text/video)\n",
    "                                    \"results_path\": \"results/\", # Path to job result files\n",
    "                                    \"plots\":[\n",
    "                                        {\n",
    "                                            \"title\" : \"\",\n",
    "                                            \"type\" : \"time\",\n",
    "                                            \"xlabel\" : \"Job ID\",\n",
    "                                            \"ylabel\" : \"Time in seconds\"\n",
    "                                        }\n",
    "                                    ]\n",
    "                                   \n",
    "                                }\n",
    "                        } )"
   ]
  },
  {
   "cell_type": "code",
   "execution_count": 3,
   "metadata": {},
   "outputs": [
    {
     "data": {
      "application/vnd.jupyter.widget-view+json": {
       "model_id": "577638738b2145f7b7c706464d82d44f",
       "version_major": 2,
       "version_minor": 0
      },
      "text/plain": [
       "VBox()"
      ]
     },
     "metadata": {},
     "output_type": "display_data"
    },
    {
     "data": {
      "application/vnd.jupyter.widget-view+json": {
       "model_id": "c95246535ae6431abbd5f7b415ed07d0",
       "version_major": 2,
       "version_minor": 0
      },
      "text/plain": [
       "VBox(children=(HTML(value='No jobs submitted yet'), Tab(), Button(button_style='info', description='Plot resul…"
      ]
     },
     "metadata": {},
     "output_type": "display_data"
    }
   ],
   "source": [
    "job_interface.displayUI()"
   ]
  },
  {
   "cell_type": "code",
   "execution_count": 4,
   "metadata": {},
   "outputs": [],
   "source": [
    "job_interface.submitJob(\"qsub ocr_job.sh -l nodes=1:idc001skl:i5-6500te -F 'results/ GPU FP32'\")"
   ]
  },
  {
   "cell_type": "code",
   "execution_count": 5,
   "metadata": {},
   "outputs": [],
   "source": [
    "job_interface.submitJob(\"qsub ocr_job.sh -l nodes=1:idc001skl:i5-6500te -F 'results/ CPU FP32'\")"
   ]
  },
  {
   "cell_type": "code",
   "execution_count": null,
   "metadata": {},
   "outputs": [],
   "source": []
  }
 ],
 "metadata": {
  "kernelspec": {
   "display_name": "Python 3 (Ubuntu)",
   "language": "python",
   "name": "c003-python_3"
  },
  "language_info": {
   "codemirror_mode": {
    "name": "ipython",
    "version": 3
   },
   "file_extension": ".py",
   "mimetype": "text/x-python",
   "name": "python",
   "nbconvert_exporter": "python",
   "pygments_lexer": "ipython3",
   "version": "3.5.2"
  }
 },
 "nbformat": 4,
 "nbformat_minor": 2
}
