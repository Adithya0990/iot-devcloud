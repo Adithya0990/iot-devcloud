{
 "cells": [
  {
   "cell_type": "code",
   "execution_count": 11,
   "metadata": {},
   "outputs": [],
   "source": [
    "import sys, os \n",
    "from pathlib import Path\n",
    "sys.path.insert(0, str(Path().resolve().parent))\n",
    "from demoTools.demoutils_tabs import *"
   ]
  },
  {
   "cell_type": "code",
   "execution_count": 12,
   "metadata": {},
   "outputs": [],
   "source": [
    "job_interface = Demo( {\n",
    "                        \"job\": # Define how to launch the job and interpret results\n",
    "                                {\n",
    "                                    \"command\": \"qsub ocr_job.sh -l nodes=1:NODE -F 'RESULTS CPU FP32'\",\n",
    "                                    \"output_type\": \".txt\",         # The type of input (text/video)\n",
    "                                    \"results_path\": \"results/\", # Path to job result files\n",
    "                                    \"results_defines\" : \"RESULTS\",\n",
    "                                    \"progress_indicators\":          # List of job progress indicators\n",
    "                                    [\n",
    "                                        { \n",
    "                                            \"file_name\": \"i_progress.txt\", # File with progress info\n",
    "                                            \"title\": \"Progress\"            # Display name in the notebook\n",
    "                                        }\n",
    "                                    ],\n",
    "                                    \"plots\":[\n",
    "                                        {\n",
    "                                            \"title\" : \"\",\n",
    "                                            \"type\" : \"time\",\n",
    "                                            \"xlabel\" : \"\",\n",
    "                                            \"ylabel\" : \"\",\n",
    "                                            \"selector\" : \"Target node\"\n",
    "                                        }\n",
    "                                    ]\n",
    "                                },\n",
    "                        \"inputs\": # Define the inputs shows in the Jupyter notebook for job configuration\n",
    "                                [\n",
    "                                    {\n",
    "                                        \"Target_node\": # Unique ID of the input\n",
    "                                            { \n",
    "                                                \"display_name\": \"Target node\",   # Displayed input name\n",
    "                                                \"type\": \"select\",                  # Input type (text/select)\n",
    "                                                \"default\" : \"tank-870\", # Default input value\n",
    "                                                \"defines\" : [\"NODE\"],\n",
    "                                                \"options\": [\n",
    "                                                    {\n",
    "                                                        \"name\": \"Select Node\", \n",
    "                                                        \"dummy\": \"True\"\n",
    "\n",
    "                                                    },\n",
    "                                                    \n",
    "                                                    {\n",
    "                                                        \"name\": \"IEI/tank-870/SKL\", \n",
    "                                                        \"defines\" :\n",
    "                                                                {\n",
    "                                                                   \"NODE\" : \"idc001skl\"\n",
    "                                                                }\n",
    "                                                    },\n",
    "                                                    {\n",
    "                                                        \"name\": \"IEI/tank-870/SKL/HDDLR\", \n",
    "                                                        \"defines\" :\n",
    "                                                                {\n",
    "                                                                   \"NODE\" : \"idc002mx8\"\n",
    "                                                                }\n",
    "                                                    },\n",
    "                                                    {\n",
    "                                                        \"name\": \"IEI/tank-870/SKL/FPGA\", \n",
    "                                                        \"defines\" :\n",
    "                                                                {\n",
    "                                                                   \"NODE\" : \"idc003a10\"\n",
    "                                                                }\n",
    "                                                    },\n",
    "                                                    {\n",
    "                                                        \"name\": \"IEI/tank-870/SKL/NCS2\", \n",
    "                                                        \"defines\" :\n",
    "                                                                {\n",
    "                                                                   \"NODE\" : \"idc004nc2\"\n",
    "                                                                }\n",
    "                                                    },\n",
    "                                                    {\n",
    "                                                        \"name\": \"IEI/tank-870/KBL\", \n",
    "                                                        \"defines\" :\n",
    "                                                                {\n",
    "                                                                   \"NODE\" : \"idc006kbl\"\n",
    "                                                                }\n",
    "                                                    },\n",
    "                                                    {\n",
    "                                                        \"name\": \"IEI/tank-870/SKL/XEON\", \n",
    "                                                        \"defines\" :\n",
    "                                                                {\n",
    "                                                                   \"NODE\" : \"idc007xv5\"\n",
    "                                                                }\n",
    "                                                    },\n",
    "                                                    {\n",
    "                                                        \"name\": \"UP-Squared\", \n",
    "                                                        \"defines\" :\n",
    "                                                                {\n",
    "                                                                   \"NODE\" : \"idc008u2g\"\n",
    "                                                                }\n",
    "                                                    },\n",
    "                    \n",
    "                                                    {\n",
    "                                                        \"name\": \"JWIP/KBL\", \n",
    "                                                        \"defines\":    \n",
    "                                                            {\n",
    "                                                                \"NODE\" : \"idc009jkl\"\n",
    "                                                            }\n",
    "                                                    },\n",
    "                                                    {\n",
    "                                                        \"name\": \"JWIP/ATOM\", \n",
    "                                                        \"defines\":    \n",
    "                                                            {\n",
    "                                                                \"NODE\" : \"idc010jal\"\n",
    "                                                            }\n",
    "                                                    }\n",
    "                                                ]\n",
    "                                        }\n",
    "                                        }\n",
    "                                    ]\n",
    "                                })"
   ]
  },
  {
   "cell_type": "code",
   "execution_count": 13,
   "metadata": {},
   "outputs": [
    {
     "data": {
      "application/vnd.jupyter.widget-view+json": {
       "model_id": "be67eb4fe4b140fe8c34e7b0cdf23ce5",
       "version_major": 2,
       "version_minor": 0
      },
      "text/plain": [
       "VBox(children=(VBox(children=(Label(value='Target node'), Select(layout=Layout(width='fixed'), options=('Selec…"
      ]
     },
     "metadata": {},
     "output_type": "display_data"
    },
    {
     "data": {
      "application/vnd.jupyter.widget-view+json": {
       "model_id": "f1c609f149774607870703f310ce2923",
       "version_major": 2,
       "version_minor": 0
      },
      "text/plain": [
       "Button(button_style='info', description='Submit', style=ButtonStyle())"
      ]
     },
     "metadata": {},
     "output_type": "display_data"
    },
    {
     "data": {
      "application/vnd.jupyter.widget-view+json": {
       "model_id": "d81d6bc2b50c454f8263ca445bd75db1",
       "version_major": 2,
       "version_minor": 0
      },
      "text/plain": [
       "VBox(children=(HTML(value='No jobs submitted yet'), Tab(), Button(button_style='info', description='Plot resul…"
      ]
     },
     "metadata": {},
     "output_type": "display_data"
    }
   ],
   "source": [
    "job_interface.displayUI()"
   ]
  },
  {
   "cell_type": "code",
   "execution_count": null,
   "metadata": {},
   "outputs": [],
   "source": []
  }
 ],
 "metadata": {
  "kernelspec": {
   "display_name": "Python 3 (Ubuntu)",
   "language": "python",
   "name": "c003-python_3"
  },
  "language_info": {
   "codemirror_mode": {
    "name": "ipython",
    "version": 3
   },
   "file_extension": ".py",
   "mimetype": "text/x-python",
   "name": "python",
   "nbconvert_exporter": "python",
   "pygments_lexer": "ipython3",
   "version": "3.5.2"
  }
 },
 "nbformat": 4,
 "nbformat_minor": 2
}
